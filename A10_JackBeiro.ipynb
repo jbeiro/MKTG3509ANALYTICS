{
  "nbformat": 4,
  "nbformat_minor": 0,
  "metadata": {
    "colab": {
      "name": "A10 JackBeiro.ipynb",
      "provenance": [],
      "collapsed_sections": []
    },
    "kernelspec": {
      "name": "python3",
      "display_name": "Python 3"
    }
  },
  "cells": [
    {
      "cell_type": "markdown",
      "metadata": {
        "id": "KPwEyELGoIzD"
      },
      "source": [
        "**Rationale** Texts have become one of the most ubiquitous forms of marketing data in the digital economy. Perhaps nowhere is this more prevalent than in the online reviews domain. In our notes, we examined how natural language processing (NLP) techniques can be applied to Yelp restaurant reviews. On this homework assignment, you will apply the same tools to mine TripAdvisor hotel reviews. This dataset includes all TripAdvisor reviews written in 2015 (through part of 2016) for high review volume Vegas resorts and was collected as part of a large web crawl of over 50 Million online reviews at over 428k worldwide hotels by your professor and his colleague, Dr. Alex Chaudhry in 2016. \n",
        "\n",
        "* [Dataset](https://drive.google.com/drive/folders/16eyzTI32aKsKiLf9oPMzL3v2U30afd01?usp=sharing)\n",
        "\n",
        "You will only need:\n",
        "* vegas_2015_reviews.csv contains the reviews \n",
        "* vegas_info.csv contains a list of venues in Vegas\n",
        "\n",
        "Get started early on this assignment, some components **take a while to run**. "
      ]
    },
    {
      "cell_type": "markdown",
      "metadata": {
        "id": "RDtd9GIbopTs"
      },
      "source": [
        "This assignment will be slightly different. Please follow all prompts.\n",
        "\n",
        "1. This is a walkthrough tutorial, mostly. I have provided you with most of the necessary code. Your job is to run it, read it, understand how it relates to NLP concepts.\n",
        "1. There are many questions throughout. You will primarily be graded on these.\n",
        "1. There are a few places where I ask you to write some code. Pay attention to every cell, make sure you don't skip a cell that you must fill in on accident. Hopefully, this foces you to read through the code thoroughly."
      ]
    },
    {
      "cell_type": "markdown",
      "metadata": {
        "id": "fQ2JaIGTmQgL"
      },
      "source": [
        "# Imports and helper functions (execute these cells first)"
      ]
    },
    {
      "cell_type": "code",
      "metadata": {
        "id": "J_ikf5j2tfCa",
        "colab": {
          "base_uri": "https://localhost:8080/"
        },
        "outputId": "5f7fd127-d351-4cfd-b519-e9208516ac7d"
      },
      "source": [
        "from google.colab import drive\n",
        "drive.mount('drive/')"
      ],
      "execution_count": 9,
      "outputs": [
        {
          "output_type": "stream",
          "name": "stdout",
          "text": [
            "Drive already mounted at drive/; to attempt to forcibly remount, call drive.mount(\"drive/\", force_remount=True).\n"
          ]
        }
      ]
    },
    {
      "cell_type": "code",
      "metadata": {
        "id": "LpFdjrLUtiZu"
      },
      "source": [
        "import pandas as pd, numpy as np, matplotlib.pyplot as plt, os\n",
        "from textblob import TextBlob \n"
      ],
      "execution_count": 10,
      "outputs": []
    },
    {
      "cell_type": "code",
      "metadata": {
        "id": "qHuXou0em8_y",
        "colab": {
          "base_uri": "https://localhost:8080/"
        },
        "outputId": "45f153ce-2928-41d7-e6a6-7de7be81bef2"
      },
      "source": [
        "# imports\n",
        "\n",
        "import nltk\n",
        "nltk.download('stopwords') # download stopwords from NLTK servers\n",
        "from nltk.corpus import stopwords # import them\n",
        "sw = stopwords.words('english')\n",
        "\n",
        "\n",
        "import pandas as pd, numpy as np, matplotlib.pyplot as plt, os, time # standard imports\n",
        "from itertools import chain\n",
        "\n",
        "# for sentiment analysis\n",
        "from textblob import TextBlob \n",
        "\n",
        "# for doing text processing and LDA\n",
        "import spacy\n",
        "from gensim.models.ldamulticore import LdaMulticore # this is the multi-core version\n",
        "from gensim import corpora # import the corpora module\n",
        "from gensim.models import Phrases\n",
        "from gensim.models import tfidfmodel\n",
        "from gensim.models.word2vec import LineSentence\n",
        "from sklearn.model_selection import train_test_split"
      ],
      "execution_count": 11,
      "outputs": [
        {
          "output_type": "stream",
          "name": "stdout",
          "text": [
            "[nltk_data] Downloading package stopwords to /root/nltk_data...\n",
            "[nltk_data]   Package stopwords is already up-to-date!\n"
          ]
        }
      ]
    },
    {
      "cell_type": "code",
      "metadata": {
        "id": "gV4n5r35nEdQ"
      },
      "source": [
        "\n",
        "# Helper Functions\n",
        "def line_doc(filename, encode = 'utf-8'):\n",
        "    \"\"\"\n",
        "    generator function to read in reviews from the file\n",
        "    and un-escape the original line breaks in the text\n",
        "    \"\"\"\n",
        "    with open(filename, 'r', encoding = encode) as f:\n",
        "        for txt in f:\n",
        "            # yield returns next line\n",
        "            yield txt.replace('\\\\n', '\\n')\n",
        "            # and get rid of any line breaks\n",
        "\n",
        "# parsing to be done per sentence\n",
        "def lemmatize(s, exclude):\n",
        "    return [w.lemma_.lower() for w in s if (w.lemma_ not in exclude)&(~w.is_punct)]\n",
        "\n",
        "\n",
        "# next will be a function that will pass a filename to the line_doc function\n",
        "# and generate the parsed versions of ***EVERY SENTENCE***\n",
        "# this function streams a file at filename and yields one parsed sentence at a time\n",
        "def lemmatize_sentence_corpus(filename,nlp, batch_size, n_threads, sw=[], exclusions=[], encode = 'utf-8'):\n",
        "    nlp.disable_pipes([\"ner\"]) # disable ner and tagger makes it a little faster\n",
        "    # batch_size is the number of documents to parse in memory at a time\n",
        "    # n_threads it the number of parallel (simultaneous processes to run)\n",
        "    # n_threads is limited by the number of virtual cpu's on the system\n",
        "    # the default free Colab system has only 2 virtual cores\n",
        "    # most modern computers have at least 4\n",
        "    exclude = set(sw + exclusions)\n",
        "    for parsed_txt in nlp.pipe(line_doc(filename, encode = encode),batch_size=batch_size, n_threads=n_threads):\n",
        "            for sent in parsed_txt.sents:\n",
        "                yield ' '.join(lemmatize(sent, exclude))\n",
        "\n",
        "\n",
        "def write_parsed_sentence_corpus(readfile, writefile, nlp, batch_size, n_threads, sw=[], exclusions =[], encode = 'utf-8'):\n",
        "    streamingfile = lemmatize_sentence_corpus(readfile,nlp, batch_size, n_threads, sw=sw, exclusions=exclusions, encode = encode)\n",
        "    with open(writefile, 'w', encoding = encode) as f:\n",
        "        for sentence in streamingfile:\n",
        "            if len(sentence)>0: # write sentence if includes non stopwords\n",
        "                f.write(sentence+'\\n')\n",
        "    print('Success')\n",
        "\n",
        "\n",
        "def phrase_detection(parsedfile, folderpath, passes = 2, returnmodels = True,threshold=10., encode = 'utf-8'):\n",
        "    \"\"\"\n",
        "    parsedfile is the file location and name of the parsed sentence file\n",
        "    folderpath is where the models and phrase detected texts need to be stored\n",
        "\n",
        "    This function does phrase modeling. User specifies the number of passes.\n",
        "    Each additional pass detects longer phrases. The maximum detectable phrase length for\n",
        "    each pass, n, is 2^n.\n",
        "    Returns the list of models by default. Also saves models and intermediary\n",
        "    phrased sentences for each pass.\n",
        "    \"\"\"\n",
        "    ngram = list()\n",
        "    for it in range(passes):\n",
        "        gen = LineSentence(parsedfile)\n",
        "        gram=Phrases(gen, threshold = threshold)\n",
        "        ngram.append(gram)\n",
        "        modelpath = folderpath+'phrase_model_{}.phrasemodel'.format(it+1)\n",
        "        textpath = folderpath+'sent_gram_{}.txt'.format(it+1)\n",
        "        parsedfile = textpath\n",
        "        gram.save(modelpath)\n",
        "        # Write sentence n-gram\n",
        "        with open(textpath, 'w', encoding=encode) as f:\n",
        "            for sent in gen:\n",
        "                new_sent = ' '.join(gram[sent])\n",
        "                f.write(new_sent + '\\n')\n",
        "\n",
        "    if returnmodels == True:\n",
        "        return ngram\n",
        "\n",
        "\n",
        "def phrase_prediction(rawfilepath, outpath,nlp, grams, sw =[], exclusions = [], batch_size = 500, n_threads = 2, encode = 'utf-8'):\n",
        "    \"\"\"\n",
        "    rawfilepath is where the raw reviews (where 1 line = 1 review) are saved \n",
        "    outpath is where to save the resulting parsed and phrase modeled reviews\n",
        "    nlp is the spacy parser object\n",
        "    grams is a list of phrasemodels\n",
        "    sw is a list of stopwords\n",
        "    exclusions are additional words to exclude\n",
        "\n",
        "    \"\"\"\n",
        "    with open(outpath, 'w', encoding = encode) as f:\n",
        "        \n",
        "        nlp.disable_pipes([\"ner\"]) # disable ner and tagger makes it a little faster\n",
        "        exclude = set(sw + exclusions)\n",
        "        \n",
        "        for parsed_txt in nlp.pipe(line_doc(rawfilepath, encode = encode),batch_size=batch_size, n_threads=n_threads):\n",
        "            doc = list()\n",
        "            for sent in parsed_txt.sents:\n",
        "                parsed = lemmatize(sent, exclude)\n",
        "                for gram in grams: # loop through phrase models\n",
        "                    parsed = gram[parsed] # apply phrase model transformation to sentence\n",
        "                doc.append(' '.join(parsed).strip()) # append resulting phrase modeled sentence to list \"doc\"\n",
        "            # write the transformed review as a single line in the new file\n",
        "            txt_gram = ' '.join(doc).strip() # join all sentences in doc together as txt_gram\n",
        "            f.write(txt_gram + '\\n') # write the entire phrase modeled and parsed doc as one line in file"
      ],
      "execution_count": 12,
      "outputs": []
    },
    {
      "cell_type": "markdown",
      "metadata": {
        "id": "nXCg7OX2nMPr"
      },
      "source": [
        "# Put together the dataset (1 point)"
      ]
    },
    {
      "cell_type": "code",
      "metadata": {
        "id": "Lo4zawFItov6",
        "colab": {
          "base_uri": "https://localhost:8080/"
        },
        "outputId": "045a85e8-a55e-49e7-f42f-abb8dffeec5d"
      },
      "source": [
        "fpath = 'drive/MyDrive/MKTG3509/Data Sets/' # change this filepath\n",
        "os.listdir(fpath)"
      ],
      "execution_count": 13,
      "outputs": [
        {
          "output_type": "execute_result",
          "data": {
            "text/plain": [
              "['Avocado.xlsx',\n",
              " 'quebec_biz.csv',\n",
              " 'quebec_yelp_reviews.csv',\n",
              " 'goodDataSet.csv',\n",
              " 'renttherunway_final_data.json',\n",
              " 'telecom_churn.csv',\n",
              " 'starbucks_promos.csv',\n",
              " 'facebook_ads.csv',\n",
              " 'temple_traffic.csv',\n",
              " 'avocado.csv',\n",
              " 'online_invoices.csv',\n",
              " 'vegas2015reviews.csv',\n",
              " 'vegas_vinfo.csv']"
            ]
          },
          "metadata": {},
          "execution_count": 13
        }
      ]
    },
    {
      "cell_type": "code",
      "metadata": {
        "id": "adDi-gF9yrh-",
        "colab": {
          "base_uri": "https://localhost:8080/",
          "height": 677
        },
        "outputId": "569ec7f7-ca34-43fa-fdea-02bbe16c70c7"
      },
      "source": [
        "# read in the vegas_vinfo file (vegas venue info)\n",
        "df_biz = pd.read_csv(fpath + 'vegas_vinfo.csv', index_col = 0)\n",
        "df_biz.head()"
      ],
      "execution_count": 14,
      "outputs": [
        {
          "output_type": "execute_result",
          "data": {
            "text/html": [
              "<div>\n",
              "<style scoped>\n",
              "    .dataframe tbody tr th:only-of-type {\n",
              "        vertical-align: middle;\n",
              "    }\n",
              "\n",
              "    .dataframe tbody tr th {\n",
              "        vertical-align: top;\n",
              "    }\n",
              "\n",
              "    .dataframe thead th {\n",
              "        text-align: right;\n",
              "    }\n",
              "</style>\n",
              "<table border=\"1\" class=\"dataframe\">\n",
              "  <thead>\n",
              "    <tr style=\"text-align: right;\">\n",
              "      <th></th>\n",
              "      <th>ranking</th>\n",
              "      <th>rating_vol</th>\n",
              "      <th>rdetails</th>\n",
              "      <th>lnglat</th>\n",
              "      <th>rsubrating</th>\n",
              "      <th>vtype</th>\n",
              "      <th>amenities</th>\n",
              "      <th>details</th>\n",
              "      <th>v_name</th>\n",
              "      <th>rating_cat</th>\n",
              "      <th>gd</th>\n",
              "    </tr>\n",
              "  </thead>\n",
              "  <tbody>\n",
              "    <tr>\n",
              "      <th>0</th>\n",
              "      <td>[10, 33]</td>\n",
              "      <td>60.0</td>\n",
              "      <td>NaN</td>\n",
              "      <td>[-115.06332, 36.1191]</td>\n",
              "      <td>{}</td>\n",
              "      <td>Hotel_Review</td>\n",
              "      <td>{'Services': 'Free Parking Banquet Room Self-S...</td>\n",
              "      <td>{'Number of rooms:': '398 ', 'Address:': '3890...</td>\n",
              "      <td>Las Vegas RV Resort</td>\n",
              "      <td>4.0</td>\n",
              "      <td>g45963-d3600552</td>\n",
              "    </tr>\n",
              "    <tr>\n",
              "      <th>1</th>\n",
              "      <td>[209, 267]</td>\n",
              "      <td>63.0</td>\n",
              "      <td>NaN</td>\n",
              "      <td>[-115.08308, 36.127922]</td>\n",
              "      <td>{}</td>\n",
              "      <td>Hotel_Review</td>\n",
              "      <td>{'Things to do': 'Pool Fitness Center with Gym...</td>\n",
              "      <td>{'Address:': '4240 Boulder Hwy, Las Vegas, NV ...</td>\n",
              "      <td>Crossland Economy Studios - Las Vegas - Boulde...</td>\n",
              "      <td>2.5</td>\n",
              "      <td>g45963-d97850</td>\n",
              "    </tr>\n",
              "    <tr>\n",
              "      <th>2</th>\n",
              "      <td>[197, 267]</td>\n",
              "      <td>100.0</td>\n",
              "      <td>NaN</td>\n",
              "      <td>[-115.19604, 36.20166]</td>\n",
              "      <td>{}</td>\n",
              "      <td>Hotel_Review</td>\n",
              "      <td>{'Room types': 'Non-Smoking Rooms ', 'Services...</td>\n",
              "      <td>{'Address:': '2400 N Rancho Dr, Las Vegas, NV ...</td>\n",
              "      <td>Fiesta Rancho Hotel and Casino</td>\n",
              "      <td>2.5</td>\n",
              "      <td>g45963-d121329</td>\n",
              "    </tr>\n",
              "    <tr>\n",
              "      <th>3</th>\n",
              "      <td>[228, 267]</td>\n",
              "      <td>27.0</td>\n",
              "      <td>NaN</td>\n",
              "      <td>[-115.19868, 36.201473]</td>\n",
              "      <td>{}</td>\n",
              "      <td>Hotel_Review</td>\n",
              "      <td>{'Things to do': 'Pool ', 'About the property'...</td>\n",
              "      <td>{'Also Known As:': 'Budget Suites Of America N...</td>\n",
              "      <td>Budget Suites of America North Rancho Drive</td>\n",
              "      <td>1.5</td>\n",
              "      <td>g45963-d91750</td>\n",
              "    </tr>\n",
              "    <tr>\n",
              "      <th>4</th>\n",
              "      <td>[1, 33]</td>\n",
              "      <td>271.0</td>\n",
              "      <td>NaN</td>\n",
              "      <td>[-115.1785, 36.040703]</td>\n",
              "      <td>{}</td>\n",
              "      <td>Hotel_Review</td>\n",
              "      <td>{'Services': 'Self-Serve Laundry Free Parking ...</td>\n",
              "      <td>{'Also Known As:': 'Oasis Las Vegas Rv Hotel L...</td>\n",
              "      <td>Oasis Las Vegas RV Resort</td>\n",
              "      <td>4.5</td>\n",
              "      <td>g45963-d226809</td>\n",
              "    </tr>\n",
              "  </tbody>\n",
              "</table>\n",
              "</div>"
            ],
            "text/plain": [
              "      ranking  rating_vol  ...  rating_cat               gd\n",
              "0    [10, 33]        60.0  ...         4.0  g45963-d3600552\n",
              "1  [209, 267]        63.0  ...         2.5    g45963-d97850\n",
              "2  [197, 267]       100.0  ...         2.5   g45963-d121329\n",
              "3  [228, 267]        27.0  ...         1.5    g45963-d91750\n",
              "4     [1, 33]       271.0  ...         4.5   g45963-d226809\n",
              "\n",
              "[5 rows x 11 columns]"
            ]
          },
          "metadata": {},
          "execution_count": 14
        }
      ]
    },
    {
      "cell_type": "markdown",
      "metadata": {
        "id": "kbjtLQLXpNGr"
      },
      "source": [
        "Variable definitions\n",
        "1. ranking: list [hotel rank, total hotels in neighborhood]\n",
        "1. rating_vol: total ratings\n",
        "1. rdetails: ignore, none of hotels have this field (only restaurants do)\n",
        "1. lnglat: [longitude,latitude] of hotel\n",
        "1. rsubrating: ignore, only restaurants have this\n",
        "1. amenities: a dictionary of amenities categories mapped to amenities list\n",
        "1. details: a dictionary of hotel information fields mapped to hotel data (like addrese, phone, website, etc.)\n",
        "1. v_name: the official name of the hotel \n",
        "1. rating_cat: The summary star rating (in half star increments) displayed to the user. \n",
        "1. gd: The unique hotel identifier."
      ]
    },
    {
      "cell_type": "code",
      "metadata": {
        "id": "Or-scSN3d5iJ",
        "colab": {
          "base_uri": "https://localhost:8080/"
        },
        "outputId": "fc8da073-9fee-4da2-b93d-3d44d7b586b8"
      },
      "source": [
        "# return the shape of df_biz:\n",
        "df_biz.shape"
      ],
      "execution_count": 15,
      "outputs": [
        {
          "output_type": "execute_result",
          "data": {
            "text/plain": [
              "(237, 11)"
            ]
          },
          "metadata": {},
          "execution_count": 15
        }
      ]
    },
    {
      "cell_type": "code",
      "metadata": {
        "id": "ygm_bvoeneF3",
        "colab": {
          "base_uri": "https://localhost:8080/",
          "height": 677
        },
        "outputId": "d3821b7e-e6fc-4625-91b1-570c89caf04b"
      },
      "source": [
        "# preview df_biz\n",
        "df_biz.head()"
      ],
      "execution_count": 16,
      "outputs": [
        {
          "output_type": "execute_result",
          "data": {
            "text/html": [
              "<div>\n",
              "<style scoped>\n",
              "    .dataframe tbody tr th:only-of-type {\n",
              "        vertical-align: middle;\n",
              "    }\n",
              "\n",
              "    .dataframe tbody tr th {\n",
              "        vertical-align: top;\n",
              "    }\n",
              "\n",
              "    .dataframe thead th {\n",
              "        text-align: right;\n",
              "    }\n",
              "</style>\n",
              "<table border=\"1\" class=\"dataframe\">\n",
              "  <thead>\n",
              "    <tr style=\"text-align: right;\">\n",
              "      <th></th>\n",
              "      <th>ranking</th>\n",
              "      <th>rating_vol</th>\n",
              "      <th>rdetails</th>\n",
              "      <th>lnglat</th>\n",
              "      <th>rsubrating</th>\n",
              "      <th>vtype</th>\n",
              "      <th>amenities</th>\n",
              "      <th>details</th>\n",
              "      <th>v_name</th>\n",
              "      <th>rating_cat</th>\n",
              "      <th>gd</th>\n",
              "    </tr>\n",
              "  </thead>\n",
              "  <tbody>\n",
              "    <tr>\n",
              "      <th>0</th>\n",
              "      <td>[10, 33]</td>\n",
              "      <td>60.0</td>\n",
              "      <td>NaN</td>\n",
              "      <td>[-115.06332, 36.1191]</td>\n",
              "      <td>{}</td>\n",
              "      <td>Hotel_Review</td>\n",
              "      <td>{'Services': 'Free Parking Banquet Room Self-S...</td>\n",
              "      <td>{'Number of rooms:': '398 ', 'Address:': '3890...</td>\n",
              "      <td>Las Vegas RV Resort</td>\n",
              "      <td>4.0</td>\n",
              "      <td>g45963-d3600552</td>\n",
              "    </tr>\n",
              "    <tr>\n",
              "      <th>1</th>\n",
              "      <td>[209, 267]</td>\n",
              "      <td>63.0</td>\n",
              "      <td>NaN</td>\n",
              "      <td>[-115.08308, 36.127922]</td>\n",
              "      <td>{}</td>\n",
              "      <td>Hotel_Review</td>\n",
              "      <td>{'Things to do': 'Pool Fitness Center with Gym...</td>\n",
              "      <td>{'Address:': '4240 Boulder Hwy, Las Vegas, NV ...</td>\n",
              "      <td>Crossland Economy Studios - Las Vegas - Boulde...</td>\n",
              "      <td>2.5</td>\n",
              "      <td>g45963-d97850</td>\n",
              "    </tr>\n",
              "    <tr>\n",
              "      <th>2</th>\n",
              "      <td>[197, 267]</td>\n",
              "      <td>100.0</td>\n",
              "      <td>NaN</td>\n",
              "      <td>[-115.19604, 36.20166]</td>\n",
              "      <td>{}</td>\n",
              "      <td>Hotel_Review</td>\n",
              "      <td>{'Room types': 'Non-Smoking Rooms ', 'Services...</td>\n",
              "      <td>{'Address:': '2400 N Rancho Dr, Las Vegas, NV ...</td>\n",
              "      <td>Fiesta Rancho Hotel and Casino</td>\n",
              "      <td>2.5</td>\n",
              "      <td>g45963-d121329</td>\n",
              "    </tr>\n",
              "    <tr>\n",
              "      <th>3</th>\n",
              "      <td>[228, 267]</td>\n",
              "      <td>27.0</td>\n",
              "      <td>NaN</td>\n",
              "      <td>[-115.19868, 36.201473]</td>\n",
              "      <td>{}</td>\n",
              "      <td>Hotel_Review</td>\n",
              "      <td>{'Things to do': 'Pool ', 'About the property'...</td>\n",
              "      <td>{'Also Known As:': 'Budget Suites Of America N...</td>\n",
              "      <td>Budget Suites of America North Rancho Drive</td>\n",
              "      <td>1.5</td>\n",
              "      <td>g45963-d91750</td>\n",
              "    </tr>\n",
              "    <tr>\n",
              "      <th>4</th>\n",
              "      <td>[1, 33]</td>\n",
              "      <td>271.0</td>\n",
              "      <td>NaN</td>\n",
              "      <td>[-115.1785, 36.040703]</td>\n",
              "      <td>{}</td>\n",
              "      <td>Hotel_Review</td>\n",
              "      <td>{'Services': 'Self-Serve Laundry Free Parking ...</td>\n",
              "      <td>{'Also Known As:': 'Oasis Las Vegas Rv Hotel L...</td>\n",
              "      <td>Oasis Las Vegas RV Resort</td>\n",
              "      <td>4.5</td>\n",
              "      <td>g45963-d226809</td>\n",
              "    </tr>\n",
              "  </tbody>\n",
              "</table>\n",
              "</div>"
            ],
            "text/plain": [
              "      ranking  rating_vol  ...  rating_cat               gd\n",
              "0    [10, 33]        60.0  ...         4.0  g45963-d3600552\n",
              "1  [209, 267]        63.0  ...         2.5    g45963-d97850\n",
              "2  [197, 267]       100.0  ...         2.5   g45963-d121329\n",
              "3  [228, 267]        27.0  ...         1.5    g45963-d91750\n",
              "4     [1, 33]       271.0  ...         4.5   g45963-d226809\n",
              "\n",
              "[5 rows x 11 columns]"
            ]
          },
          "metadata": {},
          "execution_count": 16
        }
      ]
    },
    {
      "cell_type": "markdown",
      "metadata": {
        "id": "hcYaXxKvnjFW"
      },
      "source": [
        "**Answer these**\n",
        "1. What does 1 row of `df_biz` represent (e.g., reviewers, hotels, cities, etc.)? **It represents the hotel being reviewed** \\\n",
        "1. How many hotels are in this dataset? **237 Hotels**\n"
      ]
    },
    {
      "cell_type": "code",
      "metadata": {
        "id": "A-RoSIxhtulp"
      },
      "source": [
        "# read in the vegas2015reviews.csv file\n",
        "df = pd.read_csv(fpath + 'vegas2015reviews.csv', index_col = 0)"
      ],
      "execution_count": 17,
      "outputs": []
    },
    {
      "cell_type": "code",
      "metadata": {
        "colab": {
          "base_uri": "https://localhost:8080/",
          "height": 573
        },
        "id": "fx8q46i-8One",
        "outputId": "b96fc036-4604-4210-d22f-96be34c684a7"
      },
      "source": [
        "df.head()"
      ],
      "execution_count": 18,
      "outputs": [
        {
          "output_type": "execute_result",
          "data": {
            "text/html": [
              "<div>\n",
              "<style scoped>\n",
              "    .dataframe tbody tr th:only-of-type {\n",
              "        vertical-align: middle;\n",
              "    }\n",
              "\n",
              "    .dataframe tbody tr th {\n",
              "        vertical-align: top;\n",
              "    }\n",
              "\n",
              "    .dataframe thead th {\n",
              "        text-align: right;\n",
              "    }\n",
              "</style>\n",
              "<table border=\"1\" class=\"dataframe\">\n",
              "  <thead>\n",
              "    <tr style=\"text-align: right;\">\n",
              "      <th></th>\n",
              "      <th>gd</th>\n",
              "      <th>helpful_num</th>\n",
              "      <th>location</th>\n",
              "      <th>mgrRspnDummy</th>\n",
              "      <th>mgr_res_date</th>\n",
              "      <th>mrtext</th>\n",
              "      <th>ratingDate</th>\n",
              "      <th>review_id</th>\n",
              "      <th>reviewrating</th>\n",
              "      <th>reviewtext</th>\n",
              "      <th>reviewtitle</th>\n",
              "      <th>stay_month</th>\n",
              "      <th>stay_year</th>\n",
              "      <th>travel_category</th>\n",
              "      <th>username</th>\n",
              "    </tr>\n",
              "  </thead>\n",
              "  <tbody>\n",
              "    <tr>\n",
              "      <th>15044</th>\n",
              "      <td>g45963-d1123368</td>\n",
              "      <td>NaN</td>\n",
              "      <td>Walnut Creek, California</td>\n",
              "      <td>0</td>\n",
              "      <td>NaN</td>\n",
              "      <td>NaN</td>\n",
              "      <td>2015-07-01</td>\n",
              "      <td>284818340</td>\n",
              "      <td>5</td>\n",
              "      <td>An excellent property! The rooms are very nice...</td>\n",
              "      <td>“At the top of its game”</td>\n",
              "      <td>6.0</td>\n",
              "      <td>2015.0</td>\n",
              "      <td>business</td>\n",
              "      <td>cadby</td>\n",
              "    </tr>\n",
              "    <tr>\n",
              "      <th>15045</th>\n",
              "      <td>g45963-d1123368</td>\n",
              "      <td>NaN</td>\n",
              "      <td>Maidstone, United Kingdom</td>\n",
              "      <td>0</td>\n",
              "      <td>NaN</td>\n",
              "      <td>NaN</td>\n",
              "      <td>2015-07-01</td>\n",
              "      <td>284776986</td>\n",
              "      <td>5</td>\n",
              "      <td>My first visit to Las Vegas and WOW!! Whilst a...</td>\n",
              "      <td>“ wow!! ”</td>\n",
              "      <td>9.0</td>\n",
              "      <td>2014.0</td>\n",
              "      <td>couple</td>\n",
              "      <td>Sonia H</td>\n",
              "    </tr>\n",
              "    <tr>\n",
              "      <th>15046</th>\n",
              "      <td>g45963-d1123368</td>\n",
              "      <td>NaN</td>\n",
              "      <td>Brussels</td>\n",
              "      <td>0</td>\n",
              "      <td>NaN</td>\n",
              "      <td>NaN</td>\n",
              "      <td>2015-06-30</td>\n",
              "      <td>284187374</td>\n",
              "      <td>5</td>\n",
              "      <td>Some of the most beautiful hotel rooms in the ...</td>\n",
              "      <td>“ Mass market but luxery hotel at north end of...</td>\n",
              "      <td>6.0</td>\n",
              "      <td>2015.0</td>\n",
              "      <td>couple</td>\n",
              "      <td>Globaliser</td>\n",
              "    </tr>\n",
              "    <tr>\n",
              "      <th>15047</th>\n",
              "      <td>g45963-d1123368</td>\n",
              "      <td>NaN</td>\n",
              "      <td>Colchester, United Kingdom</td>\n",
              "      <td>0</td>\n",
              "      <td>NaN</td>\n",
              "      <td>NaN</td>\n",
              "      <td>2015-06-13</td>\n",
              "      <td>279887884</td>\n",
              "      <td>5</td>\n",
              "      <td>This Hotel is exceptional, its beautifully set...</td>\n",
              "      <td>“ Highlight of Vegas ”</td>\n",
              "      <td>5.0</td>\n",
              "      <td>2015.0</td>\n",
              "      <td>couple</td>\n",
              "      <td>Sharcoates</td>\n",
              "    </tr>\n",
              "    <tr>\n",
              "      <th>15058</th>\n",
              "      <td>g45963-d1123368</td>\n",
              "      <td>NaN</td>\n",
              "      <td>Denver, Colorado, United States</td>\n",
              "      <td>0</td>\n",
              "      <td>NaN</td>\n",
              "      <td>NaN</td>\n",
              "      <td>2015-06-13</td>\n",
              "      <td>279841140</td>\n",
              "      <td>5</td>\n",
              "      <td>My husband and I stayed here during a trip,to ...</td>\n",
              "      <td>“ Beautiful hotel, great location ”</td>\n",
              "      <td>6.0</td>\n",
              "      <td>2015.0</td>\n",
              "      <td>couple</td>\n",
              "      <td>Kimberly A</td>\n",
              "    </tr>\n",
              "  </tbody>\n",
              "</table>\n",
              "</div>"
            ],
            "text/plain": [
              "                    gd  helpful_num  ... travel_category    username\n",
              "15044  g45963-d1123368          NaN  ...        business       cadby\n",
              "15045  g45963-d1123368          NaN  ...          couple     Sonia H\n",
              "15046  g45963-d1123368          NaN  ...          couple  Globaliser\n",
              "15047  g45963-d1123368          NaN  ...          couple  Sharcoates\n",
              "15058  g45963-d1123368          NaN  ...          couple  Kimberly A\n",
              "\n",
              "[5 rows x 15 columns]"
            ]
          },
          "metadata": {},
          "execution_count": 18
        }
      ]
    },
    {
      "cell_type": "markdown",
      "metadata": {
        "id": "RpBfqV4rEyno"
      },
      "source": [
        "Variable definitions\n",
        "\n",
        "1. gd: hotel identifier\n",
        "1. helpful_num: number of helpful votes\n",
        "1. location: location of the reviewer\n",
        "1. mgrRspnDummy: whether a manager responded to the review\n",
        "1. mgr_res_date: when the manager responded\n",
        "1. mrtext: reply of the manager\n",
        "1. ratingDate: when the review was written\n",
        "1. review_id: unique identifer for each review\n",
        "1. reviewrating: rationg (1-5) given by the reviewer\n",
        "1. reviewtext: the text of the review\n",
        "1. reviewtitle: title of the review\n",
        "1. stay_month: 1-12 month of the stay\n",
        "1. stay_year: year of the stay\n",
        "1. travel_category: stated purpose of the stay\n",
        "1. username: user's tripadvisor screen name"
      ]
    },
    {
      "cell_type": "code",
      "metadata": {
        "id": "nnpy50gJoFbq"
      },
      "source": [
        "# convert ratingDate column to pandas datetime format using the pd.to_datetime function\n",
        "df.ratingDate = pd.to_datetime(df.ratingDate)"
      ],
      "execution_count": 19,
      "outputs": []
    },
    {
      "cell_type": "code",
      "metadata": {
        "id": "CCTgIq2koMiQ",
        "colab": {
          "base_uri": "https://localhost:8080/"
        },
        "outputId": "398e1cd2-cca4-4379-d994-37c884452081"
      },
      "source": [
        "df.ratingDate# check the ratingDate column to ensure the data are now pandas timestamps\n"
      ],
      "execution_count": 20,
      "outputs": [
        {
          "output_type": "execute_result",
          "data": {
            "text/plain": [
              "15044    2015-07-01\n",
              "15045    2015-07-01\n",
              "15046    2015-06-30\n",
              "15047    2015-06-13\n",
              "15058    2015-06-13\n",
              "            ...    \n",
              "904218   2015-03-15\n",
              "904229   2015-03-15\n",
              "904240   2015-03-15\n",
              "904251   2015-03-15\n",
              "904262   2015-03-14\n",
              "Name: ratingDate, Length: 46644, dtype: datetime64[ns]"
            ]
          },
          "metadata": {},
          "execution_count": 20
        }
      ]
    },
    {
      "cell_type": "code",
      "metadata": {
        "id": "To0eDV4W2XUk",
        "colab": {
          "base_uri": "https://localhost:8080/"
        },
        "outputId": "642f7d68-5b24-4704-9108-a7d8a0b09973"
      },
      "source": [
        "# get the shape of the dataframe df\n",
        "df.shape"
      ],
      "execution_count": 21,
      "outputs": [
        {
          "output_type": "execute_result",
          "data": {
            "text/plain": [
              "(46644, 15)"
            ]
          },
          "metadata": {},
          "execution_count": 21
        }
      ]
    },
    {
      "cell_type": "code",
      "metadata": {
        "id": "Fj2p-EKSowid",
        "colab": {
          "base_uri": "https://localhost:8080/",
          "height": 573
        },
        "outputId": "7995df2f-25b5-4aca-b4d9-5e6e265c3f1a"
      },
      "source": [
        "# preview df\n",
        "df.head()"
      ],
      "execution_count": 22,
      "outputs": [
        {
          "output_type": "execute_result",
          "data": {
            "text/html": [
              "<div>\n",
              "<style scoped>\n",
              "    .dataframe tbody tr th:only-of-type {\n",
              "        vertical-align: middle;\n",
              "    }\n",
              "\n",
              "    .dataframe tbody tr th {\n",
              "        vertical-align: top;\n",
              "    }\n",
              "\n",
              "    .dataframe thead th {\n",
              "        text-align: right;\n",
              "    }\n",
              "</style>\n",
              "<table border=\"1\" class=\"dataframe\">\n",
              "  <thead>\n",
              "    <tr style=\"text-align: right;\">\n",
              "      <th></th>\n",
              "      <th>gd</th>\n",
              "      <th>helpful_num</th>\n",
              "      <th>location</th>\n",
              "      <th>mgrRspnDummy</th>\n",
              "      <th>mgr_res_date</th>\n",
              "      <th>mrtext</th>\n",
              "      <th>ratingDate</th>\n",
              "      <th>review_id</th>\n",
              "      <th>reviewrating</th>\n",
              "      <th>reviewtext</th>\n",
              "      <th>reviewtitle</th>\n",
              "      <th>stay_month</th>\n",
              "      <th>stay_year</th>\n",
              "      <th>travel_category</th>\n",
              "      <th>username</th>\n",
              "    </tr>\n",
              "  </thead>\n",
              "  <tbody>\n",
              "    <tr>\n",
              "      <th>15044</th>\n",
              "      <td>g45963-d1123368</td>\n",
              "      <td>NaN</td>\n",
              "      <td>Walnut Creek, California</td>\n",
              "      <td>0</td>\n",
              "      <td>NaN</td>\n",
              "      <td>NaN</td>\n",
              "      <td>2015-07-01</td>\n",
              "      <td>284818340</td>\n",
              "      <td>5</td>\n",
              "      <td>An excellent property! The rooms are very nice...</td>\n",
              "      <td>“At the top of its game”</td>\n",
              "      <td>6.0</td>\n",
              "      <td>2015.0</td>\n",
              "      <td>business</td>\n",
              "      <td>cadby</td>\n",
              "    </tr>\n",
              "    <tr>\n",
              "      <th>15045</th>\n",
              "      <td>g45963-d1123368</td>\n",
              "      <td>NaN</td>\n",
              "      <td>Maidstone, United Kingdom</td>\n",
              "      <td>0</td>\n",
              "      <td>NaN</td>\n",
              "      <td>NaN</td>\n",
              "      <td>2015-07-01</td>\n",
              "      <td>284776986</td>\n",
              "      <td>5</td>\n",
              "      <td>My first visit to Las Vegas and WOW!! Whilst a...</td>\n",
              "      <td>“ wow!! ”</td>\n",
              "      <td>9.0</td>\n",
              "      <td>2014.0</td>\n",
              "      <td>couple</td>\n",
              "      <td>Sonia H</td>\n",
              "    </tr>\n",
              "    <tr>\n",
              "      <th>15046</th>\n",
              "      <td>g45963-d1123368</td>\n",
              "      <td>NaN</td>\n",
              "      <td>Brussels</td>\n",
              "      <td>0</td>\n",
              "      <td>NaN</td>\n",
              "      <td>NaN</td>\n",
              "      <td>2015-06-30</td>\n",
              "      <td>284187374</td>\n",
              "      <td>5</td>\n",
              "      <td>Some of the most beautiful hotel rooms in the ...</td>\n",
              "      <td>“ Mass market but luxery hotel at north end of...</td>\n",
              "      <td>6.0</td>\n",
              "      <td>2015.0</td>\n",
              "      <td>couple</td>\n",
              "      <td>Globaliser</td>\n",
              "    </tr>\n",
              "    <tr>\n",
              "      <th>15047</th>\n",
              "      <td>g45963-d1123368</td>\n",
              "      <td>NaN</td>\n",
              "      <td>Colchester, United Kingdom</td>\n",
              "      <td>0</td>\n",
              "      <td>NaN</td>\n",
              "      <td>NaN</td>\n",
              "      <td>2015-06-13</td>\n",
              "      <td>279887884</td>\n",
              "      <td>5</td>\n",
              "      <td>This Hotel is exceptional, its beautifully set...</td>\n",
              "      <td>“ Highlight of Vegas ”</td>\n",
              "      <td>5.0</td>\n",
              "      <td>2015.0</td>\n",
              "      <td>couple</td>\n",
              "      <td>Sharcoates</td>\n",
              "    </tr>\n",
              "    <tr>\n",
              "      <th>15058</th>\n",
              "      <td>g45963-d1123368</td>\n",
              "      <td>NaN</td>\n",
              "      <td>Denver, Colorado, United States</td>\n",
              "      <td>0</td>\n",
              "      <td>NaN</td>\n",
              "      <td>NaN</td>\n",
              "      <td>2015-06-13</td>\n",
              "      <td>279841140</td>\n",
              "      <td>5</td>\n",
              "      <td>My husband and I stayed here during a trip,to ...</td>\n",
              "      <td>“ Beautiful hotel, great location ”</td>\n",
              "      <td>6.0</td>\n",
              "      <td>2015.0</td>\n",
              "      <td>couple</td>\n",
              "      <td>Kimberly A</td>\n",
              "    </tr>\n",
              "  </tbody>\n",
              "</table>\n",
              "</div>"
            ],
            "text/plain": [
              "                    gd  helpful_num  ... travel_category    username\n",
              "15044  g45963-d1123368          NaN  ...        business       cadby\n",
              "15045  g45963-d1123368          NaN  ...          couple     Sonia H\n",
              "15046  g45963-d1123368          NaN  ...          couple  Globaliser\n",
              "15047  g45963-d1123368          NaN  ...          couple  Sharcoates\n",
              "15058  g45963-d1123368          NaN  ...          couple  Kimberly A\n",
              "\n",
              "[5 rows x 15 columns]"
            ]
          },
          "metadata": {},
          "execution_count": 22
        }
      ]
    },
    {
      "cell_type": "code",
      "metadata": {
        "id": "uAKT30tkop86",
        "colab": {
          "base_uri": "https://localhost:8080/"
        },
        "outputId": "5df45ded-2bdf-4a60-b410-dbe019a95cbb"
      },
      "source": [
        "# look at the columns of df (e.g. df.columns)\n",
        "df.columns"
      ],
      "execution_count": 23,
      "outputs": [
        {
          "output_type": "execute_result",
          "data": {
            "text/plain": [
              "Index(['gd', 'helpful_num', 'location', 'mgrRspnDummy', 'mgr_res_date',\n",
              "       'mrtext', 'ratingDate', 'review_id', 'reviewrating', 'reviewtext',\n",
              "       'reviewtitle', 'stay_month', 'stay_year', 'travel_category',\n",
              "       'username'],\n",
              "      dtype='object')"
            ]
          },
          "metadata": {},
          "execution_count": 23
        }
      ]
    },
    {
      "cell_type": "code",
      "metadata": {
        "id": "E5RJLe-DoyWq",
        "colab": {
          "base_uri": "https://localhost:8080/"
        },
        "outputId": "e613df22-e8cd-4c08-998e-018bae5add17"
      },
      "source": [
        "# what are the columns that belong to both df and df_biz?\n",
        "set(df.columns).intersection(set(df_biz.columns))"
      ],
      "execution_count": 24,
      "outputs": [
        {
          "output_type": "execute_result",
          "data": {
            "text/plain": [
              "{'gd'}"
            ]
          },
          "metadata": {},
          "execution_count": 24
        }
      ]
    },
    {
      "cell_type": "markdown",
      "metadata": {
        "id": "XhMYdN6jocJ8"
      },
      "source": [
        "**Answer this**\n",
        "\n",
        "Which variable or variables will allow you to merge df with df_biz? **variable 'gd'**"
      ]
    },
    {
      "cell_type": "code",
      "metadata": {
        "id": "QrZclScpyvho"
      },
      "source": [
        "# merge df (left) with df_biz (right) using an *inner* merge (keep only matched rows)\n",
        "# call the reuslting dataframe, df (replace df with the merge result)\n",
        "\n",
        "df = df.merge(df_biz, how = 'inner', on = 'gd') # fill in this"
      ],
      "execution_count": 25,
      "outputs": []
    },
    {
      "cell_type": "code",
      "metadata": {
        "id": "tqoXuQyY21aa",
        "colab": {
          "base_uri": "https://localhost:8080/"
        },
        "outputId": "1a050dba-20e3-42f1-b435-71015f05404e"
      },
      "source": [
        "# check the # of rows and columns of df\n",
        "# this should bee (46644,25)\n",
        "df.shape"
      ],
      "execution_count": 26,
      "outputs": [
        {
          "output_type": "execute_result",
          "data": {
            "text/plain": [
              "(46644, 25)"
            ]
          },
          "metadata": {},
          "execution_count": 26
        }
      ]
    },
    {
      "cell_type": "code",
      "metadata": {
        "id": "sdkMqhgA2HrZ",
        "colab": {
          "base_uri": "https://localhost:8080/",
          "height": 747
        },
        "outputId": "9dd35280-5fb3-475c-ea7f-4607d07d8c37"
      },
      "source": [
        "# preview your dataframe\n",
        "df.head()"
      ],
      "execution_count": 27,
      "outputs": [
        {
          "output_type": "execute_result",
          "data": {
            "text/html": [
              "<div>\n",
              "<style scoped>\n",
              "    .dataframe tbody tr th:only-of-type {\n",
              "        vertical-align: middle;\n",
              "    }\n",
              "\n",
              "    .dataframe tbody tr th {\n",
              "        vertical-align: top;\n",
              "    }\n",
              "\n",
              "    .dataframe thead th {\n",
              "        text-align: right;\n",
              "    }\n",
              "</style>\n",
              "<table border=\"1\" class=\"dataframe\">\n",
              "  <thead>\n",
              "    <tr style=\"text-align: right;\">\n",
              "      <th></th>\n",
              "      <th>gd</th>\n",
              "      <th>helpful_num</th>\n",
              "      <th>location</th>\n",
              "      <th>mgrRspnDummy</th>\n",
              "      <th>mgr_res_date</th>\n",
              "      <th>mrtext</th>\n",
              "      <th>ratingDate</th>\n",
              "      <th>review_id</th>\n",
              "      <th>reviewrating</th>\n",
              "      <th>reviewtext</th>\n",
              "      <th>reviewtitle</th>\n",
              "      <th>stay_month</th>\n",
              "      <th>stay_year</th>\n",
              "      <th>travel_category</th>\n",
              "      <th>username</th>\n",
              "      <th>ranking</th>\n",
              "      <th>rating_vol</th>\n",
              "      <th>rdetails</th>\n",
              "      <th>lnglat</th>\n",
              "      <th>rsubrating</th>\n",
              "      <th>vtype</th>\n",
              "      <th>amenities</th>\n",
              "      <th>details</th>\n",
              "      <th>v_name</th>\n",
              "      <th>rating_cat</th>\n",
              "    </tr>\n",
              "  </thead>\n",
              "  <tbody>\n",
              "    <tr>\n",
              "      <th>0</th>\n",
              "      <td>g45963-d1123368</td>\n",
              "      <td>NaN</td>\n",
              "      <td>Walnut Creek, California</td>\n",
              "      <td>0</td>\n",
              "      <td>NaN</td>\n",
              "      <td>NaN</td>\n",
              "      <td>2015-07-01</td>\n",
              "      <td>284818340</td>\n",
              "      <td>5</td>\n",
              "      <td>An excellent property! The rooms are very nice...</td>\n",
              "      <td>“At the top of its game”</td>\n",
              "      <td>6.0</td>\n",
              "      <td>2015.0</td>\n",
              "      <td>business</td>\n",
              "      <td>cadby</td>\n",
              "      <td>[4, 267]</td>\n",
              "      <td>9453.0</td>\n",
              "      <td>NaN</td>\n",
              "      <td>[-115.164505, 36.12825]</td>\n",
              "      <td>{}</td>\n",
              "      <td>Hotel_Review</td>\n",
              "      <td>{'Room types': 'Suites Non-Smoking Rooms ', 'S...</td>\n",
              "      <td>{'Address:': '3121 Las Vegas Blvd. South, Las ...</td>\n",
              "      <td>Encore At Wynn Las Vegas</td>\n",
              "      <td>4.5</td>\n",
              "    </tr>\n",
              "    <tr>\n",
              "      <th>1</th>\n",
              "      <td>g45963-d1123368</td>\n",
              "      <td>NaN</td>\n",
              "      <td>Maidstone, United Kingdom</td>\n",
              "      <td>0</td>\n",
              "      <td>NaN</td>\n",
              "      <td>NaN</td>\n",
              "      <td>2015-07-01</td>\n",
              "      <td>284776986</td>\n",
              "      <td>5</td>\n",
              "      <td>My first visit to Las Vegas and WOW!! Whilst a...</td>\n",
              "      <td>“ wow!! ”</td>\n",
              "      <td>9.0</td>\n",
              "      <td>2014.0</td>\n",
              "      <td>couple</td>\n",
              "      <td>Sonia H</td>\n",
              "      <td>[4, 267]</td>\n",
              "      <td>9453.0</td>\n",
              "      <td>NaN</td>\n",
              "      <td>[-115.164505, 36.12825]</td>\n",
              "      <td>{}</td>\n",
              "      <td>Hotel_Review</td>\n",
              "      <td>{'Room types': 'Suites Non-Smoking Rooms ', 'S...</td>\n",
              "      <td>{'Address:': '3121 Las Vegas Blvd. South, Las ...</td>\n",
              "      <td>Encore At Wynn Las Vegas</td>\n",
              "      <td>4.5</td>\n",
              "    </tr>\n",
              "    <tr>\n",
              "      <th>2</th>\n",
              "      <td>g45963-d1123368</td>\n",
              "      <td>NaN</td>\n",
              "      <td>Brussels</td>\n",
              "      <td>0</td>\n",
              "      <td>NaN</td>\n",
              "      <td>NaN</td>\n",
              "      <td>2015-06-30</td>\n",
              "      <td>284187374</td>\n",
              "      <td>5</td>\n",
              "      <td>Some of the most beautiful hotel rooms in the ...</td>\n",
              "      <td>“ Mass market but luxery hotel at north end of...</td>\n",
              "      <td>6.0</td>\n",
              "      <td>2015.0</td>\n",
              "      <td>couple</td>\n",
              "      <td>Globaliser</td>\n",
              "      <td>[4, 267]</td>\n",
              "      <td>9453.0</td>\n",
              "      <td>NaN</td>\n",
              "      <td>[-115.164505, 36.12825]</td>\n",
              "      <td>{}</td>\n",
              "      <td>Hotel_Review</td>\n",
              "      <td>{'Room types': 'Suites Non-Smoking Rooms ', 'S...</td>\n",
              "      <td>{'Address:': '3121 Las Vegas Blvd. South, Las ...</td>\n",
              "      <td>Encore At Wynn Las Vegas</td>\n",
              "      <td>4.5</td>\n",
              "    </tr>\n",
              "    <tr>\n",
              "      <th>3</th>\n",
              "      <td>g45963-d1123368</td>\n",
              "      <td>NaN</td>\n",
              "      <td>Colchester, United Kingdom</td>\n",
              "      <td>0</td>\n",
              "      <td>NaN</td>\n",
              "      <td>NaN</td>\n",
              "      <td>2015-06-13</td>\n",
              "      <td>279887884</td>\n",
              "      <td>5</td>\n",
              "      <td>This Hotel is exceptional, its beautifully set...</td>\n",
              "      <td>“ Highlight of Vegas ”</td>\n",
              "      <td>5.0</td>\n",
              "      <td>2015.0</td>\n",
              "      <td>couple</td>\n",
              "      <td>Sharcoates</td>\n",
              "      <td>[4, 267]</td>\n",
              "      <td>9453.0</td>\n",
              "      <td>NaN</td>\n",
              "      <td>[-115.164505, 36.12825]</td>\n",
              "      <td>{}</td>\n",
              "      <td>Hotel_Review</td>\n",
              "      <td>{'Room types': 'Suites Non-Smoking Rooms ', 'S...</td>\n",
              "      <td>{'Address:': '3121 Las Vegas Blvd. South, Las ...</td>\n",
              "      <td>Encore At Wynn Las Vegas</td>\n",
              "      <td>4.5</td>\n",
              "    </tr>\n",
              "    <tr>\n",
              "      <th>4</th>\n",
              "      <td>g45963-d1123368</td>\n",
              "      <td>NaN</td>\n",
              "      <td>Denver, Colorado, United States</td>\n",
              "      <td>0</td>\n",
              "      <td>NaN</td>\n",
              "      <td>NaN</td>\n",
              "      <td>2015-06-13</td>\n",
              "      <td>279841140</td>\n",
              "      <td>5</td>\n",
              "      <td>My husband and I stayed here during a trip,to ...</td>\n",
              "      <td>“ Beautiful hotel, great location ”</td>\n",
              "      <td>6.0</td>\n",
              "      <td>2015.0</td>\n",
              "      <td>couple</td>\n",
              "      <td>Kimberly A</td>\n",
              "      <td>[4, 267]</td>\n",
              "      <td>9453.0</td>\n",
              "      <td>NaN</td>\n",
              "      <td>[-115.164505, 36.12825]</td>\n",
              "      <td>{}</td>\n",
              "      <td>Hotel_Review</td>\n",
              "      <td>{'Room types': 'Suites Non-Smoking Rooms ', 'S...</td>\n",
              "      <td>{'Address:': '3121 Las Vegas Blvd. South, Las ...</td>\n",
              "      <td>Encore At Wynn Las Vegas</td>\n",
              "      <td>4.5</td>\n",
              "    </tr>\n",
              "  </tbody>\n",
              "</table>\n",
              "</div>"
            ],
            "text/plain": [
              "                gd  helpful_num  ...                    v_name  rating_cat\n",
              "0  g45963-d1123368          NaN  ...  Encore At Wynn Las Vegas         4.5\n",
              "1  g45963-d1123368          NaN  ...  Encore At Wynn Las Vegas         4.5\n",
              "2  g45963-d1123368          NaN  ...  Encore At Wynn Las Vegas         4.5\n",
              "3  g45963-d1123368          NaN  ...  Encore At Wynn Las Vegas         4.5\n",
              "4  g45963-d1123368          NaN  ...  Encore At Wynn Las Vegas         4.5\n",
              "\n",
              "[5 rows x 25 columns]"
            ]
          },
          "metadata": {},
          "execution_count": 27
        }
      ]
    },
    {
      "cell_type": "code",
      "metadata": {
        "id": "B7ZJC3lxvSHl",
        "colab": {
          "base_uri": "https://localhost:8080/"
        },
        "outputId": "f9475b37-3006-4806-ca3a-99effbd07582"
      },
      "source": [
        "# check unique number of gd's (recall the .nunique() method for pandas data series)\n",
        "\n",
        "df.gd.nunique()"
      ],
      "execution_count": 28,
      "outputs": [
        {
          "output_type": "execute_result",
          "data": {
            "text/plain": [
              "34"
            ]
          },
          "metadata": {},
          "execution_count": 28
        }
      ]
    },
    {
      "cell_type": "markdown",
      "metadata": {
        "id": "IiNDsi_yEqMw"
      },
      "source": [
        "**answer this**\n",
        "\n",
        "How many hotels are there? **34 hotels**"
      ]
    },
    {
      "cell_type": "code",
      "metadata": {
        "id": "REcdj0Vd7ycV",
        "colab": {
          "base_uri": "https://localhost:8080/"
        },
        "outputId": "ca077483-298b-4ec5-f4db-59594e4a4169"
      },
      "source": [
        "# print out the unique hotel names\n",
        "print(df.v_name.unique())"
      ],
      "execution_count": 29,
      "outputs": [
        {
          "output_type": "stream",
          "name": "stdout",
          "text": [
            "['Encore At Wynn Las Vegas' 'New York - New York Hotel and Casino'\n",
            " \"Bally's Las Vegas\" 'Venetian Resort Hotel Casino'\n",
            " 'Rio All-Suite Hotel & Casino' 'Wynn Las Vegas'\n",
            " 'MGM Grand Hotel and Casino'\n",
            " 'Tropicana Las Vegas - A DoubleTree by Hilton Hotel'\n",
            " 'Excalibur Hotel & Casino' 'Monte Carlo Resort & Casino'\n",
            " 'The LINQ Hotel & Casino' 'Hard Rock Hotel and Casino' 'Paris Las Vegas'\n",
            " 'The Mirage Hotel & Casino' 'Trump International Hotel Las Vegas'\n",
            " 'Plaza Hotel & Casino' 'Caesars Palace' 'Luxor Las Vegas'\n",
            " 'Signature at MGM' 'Planet Hollywood Resort & Casino' 'Vdara Hotel & Spa'\n",
            " 'Golden Nugget Hotel' 'Treasure Island - TI Hotel & Casino'\n",
            " 'Stratosphere Hotel, Casino and Tower' 'Mandalay Bay Resort & Casino'\n",
            " 'The Cosmopolitan of Las Vegas, Autograph Collection'\n",
            " 'SLS Las Vegas Hotel & Casino' 'Bellagio Las Vegas'\n",
            " 'Circus Circus Hotel & Casino Las Vegas'\n",
            " 'Flamingo Las Vegas Hotel & Casino' 'Delano Las Vegas'\n",
            " \"Harrah's Las Vegas\" 'The Palazzo Resort Hotel Casino'\n",
            " 'ARIA Resort & Casino']\n"
          ]
        }
      ]
    },
    {
      "cell_type": "markdown",
      "metadata": {
        "id": "JcigV3skE3Ej"
      },
      "source": [
        "# Sentiment Analysis (3 points)"
      ]
    },
    {
      "cell_type": "markdown",
      "metadata": {
        "id": "PeQhtf_3FNsX"
      },
      "source": [
        "## Remove non-English reviews"
      ]
    },
    {
      "cell_type": "markdown",
      "metadata": {
        "id": "G3CYr25fFS_1"
      },
      "source": [
        "**Answer this question**\n",
        "\n",
        "How can we use \"stopwords\" to detect non-English reviews? Describe in some detail the idea of this method **in your own words**. Do not explain the technical details of the code, conceptually describe the overall steps.\n",
        "\n",
        "**Answer below**\n",
        "\n",
        "Give big picture overview (replace w/ your answer).\n",
        "\n",
        "1. The first step is to get all the possible stop words such that any review will contain at least one of the defined stop words in English. \n",
        "1. For step two; filter the reviews that lack atleast one of the defined stop words. These reviews are likely to be non-English reviews.\n"
      ]
    },
    {
      "cell_type": "code",
      "metadata": {
        "id": "4B-hvtAeu0XF",
        "colab": {
          "base_uri": "https://localhost:8080/"
        },
        "outputId": "7920b75c-d115-451f-d2d8-303f2b38c4e4"
      },
      "source": [
        "# import stopwords\n",
        "import nltk\n",
        "nltk.download('stopwords') # download stopwords from NLTK servers\n",
        "from nltk.corpus import stopwords # import them\n",
        "sw = stopwords.words('english')"
      ],
      "execution_count": 30,
      "outputs": [
        {
          "output_type": "stream",
          "name": "stdout",
          "text": [
            "[nltk_data] Downloading package stopwords to /root/nltk_data...\n",
            "[nltk_data]   Package stopwords is already up-to-date!\n"
          ]
        }
      ]
    },
    {
      "cell_type": "code",
      "metadata": {
        "id": "EYlcVDlPFENX",
        "colab": {
          "base_uri": "https://localhost:8080/"
        },
        "outputId": "be779735-df47-4bf9-ed96-a8ee04cd560e"
      },
      "source": [
        "# print the stopwords\n",
        "print(sw)"
      ],
      "execution_count": 31,
      "outputs": [
        {
          "output_type": "stream",
          "name": "stdout",
          "text": [
            "['i', 'me', 'my', 'myself', 'we', 'our', 'ours', 'ourselves', 'you', \"you're\", \"you've\", \"you'll\", \"you'd\", 'your', 'yours', 'yourself', 'yourselves', 'he', 'him', 'his', 'himself', 'she', \"she's\", 'her', 'hers', 'herself', 'it', \"it's\", 'its', 'itself', 'they', 'them', 'their', 'theirs', 'themselves', 'what', 'which', 'who', 'whom', 'this', 'that', \"that'll\", 'these', 'those', 'am', 'is', 'are', 'was', 'were', 'be', 'been', 'being', 'have', 'has', 'had', 'having', 'do', 'does', 'did', 'doing', 'a', 'an', 'the', 'and', 'but', 'if', 'or', 'because', 'as', 'until', 'while', 'of', 'at', 'by', 'for', 'with', 'about', 'against', 'between', 'into', 'through', 'during', 'before', 'after', 'above', 'below', 'to', 'from', 'up', 'down', 'in', 'out', 'on', 'off', 'over', 'under', 'again', 'further', 'then', 'once', 'here', 'there', 'when', 'where', 'why', 'how', 'all', 'any', 'both', 'each', 'few', 'more', 'most', 'other', 'some', 'such', 'no', 'nor', 'not', 'only', 'own', 'same', 'so', 'than', 'too', 'very', 's', 't', 'can', 'will', 'just', 'don', \"don't\", 'should', \"should've\", 'now', 'd', 'll', 'm', 'o', 're', 've', 'y', 'ain', 'aren', \"aren't\", 'couldn', \"couldn't\", 'didn', \"didn't\", 'doesn', \"doesn't\", 'hadn', \"hadn't\", 'hasn', \"hasn't\", 'haven', \"haven't\", 'isn', \"isn't\", 'ma', 'mightn', \"mightn't\", 'mustn', \"mustn't\", 'needn', \"needn't\", 'shan', \"shan't\", 'shouldn', \"shouldn't\", 'wasn', \"wasn't\", 'weren', \"weren't\", 'won', \"won't\", 'wouldn', \"wouldn't\"]\n"
          ]
        }
      ]
    },
    {
      "cell_type": "code",
      "metadata": {
        "id": "dXq82hMgvITg"
      },
      "source": [
        "# compute the number of stopwords in each review\n",
        "df['nstopwords'] = df.reviewtext.str.lower().str.split().apply(lambda x: len([w for w in x if w in sw]))"
      ],
      "execution_count": 32,
      "outputs": []
    },
    {
      "cell_type": "markdown",
      "metadata": {
        "id": "qFPWV4jSJE3A"
      },
      "source": [
        "**Answer below questions in your own words**\n",
        "\n",
        "1. What does `.str.lower()` do? \n",
        "    1. **Converts the string to lower case**\n",
        "1. What does `str.split()` do?\n",
        "    1. **Splits the sentence strings into individual words**\n",
        "1. What is the purpose of `apply(lambda x: ...)`?\n",
        "    1. **It applies a lambda function which is defined after the cologn sign. For this case the function was len()**\n",
        "1. What does `[w for w in x if w in sw]` do?\n",
        "    1. **Creates an array list for the words that are in the stop words list**\n",
        "1. What does `len(...)` do?\n",
        "    1. **It calculates the number of items contained in the array list of words in the review that are also found in the stop words list**"
      ]
    },
    {
      "cell_type": "code",
      "metadata": {
        "id": "zbkmm6Gyvii_"
      },
      "source": [
        "# compute total number of words in review\n",
        "df['textlen'] = df.reviewtext.str.split().map(len)\n",
        "# compute percentage of stopwords\n",
        "df['pct_stopwords'] = df.nstopwords/df.textlen"
      ],
      "execution_count": 33,
      "outputs": []
    },
    {
      "cell_type": "code",
      "metadata": {
        "id": "n82oyQkAvqwx",
        "colab": {
          "base_uri": "https://localhost:8080/",
          "height": 282
        },
        "outputId": "28934219-1049-4c60-9c7c-3f2294a64c42"
      },
      "source": [
        "# Plot the histgraom of stopwords\n",
        "df.pct_stopwords.hist() # distribution of stopwords"
      ],
      "execution_count": 34,
      "outputs": [
        {
          "output_type": "execute_result",
          "data": {
            "text/plain": [
              "<matplotlib.axes._subplots.AxesSubplot at 0x7f4877116ed0>"
            ]
          },
          "metadata": {},
          "execution_count": 34
        },
        {
          "output_type": "display_data",
          "data": {
            "image/png": "[encoded data removed]",
            "text/plain": [
              "<Figure size 432x288 with 1 Axes>"
            ]
          },
          "metadata": {
            "needs_background": "light"
          }
        }
      ]
    },
    {
      "cell_type": "code",
      "metadata": {
        "id": "oniK4hsgvulL",
        "colab": {
          "base_uri": "https://localhost:8080/"
        },
        "outputId": "2844433e-0bef-46d7-a868-63e6f9a6d952"
      },
      "source": [
        "# select reviews with 0 percent stopwords\n",
        "# use df.loc[condition, 'reviewtext'] with the appropriate condition\n",
        "df.loc[df.pct_stopwords==.0, 'reviewtext']"
      ],
      "execution_count": 35,
      "outputs": [
        {
          "output_type": "execute_result",
          "data": {
            "text/plain": [
              "2018     Good service csdgh jhggrr hfdsew bczss hgdsssa...\n",
              "8014     良かったところ： 高級感あふれるホテル内装の装飾が素敵でした。 とにかく何でも高価なので、高...\n",
              "38546    good value, nice pool & seafood buffet...........\n",
              "42284    Great stay. !!!!!!!!!!!!Great stay. !!!!!!!!!!...\n",
              "Name: reviewtext, dtype: object"
            ]
          },
          "metadata": {},
          "execution_count": 35
        }
      ]
    },
    {
      "cell_type": "markdown",
      "metadata": {
        "id": "DxqY5mhsKXMg"
      },
      "source": [
        "**Answer this**\n",
        "There should only be 1 non-English review above. What is its index number?\n",
        "\n",
        "1. **8014**"
      ]
    },
    {
      "cell_type": "code",
      "metadata": {
        "id": "I__OMSwvKjBV"
      },
      "source": [
        "# remove the non-english review\n",
        "# use df = df.loc[df.index != the non-english review index].reset_index()\n",
        "\n",
        "df = df.loc[df.index!=8014].reset_index() # fill this in"
      ],
      "execution_count": 36,
      "outputs": []
    },
    {
      "cell_type": "code",
      "metadata": {
        "id": "2TII4zujwhZr"
      },
      "source": [
        "# compute the polarity and subjectiity using the TextBlob library for every review\n",
        "# create 2 new columns for these values: 'polarity' and 'subjectivity'\n",
        "\n",
        "df['polarity'] = df['reviewtext'].apply(lambda x: TextBlob(x).sentiment.polarity) # calculate polarity and subjectivity in one shot\n",
        "df['subjectivity'] = df['reviewtext'].apply(lambda x: TextBlob(x).sentiment.subjectivity) # calculate polarity and subjectivity in one shot\n",
        "\n",
        "# this may take a few minutes to run"
      ],
      "execution_count": 37,
      "outputs": []
    },
    {
      "cell_type": "code",
      "metadata": {
        "id": "pCp9yQnnxMji",
        "colab": {
          "base_uri": "https://localhost:8080/",
          "height": 143
        },
        "outputId": "906f414b-3a8f-4106-e22a-f1143d82550c"
      },
      "source": [
        "# compute the correlation matrix betwee reviewrating, polarity, and subjectivity\n",
        "df[['reviewrating', 'polarity', 'subjectivity']].corr()"
      ],
      "execution_count": 38,
      "outputs": [
        {
          "output_type": "execute_result",
          "data": {
            "text/html": [
              "<div>\n",
              "<style scoped>\n",
              "    .dataframe tbody tr th:only-of-type {\n",
              "        vertical-align: middle;\n",
              "    }\n",
              "\n",
              "    .dataframe tbody tr th {\n",
              "        vertical-align: top;\n",
              "    }\n",
              "\n",
              "    .dataframe thead th {\n",
              "        text-align: right;\n",
              "    }\n",
              "</style>\n",
              "<table border=\"1\" class=\"dataframe\">\n",
              "  <thead>\n",
              "    <tr style=\"text-align: right;\">\n",
              "      <th></th>\n",
              "      <th>reviewrating</th>\n",
              "      <th>polarity</th>\n",
              "      <th>subjectivity</th>\n",
              "    </tr>\n",
              "  </thead>\n",
              "  <tbody>\n",
              "    <tr>\n",
              "      <th>reviewrating</th>\n",
              "      <td>1.000000</td>\n",
              "      <td>0.591453</td>\n",
              "      <td>0.237701</td>\n",
              "    </tr>\n",
              "    <tr>\n",
              "      <th>polarity</th>\n",
              "      <td>0.591453</td>\n",
              "      <td>1.000000</td>\n",
              "      <td>0.440534</td>\n",
              "    </tr>\n",
              "    <tr>\n",
              "      <th>subjectivity</th>\n",
              "      <td>0.237701</td>\n",
              "      <td>0.440534</td>\n",
              "      <td>1.000000</td>\n",
              "    </tr>\n",
              "  </tbody>\n",
              "</table>\n",
              "</div>"
            ],
            "text/plain": [
              "              reviewrating  polarity  subjectivity\n",
              "reviewrating      1.000000  0.591453      0.237701\n",
              "polarity          0.591453  1.000000      0.440534\n",
              "subjectivity      0.237701  0.440534      1.000000"
            ]
          },
          "metadata": {},
          "execution_count": 38
        }
      ]
    },
    {
      "cell_type": "markdown",
      "metadata": {
        "id": "P_UF2gMIMIbT"
      },
      "source": [
        "**Answer this**\n",
        "What does the correlation between review rating and subjectivity tell you about the information contained in the review text vs. the rating? Is review rating an adequate summary statistic about the review text's polarity?\n",
        "\n",
        "1. **The correlation between review rating and subjectivity shows a weak positive linear relationship between review rating and subjectivity. Considering the weak correlation, the review rating does not well reflect the subjectivity of the review. The corelation between review rating and the polarity is a modarately strong positive correlation. Therefore, it can be assumed that review rating an adequate summary statistic about the review text's polarity**\n",
        "\n",
        "What about the correlation between polarity and subjectivity, what can you conclude about reviewers' emotionality (subjectivity) as a function of polarity? (Review what correlation measures and then apply that logic to these 2 sentiment variables) \n",
        "\n",
        "1. **The correlation suggests a moderate linear relationship between polarity and subjectivity. Therefore on average, it can be assumed that a reviewers' emotionality is directly proportional to the reviews polarity.**"
      ]
    },
    {
      "cell_type": "code",
      "metadata": {
        "id": "3GfR6gb-x0qW",
        "colab": {
          "base_uri": "https://localhost:8080/",
          "height": 282
        },
        "outputId": "b35a2634-b41c-4cad-d15e-7ef34a2e9fc4"
      },
      "source": [
        "# plot the histogram of review rating\n",
        "df.reviewrating.hist()"
      ],
      "execution_count": 39,
      "outputs": [
        {
          "output_type": "execute_result",
          "data": {
            "text/plain": [
              "<matplotlib.axes._subplots.AxesSubplot at 0x7f486ba900d0>"
            ]
          },
          "metadata": {},
          "execution_count": 39
        },
        {
          "output_type": "display_data",
          "data": {
            "image/png": "[encoded data removed]",
            "text/plain": [
              "<Figure size 432x288 with 1 Axes>"
            ]
          },
          "metadata": {
            "needs_background": "light"
          }
        }
      ]
    },
    {
      "cell_type": "code",
      "metadata": {
        "id": "mYgsvYyyySat",
        "colab": {
          "base_uri": "https://localhost:8080/",
          "height": 285
        },
        "outputId": "a3fd4b72-3553-4b2a-d7c6-0b5fa429b9a2"
      },
      "source": [
        "# plot the histogram of polarity\n",
        "df.polarity.hist()"
      ],
      "execution_count": 40,
      "outputs": [
        {
          "output_type": "execute_result",
          "data": {
            "text/plain": [
              "<matplotlib.axes._subplots.AxesSubplot at 0x7f4866c4f390>"
            ]
          },
          "metadata": {},
          "execution_count": 40
        },
        {
          "output_type": "display_data",
          "data": {
            "image/png": "[encoded data removed]",
            "text/plain": [
              "<Figure size 432x288 with 1 Axes>"
            ]
          },
          "metadata": {
            "needs_background": "light"
          }
        }
      ]
    },
    {
      "cell_type": "code",
      "metadata": {
        "id": "sbh_m_lTMA4E",
        "colab": {
          "base_uri": "https://localhost:8080/",
          "height": 282
        },
        "outputId": "ee5281ca-08e8-4878-d177-1a8b31e763d5"
      },
      "source": [
        "# plot the histogram of subjectivity\n",
        "df.subjectivity.hist()"
      ],
      "execution_count": 41,
      "outputs": [
        {
          "output_type": "execute_result",
          "data": {
            "text/plain": [
              "<matplotlib.axes._subplots.AxesSubplot at 0x7f4866c36d50>"
            ]
          },
          "metadata": {},
          "execution_count": 41
        },
        {
          "output_type": "display_data",
          "data": {
            "image/png": "[encoded data removed]",
            "text/plain": [
              "<Figure size 432x288 with 1 Axes>"
            ]
          },
          "metadata": {
            "needs_background": "light"
          }
        }
      ]
    },
    {
      "cell_type": "markdown",
      "metadata": {
        "id": "C8GYA4coM5lF"
      },
      "source": [
        "**Answer this**\n",
        "1. Are most reviews positive or negative?\n",
        "    1. **Most of the reviews are positive. The high review ratings dominate in frequency as can be shown by the histogram plot of the review ratings**\n",
        "1. Are most reviews subjective or objective? (subjective >.5)\n",
        "    1. **most reviews are subjective. About 71.98 of the reviews have a subjectivity greater than 0.5**"
      ]
    },
    {
      "cell_type": "code",
      "metadata": {
        "id": "fCpET2bsyT3p",
        "colab": {
          "base_uri": "https://localhost:8080/",
          "height": 292
        },
        "outputId": "c939a452-c9d1-4679-85a2-b76f98ec52c5"
      },
      "source": [
        "# compute the average polarity and review rating by travel_category\n",
        "# use a groupby statement \n",
        "df.groupby('travel_category')['polarity', 'reviewrating'].mean().sort_values(by = 'polarity')"
      ],
      "execution_count": 42,
      "outputs": [
        {
          "output_type": "stream",
          "name": "stderr",
          "text": [
            "/usr/local/lib/python3.7/dist-packages/ipykernel_launcher.py:3: FutureWarning: Indexing with multiple keys (implicitly converted to a tuple of keys) will be deprecated, use a list instead.\n",
            "  This is separate from the ipykernel package so we can avoid doing imports until\n"
          ]
        },
        {
          "output_type": "execute_result",
          "data": {
            "text/html": [
              "<div>\n",
              "<style scoped>\n",
              "    .dataframe tbody tr th:only-of-type {\n",
              "        vertical-align: middle;\n",
              "    }\n",
              "\n",
              "    .dataframe tbody tr th {\n",
              "        vertical-align: top;\n",
              "    }\n",
              "\n",
              "    .dataframe thead th {\n",
              "        text-align: right;\n",
              "    }\n",
              "</style>\n",
              "<table border=\"1\" class=\"dataframe\">\n",
              "  <thead>\n",
              "    <tr style=\"text-align: right;\">\n",
              "      <th></th>\n",
              "      <th>polarity</th>\n",
              "      <th>reviewrating</th>\n",
              "    </tr>\n",
              "    <tr>\n",
              "      <th>travel_category</th>\n",
              "      <th></th>\n",
              "      <th></th>\n",
              "    </tr>\n",
              "  </thead>\n",
              "  <tbody>\n",
              "    <tr>\n",
              "      <th>business</th>\n",
              "      <td>0.262430</td>\n",
              "      <td>3.900085</td>\n",
              "    </tr>\n",
              "    <tr>\n",
              "      <th>solo</th>\n",
              "      <td>0.279972</td>\n",
              "      <td>4.080357</td>\n",
              "    </tr>\n",
              "    <tr>\n",
              "      <th>friends</th>\n",
              "      <td>0.282550</td>\n",
              "      <td>3.988150</td>\n",
              "    </tr>\n",
              "    <tr>\n",
              "      <th>family</th>\n",
              "      <td>0.285480</td>\n",
              "      <td>4.054054</td>\n",
              "    </tr>\n",
              "    <tr>\n",
              "      <th>couple</th>\n",
              "      <td>0.286445</td>\n",
              "      <td>4.119497</td>\n",
              "    </tr>\n",
              "  </tbody>\n",
              "</table>\n",
              "</div>"
            ],
            "text/plain": [
              "                 polarity  reviewrating\n",
              "travel_category                        \n",
              "business         0.262430      3.900085\n",
              "solo             0.279972      4.080357\n",
              "friends          0.282550      3.988150\n",
              "family           0.285480      4.054054\n",
              "couple           0.286445      4.119497"
            ]
          },
          "metadata": {},
          "execution_count": 42
        }
      ]
    },
    {
      "cell_type": "markdown",
      "metadata": {
        "id": "lIOxge4lNYAP"
      },
      "source": [
        "**Answer this**\n",
        "\n",
        "Are the ranks of categories by review rating the same as the ranks by polarity? If not, posit some potential explanations.\n",
        "\n",
        "**Not fully. Even though ranking by polarity or the review rating both ranks the first and the last category correctly, there is a difference in how the two methods ranks the other three categories i.e. solo, friends, and family.**"
      ]
    },
    {
      "cell_type": "markdown",
      "metadata": {
        "id": "7vlDqmfWN6Ow"
      },
      "source": [
        "# Preprocessing for topic analysis (1)\n",
        "\n",
        "Before we can do topic analysis, we need to pre-process the texts.\n",
        "\n",
        "1. Lemmatization\n",
        "1. Phrase detection\n",
        "\n",
        "These steps may take some time.\n"
      ]
    },
    {
      "cell_type": "markdown",
      "metadata": {
        "id": "eZ7KVireN87X"
      },
      "source": [
        "## Lemmatization"
      ]
    },
    {
      "cell_type": "markdown",
      "metadata": {
        "id": "sDntp8gbN896"
      },
      "source": [
        "**Answer this** \n",
        "\n",
        "1. What is the purpose of lemmatization? \n",
        "    1. **To simplify the text while still maintaining the topical meaning of the text. This can be achieved by converting plurals into singulars and conjugated verbs into infinitives.**\n",
        "1. How does lemmatization help simplify the topic modeling problem? \n",
        "    1. **By converting plurals into singulars and conjugated verbs into infinitives.**\n",
        "1. Give at least 3 examples of how some words may be lemmatized.\n",
        "    1. Changing walking to walk\n",
        "    1. converting plural words to singular ex. cars to car\n",
        "    1. changing pronouns to -PRON- ex. I is changed to -PRON-"
      ]
    },
    {
      "cell_type": "code",
      "metadata": {
        "id": "pFz-jasROUS7"
      },
      "source": [
        "# Create an nlp subfolder if it doesn't yet exist\n",
        "# call this subfolder nlppath\n",
        "nlppath = fpath + 'nlppath/'\n",
        "try:\n",
        "    os.listdir(nlppath)\n",
        "except:\n",
        "    os.mkdir(nlppath)"
      ],
      "execution_count": 43,
      "outputs": []
    },
    {
      "cell_type": "code",
      "metadata": {
        "id": "GJq5Kx_wQBHT"
      },
      "source": [
        "# remove any return or new line characters from the review texts\n",
        "# replace reviewtext column with the cleaned up review texts\n",
        "df['reviewtext'] = df.reviewtext.str.replace('\\r', '').str.replace('\\n', '')"
      ],
      "execution_count": 44,
      "outputs": []
    },
    {
      "cell_type": "code",
      "metadata": {
        "id": "oXeWyiWxOUVL"
      },
      "source": [
        "# create a list of review texts from column of review texts\n",
        "texts = list(df.reviewtext)\n",
        "\n",
        "# write the raw texts to disk where 1 row = 1 review\n",
        "with open(nlppath + 'rawtexts.txt', 'w', encoding = 'utf-8') as f:\n",
        "    f.write('\\n'.join(texts))"
      ],
      "execution_count": 45,
      "outputs": []
    },
    {
      "cell_type": "code",
      "metadata": {
        "id": "7S2oYsOPRi0o"
      },
      "source": [
        "# import stopwords again\n",
        "sw = stopwords.words('english')\n"
      ],
      "execution_count": 46,
      "outputs": []
    },
    {
      "cell_type": "code",
      "metadata": {
        "id": "3HJAVD20RXhx"
      },
      "source": [
        "# use the spacy library, create the variable nlp which is the english language model\n",
        "# i.e. nlp = spacy.load(...)\n",
        "nlp = spacy.load('en_core_web_sm')"
      ],
      "execution_count": 47,
      "outputs": []
    },
    {
      "cell_type": "code",
      "metadata": {
        "id": "gx3TThO5OUXv",
        "colab": {
          "base_uri": "https://localhost:8080/"
        },
        "outputId": "6d1ec8b0-de48-43d7-8d43-4458030e78f1"
      },
      "source": [
        "# use the write_parsed_sentence_corpus function to lemmatize the reviews\n",
        "# do not stop this cell, if you do, you must reload the nlp function in previous cell before executing again\n",
        "\n",
        "readfile = nlppath + 'rawtexts.txt' # use the location of the raw review texts\n",
        "writefile = nlppath + 'review_sentences.txt' # specify a location for the lemmatized review sentences\n",
        "\n",
        "t0 = time.time() # time your code\n",
        "write_parsed_sentence_corpus(readfile, writefile, nlp, batch_size = 1000, n_threads = 1, sw=sw, exclusions = ['-PRON-'], encode = 'utf-8')\n",
        "td = (time.time()-t0)/60"
      ],
      "execution_count": 48,
      "outputs": [
        {
          "output_type": "stream",
          "name": "stdout",
          "text": [
            "Success\n"
          ]
        }
      ]
    },
    {
      "cell_type": "code",
      "metadata": {
        "id": "BnxzkIzgP5Ei",
        "colab": {
          "base_uri": "https://localhost:8080/"
        },
        "outputId": "f40447ca-8e32-432c-b006-37ef4d79ea64"
      },
      "source": [
        "# print out how long it took to run\n",
        "print('Took {:.2f} minutes'.format(td)) "
      ],
      "execution_count": 49,
      "outputs": [
        {
          "output_type": "stream",
          "name": "stdout",
          "text": [
            "Took 7.18 minutes\n"
          ]
        }
      ]
    },
    {
      "cell_type": "markdown",
      "metadata": {
        "id": "tgM-pwyk8GS-"
      },
      "source": [
        "**Answer these**\n",
        "1. Explain the logic behind how phrase detection (aka phrase modeling) works.\n",
        "    1. **It identifies words that are commonly used together and identifies it as a phrase. This way it can create a meaning out of the text by identifying phrases in the text** \n",
        "1. If phrase modeling is run twice, what is the maximum length of a detected phrase?\n",
        "    1. **4**"
      ]
    },
    {
      "cell_type": "code",
      "metadata": {
        "id": "mvc1E-DgP5HF",
        "colab": {
          "base_uri": "https://localhost:8080/"
        },
        "outputId": "0f9aec5e-324f-47bd-fe7c-c37563e021db"
      },
      "source": [
        "# run phrase detection\n",
        "t0 = time.time() # time your code\n",
        "# ngrams = phrase_detection(....)\n",
        "ngrams = phrase_detection(nlppath + 'review_sentences.txt', nlppath)  # runs 2 iterations by default\n",
        "td = (time.time()-t0)/60 #calculate time difference"
      ],
      "execution_count": 50,
      "outputs": [
        {
          "output_type": "stream",
          "name": "stderr",
          "text": [
            "/usr/local/lib/python3.7/dist-packages/gensim/models/phrases.py:598: UserWarning: For a faster implementation, use the gensim.models.phrases.Phraser class\n",
            "  warnings.warn(\"For a faster implementation, use the gensim.models.phrases.Phraser class\")\n"
          ]
        }
      ]
    },
    {
      "cell_type": "code",
      "metadata": {
        "id": "C7THUz0CP5MG",
        "colab": {
          "base_uri": "https://localhost:8080/"
        },
        "outputId": "96549878-bc66-4038-9f29-39d046dccffc"
      },
      "source": [
        "print('Took {:.2f} minutes'.format(td))"
      ],
      "execution_count": 51,
      "outputs": [
        {
          "output_type": "stream",
          "name": "stdout",
          "text": [
            "Took 0.79 minutes\n"
          ]
        }
      ]
    },
    {
      "cell_type": "code",
      "metadata": {
        "id": "ha7cBhF0l7ve",
        "colab": {
          "base_uri": "https://localhost:8080/"
        },
        "outputId": "267df3c2-e442-497b-f54c-5160225430cb"
      },
      "source": [
        "# list the nlppath directory\n",
        "os.listdir(nlppath)"
      ],
      "execution_count": 52,
      "outputs": [
        {
          "output_type": "execute_result",
          "data": {
            "text/plain": [
              "['rawtexts.txt',\n",
              " 'review_sentences.txt',\n",
              " 'phrase_model_1.phrasemodel',\n",
              " 'sent_gram_1.txt',\n",
              " 'phrase_model_2.phrasemodel',\n",
              " 'sent_gram_2.txt']"
            ]
          },
          "metadata": {},
          "execution_count": 52
        }
      ]
    },
    {
      "cell_type": "code",
      "metadata": {
        "id": "al1G0LBTv82F"
      },
      "source": [
        "# use line_doc to preview a few sentences from sent_gram_2\n",
        "# construct line generator here, call it \"lines\":\n",
        "lines = line_doc(nlppath + 'sent_gram_2.txt')"
      ],
      "execution_count": 53,
      "outputs": []
    },
    {
      "cell_type": "code",
      "metadata": {
        "id": "MkzfD8XgwGmJ",
        "colab": {
          "base_uri": "https://localhost:8080/",
          "height": 36
        },
        "outputId": "0e4772c5-003b-47b2-a89d-11d8c4645818"
      },
      "source": [
        "# preview sentences here, run this cell a few times, make sure you see some phrases\n",
        "# phrases are denoted by \"_\" combining 2 words\n",
        "next(lines) "
      ],
      "execution_count": 54,
      "outputs": [
        {
          "output_type": "execute_result",
          "data": {
            "application/vnd.google.colaboratory.intrinsic+json": {
              "type": "string"
            },
            "text/plain": [
              "'excellent property\\n'"
            ]
          },
          "metadata": {},
          "execution_count": 54
        }
      ]
    },
    {
      "cell_type": "code",
      "metadata": {
        "id": "iXwseVWKwbrJ",
        "colab": {
          "base_uri": "https://localhost:8080/"
        },
        "outputId": "b36e71b7-7aec-4d65-f64a-96f879f8fc29"
      },
      "source": [
        "# use phrase_prediction function to produce a file that is lemmatized and phrased and 1 line = 1 **review**\n",
        "# each review will be lemmatized and phrase-detected\n",
        "nlp = spacy.load('en_core_web_sm')\n",
        "\n",
        "t0 = time.time()\n",
        "phrase_prediction(nlppath + 'rawtexts.txt', nlppath + 'parsed_reviews.txt',nlp, ngrams, sw = sw, exclusions = ['-PRON-'], batch_size = 500, n_threads = 2, encode = 'utf-8')\n",
        "td = (time.time()-t0)/60 #calculate time difference"
      ],
      "execution_count": 55,
      "outputs": [
        {
          "output_type": "stream",
          "name": "stderr",
          "text": [
            "/usr/local/lib/python3.7/dist-packages/gensim/models/phrases.py:598: UserWarning: For a faster implementation, use the gensim.models.phrases.Phraser class\n",
            "  warnings.warn(\"For a faster implementation, use the gensim.models.phrases.Phraser class\")\n"
          ]
        }
      ]
    },
    {
      "cell_type": "code",
      "metadata": {
        "id": "JKM4UVHKy7YC",
        "colab": {
          "base_uri": "https://localhost:8080/"
        },
        "outputId": "40085270-dadf-4658-a4e5-c5762753bd51"
      },
      "source": [
        "print('Took {:.2f} minutes'.format(td))"
      ],
      "execution_count": 56,
      "outputs": [
        {
          "output_type": "stream",
          "name": "stdout",
          "text": [
            "Took 7.98 minutes\n"
          ]
        }
      ]
    },
    {
      "cell_type": "code",
      "metadata": {
        "id": "DNBQvgvMzTwG"
      },
      "source": [
        "# let's take a look at what we did\n",
        "# construct line generator here, call it \"lines\", to preview the output of the \n",
        "# phrase prediction step\n",
        "\n",
        "lines = line_doc(nlppath + 'sent_gram_2.txt') # fill this in here"
      ],
      "execution_count": 57,
      "outputs": []
    },
    {
      "cell_type": "code",
      "metadata": {
        "id": "B9US4fGqzTyi",
        "colab": {
          "base_uri": "https://localhost:8080/",
          "height": 36
        },
        "outputId": "df813e10-e11f-4d0a-b179-b368ecf2246a"
      },
      "source": [
        "# look at a few reviews\n",
        "next(lines)"
      ],
      "execution_count": 58,
      "outputs": [
        {
          "output_type": "execute_result",
          "data": {
            "application/vnd.google.colaboratory.intrinsic+json": {
              "type": "string"
            },
            "text/plain": [
              "'excellent property\\n'"
            ]
          },
          "metadata": {},
          "execution_count": 58
        }
      ]
    },
    {
      "cell_type": "code",
      "metadata": {
        "id": "bGMod-hd194f"
      },
      "source": [
        "# read in reviews file as list of reviews\n",
        "with open(nlppath + 'parsed_reviews.txt', 'r', encoding = 'utf-8') as f:\n",
        "    reviews = f.readlines()"
      ],
      "execution_count": 59,
      "outputs": []
    },
    {
      "cell_type": "code",
      "metadata": {
        "id": "ioGk6u-72DOl",
        "colab": {
          "base_uri": "https://localhost:8080/"
        },
        "outputId": "3446de27-cc02-4b2f-e588-24be6d4f270b"
      },
      "source": [
        "# make sure list of parsed reviews is the same length as the dataframe\n",
        "len(reviews), len(df)"
      ],
      "execution_count": 60,
      "outputs": [
        {
          "output_type": "execute_result",
          "data": {
            "text/plain": [
              "(46643, 46643)"
            ]
          },
          "metadata": {},
          "execution_count": 60
        }
      ]
    },
    {
      "cell_type": "code",
      "metadata": {
        "id": "ONNKvay-2Jsl"
      },
      "source": [
        "# set column, parsed, to equal list of parsed reviews\n",
        "df['parsed'] = reviews"
      ],
      "execution_count": 61,
      "outputs": []
    },
    {
      "cell_type": "code",
      "metadata": {
        "id": "wIGRY8u32PT3"
      },
      "source": [
        "# Save the dataframe\n",
        "if 1==1:\n",
        "    df.to_csv(nlppath + 'TripAdvisor_parsed.csv', encoding = 'utf-8')\n",
        "else:\n",
        "    df = pd.read_csv(nlppath + 'TripAdvisor_parsed.csv', index_col = 0, encoding = 'utf-8')"
      ],
      "execution_count": 62,
      "outputs": []
    },
    {
      "cell_type": "markdown",
      "metadata": {
        "id": "7-yHBurtzT1R"
      },
      "source": [
        "# TFIDF Model (3 points)"
      ]
    },
    {
      "cell_type": "markdown",
      "metadata": {
        "id": "iqJTccg83E3x"
      },
      "source": [
        "**Answer these**\n",
        "1. What does TF-IDF stand for? \n",
        "    1. **Term Frequency x Inverse Document Frequency**\n",
        "1. What are the 2 fundamental ways of counting word frequencies that is embedded into the logic of TF-IDF? In your own words, what is the logical relationship between each type of word frequency and the word's importance in representing a document.\n",
        "    1. **First one**\n",
        "        1. **The first to identify and the words that are common in the reviews**\n",
        "    1. **Second one**\n",
        "        1. **the second logic is about identifying words that appear only a few times in the documents. The words that are much less frequent.**"
      ]
    },
    {
      "cell_type": "markdown",
      "metadata": {
        "id": "4TDs8ME81338"
      },
      "source": [
        "## Construct dictionary and corpus"
      ]
    },
    {
      "cell_type": "code",
      "metadata": {
        "id": "xGSAvnK-136y",
        "colab": {
          "base_uri": "https://localhost:8080/"
        },
        "outputId": "30993382-72e6-4ef2-a49a-ac4e6d147dd3"
      },
      "source": [
        "# list of documents as list of words where 1 document = all reviews for a business\n",
        "reviews = list(df.parsed.str.split()) # construct list of list of words (outer list is per review)\n",
        "\n",
        "# compute dictionary\n",
        "dictionary = corpora.Dictionary(reviews)\n",
        "\n",
        "# look at number of words in vocabulary\n",
        "print(len(dictionary))"
      ],
      "execution_count": 63,
      "outputs": [
        {
          "output_type": "stream",
          "name": "stdout",
          "text": [
            "45537\n"
          ]
        }
      ]
    },
    {
      "cell_type": "markdown",
      "metadata": {
        "id": "yfoPujBq6YLd"
      },
      "source": [
        "**Answer these**\n",
        "\n",
        "1. Why might you want to filter out words that appear in too few documents?\n",
        "    1. **Because they appear only in a few documents, they can not help the computer understand their meaning in different context to help the computer learn their meaning**\n",
        "1. Why might you want to filter out words that appear in too many documents?\n",
        "    1. **Because they exist in so many reviews, they are of little use in determining the distinction in the topical meaning of the reviews.**\n"
      ]
    },
    {
      "cell_type": "code",
      "metadata": {
        "id": "IZG3bDY214BS",
        "colab": {
          "base_uri": "https://localhost:8080/"
        },
        "outputId": "754707f1-1942-4396-d6be-5daebbb6824a"
      },
      "source": [
        "# filter out too frequent or too infrequent words\n",
        "dictionary.filter_extremes(no_below=10, no_above=.10)\n",
        "# no_below is the lower qualifying limit of documents in which a word appears\n",
        "# no_above is the upper qualifying proportional limit in which a word appears\n",
        "print(len(dictionary))\n"
      ],
      "execution_count": 64,
      "outputs": [
        {
          "output_type": "stream",
          "name": "stdout",
          "text": [
            "11402\n"
          ]
        }
      ]
    },
    {
      "cell_type": "code",
      "metadata": {
        "id": "mkmP3fri7FvH"
      },
      "source": [
        "# construct a corpus which is like list of bag of words\n",
        "# where each bag of words is a dictionary of word ID's mapped to word count in document\n",
        "corpus = [dictionary.doc2bow(r) for r in reviews]"
      ],
      "execution_count": 65,
      "outputs": []
    },
    {
      "cell_type": "markdown",
      "metadata": {
        "id": "hFeARNh67Wkc"
      },
      "source": [
        "## Create the TF-IDF model, look at keywords for a few reviews"
      ]
    },
    {
      "cell_type": "code",
      "metadata": {
        "id": "58rvnaRs7Y9Z"
      },
      "source": [
        "tfidf = tfidfmodel.TfidfModel(corpus, dictionary = dictionary) # compute the tfidf model"
      ],
      "execution_count": 66,
      "outputs": []
    },
    {
      "cell_type": "code",
      "metadata": {
        "id": "GThx0G177_s7"
      },
      "source": [
        "def tfidf_keywords(txt, tfidf, dictionary, topn = 5):\n",
        "    \"\"\"\n",
        "    Takes in a parsed string, txt\n",
        "    a tfidf mode, tfidf\n",
        "    a gensim dictionary, dictionary,\n",
        "    and parameter topn that defines the number of top keywords to return\n",
        "    outputs topk, a list of tuples (keyword, keyword tfidf score)\n",
        "    \"\"\"\n",
        "    topk = sorted([(dictionary[t],f) for t,f in tfidf[dictionary.doc2bow(txt)]], key=lambda x: -x[-1])[:topn]\n",
        "    return topk"
      ],
      "execution_count": 67,
      "outputs": []
    },
    {
      "cell_type": "code",
      "metadata": {
        "id": "2SEdbnWu9ILA"
      },
      "source": [
        "# create column of top5 words\n",
        "df['top5_tfidf'] = df.parsed.str.split().apply(lambda x: tfidf_keywords(x, tfidf, dictionary, topn = 5))"
      ],
      "execution_count": 68,
      "outputs": []
    },
    {
      "cell_type": "code",
      "metadata": {
        "id": "S68vfGBz-uB5",
        "colab": {
          "base_uri": "https://localhost:8080/"
        },
        "outputId": "ed890d20-63e1-46b8-c25c-61386b09ca0b"
      },
      "source": [
        "# randomly sample a review (run a few times)\n",
        "r = df.sample(1) # sample a single row, r\n",
        "txt = r.reviewtext.iloc[0] # extract review text\n",
        "rating = r.reviewrating.iloc[0]\n",
        "hotel = r.v_name.iloc[0]\n",
        "keywords = r.top5_tfidf.iloc[0] # extract TFIDF keywords \n",
        "print('{} star review'.format(rating), hotel)\n",
        "print(txt)\n",
        "print(keywords)"
      ],
      "execution_count": 69,
      "outputs": [
        {
          "output_type": "stream",
          "name": "stdout",
          "text": [
            "5 star review Vdara Hotel & Spa\n",
            "Vdara has a sexy edge! Just off the strip connected to the Belagio. Great value for really good location! The room was trendy and very spacious! Love love love the big soaking tub. We had a room on the 46th floor overlooking the fountains. Couldn't ask for a better view! Concierge was great! They helped us navigate the busy strip and gave some great recommendations on food. The cafe in the lobby had THE BEST french toast on earth! We ate there every day!\n",
            "[('46th_floor', 0.32990141535803524), ('french_toast', 0.2857176179851801), ('soaking_tub', 0.27776662081773784), ('overlook_fountain', 0.2670492446886166), ('sexy', 0.25928367136947605)]\n"
          ]
        }
      ]
    },
    {
      "cell_type": "markdown",
      "metadata": {
        "id": "ngDFbxIIAuLE"
      },
      "source": [
        "**Answer this**\n",
        "\n",
        "Try to sample a few reviews and their respective keywords, did they make sense? Explain.\n",
        "\n",
        "1. **Yes, they make sense. The ratings reflects the reviews. An example is given below where the review is of a five star rating and it clearly reflects on the subjectivity of the review.**\n",
        "\n",
        "Below is a captured example of a review\n",
        "\n",
        "5 star review Wynn Las Vegas\n",
        "\n",
        "Many hotels in Vegas offer many attractions and activities, besides casinos. The Wynn is just another experience in itself with extremely friendly staff, very helpful and informative. The social atmosphere is unique and unforgettable, non-comparable with other higher-end hotels around. At the Wynn, the feeling is of staying in a very nice resort, not in Las Vegas.\n",
        "\n",
        "[('unforgettable', 0.3324441005377115), ('social', 0.3224438281091757), ('wynn', 0.3080663877000612), ('informative', 0.2968189827000601), ('comparable', 0.2661181791586344)]"
      ]
    },
    {
      "cell_type": "markdown",
      "metadata": {
        "id": "5Dzl3ZmeCOQ5"
      },
      "source": [
        "# Run LDA Model, explore topics (4 points)"
      ]
    },
    {
      "cell_type": "markdown",
      "metadata": {
        "id": "AqwinYyhCfOe"
      },
      "source": [
        "**Answer this**\n",
        "\n",
        "In your own words, 1) describe LDA model 2) what advantages does it have over TF-IDF?\n",
        "\n",
        "1. **A Latent Dirichlet Allocation (LDA) model is a topic modelling technique where each document is represented as a distribution over topics**\n",
        "2. **LDA enables the identification of similar documents or similar reviews and can be used to classify or identify similar objects of interest like hotels etc.**"
      ]
    },
    {
      "cell_type": "code",
      "metadata": {
        "id": "FRB9ZBgQCe23",
        "colab": {
          "base_uri": "https://localhost:8080/"
        },
        "outputId": "1c2ea81b-f88b-43aa-e257-4afb746b50de"
      },
      "source": [
        "from gensim.models.ldamulticore import LdaMulticore # import lda function\n",
        "run = True\n",
        "if run:\n",
        "    t0 = time.time()\n",
        "    perplexity = list()\n",
        "    # define a training and testing set\n",
        "    corpus_train, corpus_test = train_test_split(corpus, test_size = .05)\n",
        "    for numtopics in range(20, 201, 20): # loop through 20,40,...200 topics\n",
        "        lda = LdaMulticore(corpus_train, id2word=dictionary, num_topics=numtopics)\n",
        "        lda.save(nlppath+'lda{}.lda'.format(numtopics)) # save the model so we can load it up again later w/o running the model\n",
        "        p = lda.log_perplexity(corpus_test) # compute the perplexity on testing set\n",
        "        # save numtopics,p to the perplexity list \n",
        "        perplexity.append([numtopics, p])\n",
        "        # print out number of topics\n",
        "        print(numtopics)\n",
        "    perplexity = pd.DataFrame(perplexity, columns = ['ntopics', 'perplexity'])\n",
        "    td = time.time()-t0\n",
        "    print('Took {:.2f} minutes'.format(td/60))"
      ],
      "execution_count": 70,
      "outputs": [
        {
          "output_type": "stream",
          "name": "stdout",
          "text": [
            "20\n",
            "40\n",
            "60\n",
            "80\n"
          ]
        },
        {
          "output_type": "stream",
          "name": "stderr",
          "text": [
            "/usr/local/lib/python3.7/dist-packages/gensim/models/ldamodel.py:1023: RuntimeWarning: divide by zero encountered in log\n",
            "  diff = np.log(self.expElogbeta)\n"
          ]
        },
        {
          "output_type": "stream",
          "name": "stdout",
          "text": [
            "100\n",
            "120\n",
            "140\n",
            "160\n",
            "180\n",
            "200\n",
            "Took 17.02 minutes\n"
          ]
        }
      ]
    },
    {
      "cell_type": "code",
      "metadata": {
        "id": "AU4U0_oNUUUC",
        "colab": {
          "base_uri": "https://localhost:8080/",
          "height": 265
        },
        "outputId": "04db8084-fec7-4553-a4bd-b49e47998d97"
      },
      "source": [
        "if run:\n",
        "    plt.plot(perplexity.ntopics, perplexity.perplexity)"
      ],
      "execution_count": 71,
      "outputs": [
        {
          "output_type": "display_data",
          "data": {
            "image/png": "[encoded data removed]",
            "text/plain": [
              "<Figure size 432x288 with 1 Axes>"
            ]
          },
          "metadata": {
            "needs_background": "light"
          }
        }
      ]
    },
    {
      "cell_type": "markdown",
      "metadata": {
        "id": "tD7RJzfaUmWl"
      },
      "source": [
        "**Answer Question**\n",
        "\n",
        "How many topics appear to minimize perplexity? **The more the topics the less the perplexity. In this case, looking at the plot above; 200 topics minimizes the perplexity.**"
      ]
    },
    {
      "cell_type": "code",
      "metadata": {
        "id": "HJARvor3YlX9"
      },
      "source": [
        "# Load lda best model\n",
        "ntopics = 200\n",
        "lda = LdaMulticore.load(nlppath + 'lda{}.lda'.format(ntopics))\n",
        "lda.minimum_probability = 0."
      ],
      "execution_count": 72,
      "outputs": []
    },
    {
      "cell_type": "code",
      "metadata": {
        "id": "t0loLA6GDqwd",
        "colab": {
          "base_uri": "https://localhost:8080/"
        },
        "outputId": "cc169a70-bbc7-4b85-d973-d9cb5b21f165"
      },
      "source": [
        "# view all topics\n",
        "lda.show_topics(ntopics)"
      ],
      "execution_count": 73,
      "outputs": [
        {
          "output_type": "execute_result",
          "data": {
            "text/plain": [
              "[(0,\n",
              "  '0.053*\"smoke\" + 0.046*\"caesar_\\'s\" + 0.045*\"luxury\" + 0.034*\"mgm_grand\" + 0.021*\"hate\" + 0.021*\"beat\" + 0.018*\"smell\" + 0.016*\"generally\" + 0.015*\"thrill\" + 0.014*\"attend_conference\"'),\n",
              " (1,\n",
              "  '0.048*\"mandalay\" + 0.046*\"signature\" + 0.034*\"purchase\" + 0.026*\"tower\" + 0.018*\"cabana\" + 0.017*\"balcony\" + 0.014*\"two\" + 0.014*\"suite\" + 0.013*\"vip\" + 0.013*\"access\"'),\n",
              " (2,\n",
              "  '0.023*\"hardly\" + 0.018*\"winner\" + 0.017*\"cockroach\" + 0.016*\"heavy\" + 0.012*\"ready\" + 0.012*\"horrendous\" + 0.011*\"mirror\" + 0.011*\"another\" + 0.010*\"shirt\" + 0.009*\"large\"'),\n",
              " (3,\n",
              "  '0.038*\"2015\" + 0.033*\"center_strip\" + 0.030*\"bellagio_fountain\" + 0.027*\"$_5\" + 0.025*\"business_trip\" + 0.021*\"$_100\" + 0.020*\"joint\" + 0.020*\"surround\" + 0.016*\"constant\" + 0.015*\"tear\"'),\n",
              " (4,\n",
              "  '0.053*\"classy\" + 0.039*\"resort\" + 0.030*\"walk_distance\" + 0.023*\"smoke_free\" + 0.021*\"dining_option\" + 0.020*\"incredible\" + 0.019*\"elegant\" + 0.019*\"nightlife\" + 0.016*\"shopping\" + 0.016*\"caesars_palace\"'),\n",
              " (5,\n",
              "  '0.025*\"neat\" + 0.020*\"hundred\" + 0.019*\"burgers\" + 0.019*\"plane\" + 0.019*\"toilet_separate\" + 0.016*\"seven\" + 0.013*\"proper\" + 0.012*\"chandelier_bar\" + 0.011*\"lettuce\" + 0.011*\"japanese\"'),\n",
              " (6,\n",
              "  '0.029*\"detail\" + 0.023*\"barely\" + 0.021*\"professional\" + 0.019*\"vip\" + 0.017*\"12\" + 0.015*\"guy\" + 0.014*\"efficient\" + 0.012*\"specially\" + 0.011*\"unfriendly\" + 0.011*\"comp\"'),\n",
              " (7,\n",
              "  '0.025*\"block\" + 0.018*\"suit\" + 0.017*\"bargain\" + 0.015*\"right_next_door\" + 0.012*\"large\" + 0.012*\"big\" + 0.011*\"separate_living\" + 0.010*\"although\" + 0.010*\"beach_club\" + 0.010*\"condo\"'),\n",
              " (8,\n",
              "  '0.024*\"clear\" + 0.023*\"honeymoon\" + 0.022*\"suppose\" + 0.021*\"will_definitely\" + 0.019*\"$_30\" + 0.017*\"upgrade\" + 0.016*\"total_rewards_program\" + 0.015*\"cool\" + 0.014*\"4th\" + 0.014*\"agree\"'),\n",
              " (9,\n",
              "  '0.086*\"security\" + 0.042*\"cosmopolitan\" + 0.036*\"concert\" + 0.018*\"steal\" + 0.015*\"happen\" + 0.013*\"daughter\" + 0.012*\"free_parking\" + 0.012*\"come\" + 0.010*\"notify\" + 0.010*\"would_recommend_anyone\"'),\n",
              " (10,\n",
              "  '0.029*\"king\" + 0.024*\"hall\" + 0.023*\"bed\" + 0.021*\"soft\" + 0.017*\"leave\" + 0.015*\"extend\" + 0.014*\"flight\" + 0.013*\"suitcase\" + 0.013*\"double\" + 0.012*\"print_boarding_pass\"'),\n",
              " (11,\n",
              "  '0.028*\"roof\" + 0.027*\"waterfall\" + 0.026*\"bell\" + 0.021*\"24\" + 0.019*\"rain\" + 0.019*\"weigh\" + 0.018*\"highlight\" + 0.017*\"leak\" + 0.014*\"saturday\" + 0.014*\"water\"'),\n",
              " (12,\n",
              "  '0.067*\"harrahs\" + 0.031*\"buck\" + 0.020*\"5\" + 0.019*\"bug\" + 0.019*\"2\" + 0.018*\"6\" + 0.017*\"visit\" + 0.015*\"ok\" + 0.015*\"although\" + 0.013*\"example\"'),\n",
              " (13,\n",
              "  '0.027*\"fee\" + 0.022*\"regardless\" + 0.022*\"jubilee\" + 0.017*\"gondola_ride\" + 0.013*\"culinary_dropout\" + 0.012*\"obvious\" + 0.012*\"complicated\" + 0.012*\"low\" + 0.012*\"there-\" + 0.012*\"work\"'),\n",
              " (14,\n",
              "  '0.117*\"linq\" + 0.047*\"downtown\" + 0.017*\"rush_tower\" + 0.015*\"weekend\" + 0.014*\"high_roller\" + 0.013*\"fun\" + 0.011*\"free\" + 0.010*\"rarely\" + 0.010*\"gamble\" + 0.010*\"bar\"'),\n",
              " (15,\n",
              "  '0.057*\"bartender\" + 0.052*\"drink\" + 0.046*\"bar\" + 0.018*\"shower\" + 0.017*\"sit\" + 0.016*\"outdoor\" + 0.015*\"gamble\" + 0.014*\"fix\" + 0.012*\"cup\" + 0.011*\"figure\"'),\n",
              " (16,\n",
              "  '0.045*\"new_york_new_york\" + 0.039*\"would_definitely_recommend\" + 0.032*\"play_slot\" + 0.026*\"jubilee_tower\" + 0.026*\"slot\" + 0.021*\"okay\" + 0.012*\"visit\" + 0.012*\"availability\" + 0.011*\"treat_like_royalty\" + 0.011*\"calm\"'),\n",
              " (17,\n",
              "  '0.116*\"monte_carlo\" + 0.055*\"brilliant\" + 0.026*\"ground\" + 0.021*\"whenever\" + 0.016*\"wifi\" + 0.013*\"mc\" + 0.013*\"28th_floor\" + 0.013*\"memorial_day_weekend\" + 0.010*\"dancer\" + 0.010*\"coverage\"'),\n",
              " (18,\n",
              "  '0.041*\"roomy\" + 0.028*\"make_reservation\" + 0.026*\"disappointing\" + 0.024*\"outlet\" + 0.017*\"speak_manager\" + 0.014*\"closed\" + 0.012*\"high_tech\" + 0.012*\"register\" + 0.012*\"photo\" + 0.012*\"frustration\"'),\n",
              " (19,\n",
              "  '0.045*\"accommodating\" + 0.030*\"fully\" + 0.029*\"constantly\" + 0.029*\"shade\" + 0.025*\"chef\" + 0.013*\"brother\" + 0.011*\"neighboring\" + 0.011*\"low_floor\" + 0.010*\"easy\" + 0.009*\"spacious\"'),\n",
              " (20,\n",
              "  '0.059*\"site\" + 0.046*\"conference\" + 0.039*\"well_appoint\" + 0.029*\"ride\" + 0.026*\"polite\" + 0.024*\"9\" + 0.017*\"sight\" + 0.016*\"bottled_water\" + 0.013*\"little_pricey\" + 0.013*\"beer\"'),\n",
              " (21,\n",
              "  '0.036*\"upgrade\" + 0.027*\"assign\" + 0.025*\"supervisor\" + 0.024*\"peaceful\" + 0.020*\"shift\" + 0.018*\"request\" + 0.018*\"motel_6\" + 0.016*\"month_advance\" + 0.014*\"book\" + 0.012*\"available\"'),\n",
              " (22,\n",
              "  '0.069*\"feel_like\" + 0.031*\"fix\" + 0.026*\"décor\" + 0.024*\"work\" + 0.017*\"lock\" + 0.014*\"assistance\" + 0.013*\"message\" + 0.013*\"tv\" + 0.013*\"help\" + 0.012*\"go_beyond\"'),\n",
              " (23,\n",
              "  '0.044*\"harrah\" + 0.028*\"temperature\" + 0.018*\"harrah_\\'s\" + 0.017*\"frequently\" + 0.016*\"process\" + 0.015*\"front_door\" + 0.015*\"seem\" + 0.012*\"valentine_\\'s_day\" + 0.012*\"5th_floor\" + 0.012*\"receptionist\"'),\n",
              " (24,\n",
              "  '0.073*\"gaming\" + 0.065*\"shuttle\" + 0.038*\"three_night\" + 0.021*\"option\" + 0.018*\"smoky\" + 0.018*\"show\" + 0.016*\"north\" + 0.015*\"nightclub\" + 0.013*\"dining\" + 0.013*\"premise\"'),\n",
              " (25,\n",
              "  '0.034*\"last_year\" + 0.030*\"grand_canyon\" + 0.025*\"comfort\" + 0.020*\"feature\" + 0.016*\"middle_everything\" + 0.015*\"locate_middle_strip\" + 0.014*\"play_crap\" + 0.014*\"unhappy\" + 0.013*\"attraction\" + 0.013*\"bloody\"'),\n",
              " (26,\n",
              "  '0.039*\"coffee_shop\" + 0.029*\"mostly\" + 0.028*\"smokey\" + 0.026*\"five\" + 0.026*\"awful\" + 0.022*\"breakfast\" + 0.018*\"consistently\" + 0.018*\"anyways\" + 0.017*\"although\" + 0.017*\"close_airport\"'),\n",
              " (27,\n",
              "  '0.041*\"bet\" + 0.029*\"id\" + 0.024*\"city_center\" + 0.022*\"aria_bellagio\" + 0.015*\"salad\" + 0.014*\"haha\" + 0.014*\"bad\" + 0.014*\"continue\" + 0.013*\"bar\" + 0.013*\"stretch\"'),\n",
              " (28,\n",
              "  '0.038*\"enter\" + 0.035*\"lounge_chair\" + 0.028*\"straight\" + 0.022*\"view_bellagio_fountain\" + 0.022*\"navigate\" + 0.020*\"thursday\" + 0.019*\"wing\" + 0.016*\"suggestion\" + 0.016*\"sportsbook\" + 0.015*\"marquee\"'),\n",
              " (29,\n",
              "  '0.033*\"come_home\" + 0.027*\"look_elsewhere\" + 0.024*\"could_believe\" + 0.019*\"confortable\" + 0.018*\"mlife_desk\" + 0.016*\"trump_international\" + 0.013*\"recommend_anyone\" + 0.013*\"$_14\" + 0.013*\"wide_open\" + 0.012*\"separately\"'),\n",
              " (30,\n",
              "  '0.121*\"bally_\\'s\" + 0.021*\"quieter\" + 0.019*\"learn\" + 0.019*\"short_walk\" + 0.016*\"can\" + 0.015*\"paris\" + 0.014*\"square\" + 0.012*\"offer\" + 0.012*\"eye\" + 0.012*\"right_across_street\"'),\n",
              " (31,\n",
              "  '0.050*\"need_update\" + 0.038*\"overprice\" + 0.031*\"strange\" + 0.030*\"ambiance\" + 0.021*\"buffet_breakfast\" + 0.019*\"worn\" + 0.018*\"looking\" + 0.017*\"family_member\" + 0.015*\"boyfriend\" + 0.014*\"bed\"'),\n",
              " (32,\n",
              "  '0.112*\"family\" + 0.038*\"really_enjoy\" + 0.033*\"ballys\" + 0.027*\"long_wait\" + 0.025*\"satisfied\" + 0.023*\"explore\" + 0.021*\"christmas\" + 0.018*\"fun\" + 0.017*\"friendly\" + 0.017*\"kid\"'),\n",
              " (33,\n",
              "  '0.046*\"environment\" + 0.030*\"visit\" + 0.028*\"right_middle_strip\" + 0.027*\"caesars_palace\" + 0.025*\"caesars\" + 0.021*\"last_week\" + 0.020*\"aspect\" + 0.017*\"big_plus\" + 0.017*\"first_time\" + 0.016*\"aria\"'),\n",
              " (34,\n",
              "  '0.055*\"spotless\" + 0.039*\"surprised\" + 0.028*\"adjoin\" + 0.022*\"serious\" + 0.018*\"mountain\" + 0.018*\"degree\" + 0.017*\"sport_bar\" + 0.017*\"definitely_come_back\" + 0.016*\"pet\" + 0.014*\"player_card\"'),\n",
              " (35,\n",
              "  '0.116*\"coffee\" + 0.017*\"coffee_maker\" + 0.017*\"item\" + 0.016*\"charge\" + 0.015*\"water\" + 0.015*\"luggage\" + 0.014*\"refrigerator\" + 0.012*\"expensive\" + 0.011*\"drawer\" + 0.010*\"starbucks\"'),\n",
              " (36,\n",
              "  '0.025*\"brand_new\" + 0.025*\"golf\" + 0.020*\"generous\" + 0.018*\"flavor\" + 0.018*\"tasteful\" + 0.017*\"octavius_tower\" + 0.013*\"food_beverage\" + 0.012*\"honest\" + 0.012*\"canyon_ranch_spa\" + 0.012*\"22nd_floor\"'),\n",
              " (37,\n",
              "  '0.049*\"reservation\" + 0.025*\"top_floor\" + 0.021*\"$_60\" + 0.017*\"3rd\" + 0.014*\"cheer\" + 0.013*\"guy_fieri_\\'s\" + 0.013*\"talk_manager\" + 0.010*\"police\" + 0.010*\"fremont_street_experience\" + 0.010*\"wow\"'),\n",
              " (38,\n",
              "  '0.086*\"excalibur\" + 0.025*\"fan\" + 0.019*\"make_sure\" + 0.019*\"shower_head\" + 0.018*\"upgraded\" + 0.014*\"business\" + 0.013*\"absolute\" + 0.012*\"dream\" + 0.012*\"pleasant_helpful\" + 0.012*\"closer\"'),\n",
              " (39,\n",
              "  '0.053*\"central_location\" + 0.039*\"strong\" + 0.030*\"pretty_much\" + 0.027*\"curtain\" + 0.021*\"friendliness\" + 0.019*\"consideration\" + 0.016*\"toilet_paper\" + 0.014*\"high_roller\" + 0.014*\"15th_floor\" + 0.014*\"big\"'),\n",
              " (40,\n",
              "  '0.057*\"nearby\" + 0.044*\"mall\" + 0.029*\"furnishing\" + 0.025*\"far_away\" + 0.025*\"five_star\" + 0.022*\"form\" + 0.017*\"las_vegas_blvd\" + 0.015*\"property\" + 0.015*\"2014\" + 0.015*\"currently\"'),\n",
              " (41,\n",
              "  '0.046*\"valet_parking\" + 0.037*\"welcoming\" + 0.025*\"registration\" + 0.023*\"self_parking\" + 0.023*\"surely\" + 0.022*\"favourite\" + 0.020*\"hotels\" + 0.016*\"smell_fresh\" + 0.012*\"waiting\" + 0.011*\"many\"'),\n",
              " (42,\n",
              "  '0.113*\"super\" + 0.021*\"good_value_money\" + 0.019*\"roller_coaster\" + 0.018*\"overlook_pool\" + 0.017*\"venture\" + 0.015*\"proximity\" + 0.014*\"wide_variety\" + 0.012*\"spacious\" + 0.012*\"unbeatable\" + 0.011*\"fast\"'),\n",
              " (43,\n",
              "  '0.088*\"non_smoking\" + 0.077*\"smoking\" + 0.042*\"king_bed\" + 0.021*\"smoke\" + 0.014*\"promise\" + 0.013*\"tell\" + 0.013*\"available\" + 0.012*\"tip\" + 0.011*\"give\" + 0.011*\"20th_floor\"'),\n",
              " (44,\n",
              "  '0.040*\"smile\" + 0.036*\"lead\" + 0.021*\"terrace\" + 0.021*\"unbelievable\" + 0.020*\"smooth\" + 0.017*\"award\" + 0.016*\"wife\" + 0.015*\"right\" + 0.015*\"selection_restaurant\" + 0.014*\"invite_guest\"'),\n",
              " (45,\n",
              "  '0.027*\"four\" + 0.023*\"upside\" + 0.022*\"crappy\" + 0.021*\"car_valet\" + 0.018*\"play_table_game\" + 0.018*\"zero\" + 0.017*\"dresser\" + 0.017*\"record\" + 0.016*\"economy\" + 0.015*\"repeatedly\"'),\n",
              " (46,\n",
              "  '0.040*\"crowd\" + 0.037*\"pricey\" + 0.024*\"central\" + 0.021*\"beautiful\" + 0.019*\"easy\" + 0.017*\"centrally_locate_strip\" + 0.017*\"buffet\" + 0.017*\"huge\" + 0.017*\"corner_suite\" + 0.015*\"wi_fi\"'),\n",
              " (47,\n",
              "  '0.052*\"cosmo\" + 0.026*\"common_area\" + 0.022*\"weekday\" + 0.019*\"map\" + 0.015*\"amazingly\" + 0.015*\"ventilation\" + 0.014*\"eiffel_tower\" + 0.013*\"dining_area\" + 0.013*\"east\" + 0.013*\"surly\"'),\n",
              " (48,\n",
              "  '0.225*\"flamingo\" + 0.024*\"elevator\" + 0.015*\"coupon\" + 0.012*\"old\" + 0.009*\"cancel\" + 0.009*\"front_desk\" + 0.009*\"bad\" + 0.009*\"wait_line\" + 0.008*\"new\" + 0.008*\"spray\"'),\n",
              " (49,\n",
              "  '0.118*\"play\" + 0.079*\"table\" + 0.036*\"table_game\" + 0.024*\"player\" + 0.023*\"dealer\" + 0.020*\"machine\" + 0.019*\"fun\" + 0.018*\"game\" + 0.015*\"slot\" + 0.015*\"friendly\"'),\n",
              " (50,\n",
              "  '0.061*\"son\" + 0.055*\"mix\" + 0.027*\"make_feel_welcome\" + 0.027*\"famous\" + 0.025*\"activity\" + 0.022*\"thick\" + 0.018*\"fun\" + 0.016*\"definitely_worth\" + 0.016*\"aaa\" + 0.014*\"time_share\"'),\n",
              " (51,\n",
              "  '0.042*\"stratosphere\" + 0.029*\"bus\" + 0.029*\"dollar\" + 0.021*\"crazy\" + 0.018*\"freemont_street\" + 0.017*\"tower\" + 0.016*\"5_minute\" + 0.015*\"free\" + 0.015*\"awesome\" + 0.015*\"mcdonalds\"'),\n",
              " (52,\n",
              "  '0.025*\"cut\" + 0.022*\"likely\" + 0.020*\"tram\" + 0.017*\"story\" + 0.016*\"include_resort_fee\" + 0.015*\"spend\" + 0.013*\"marriott\" + 0.011*\"$_40\" + 0.010*\"wait_line\" + 0.010*\"pay\"'),\n",
              " (53,\n",
              "  '0.046*\"plug\" + 0.036*\"season\" + 0.028*\"ipad\" + 0.014*\"rule\" + 0.013*\"light\" + 0.012*\"blt_burger\" + 0.012*\"could_use_updating\" + 0.010*\"helpful_courteous\" + 0.010*\"closing\" + 0.010*\"six\"'),\n",
              " (54,\n",
              "  '0.045*\"card\" + 0.045*\"birthday\" + 0.018*\"feeling\" + 0.018*\"staff_attentive\" + 0.017*\"trip\" + 0.017*\"plenty_space\" + 0.015*\"accessible\" + 0.015*\"concierge_desk\" + 0.014*\"rent_car\" + 0.012*\"appropriate\"'),\n",
              " (55,\n",
              "  '0.180*\"rio\" + 0.037*\"property\" + 0.031*\"fault\" + 0.012*\"nicely_appoint\" + 0.012*\"bakery\" + 0.012*\"earn_point\" + 0.010*\"lack_customer_service\" + 0.010*\"beautiful\" + 0.009*\"suite\" + 0.009*\"choose\"'),\n",
              " (56,\n",
              "  '0.045*\"centrally_locate\" + 0.034*\"middle_strip\" + 0.027*\"everything_need\" + 0.027*\"nicely\" + 0.023*\"shopping\" + 0.021*\"immaculate\" + 0.019*\"big\" + 0.018*\"complex\" + 0.018*\"within\" + 0.017*\"palazzo_venetian\"'),\n",
              " (57,\n",
              "  '0.041*\"friendly_staff\" + 0.036*\"free_wifi\" + 0.033*\"layout\" + 0.028*\"every_year\" + 0.027*\"stay_anywhere_else\" + 0.027*\"locate\" + 0.026*\"breakfast_buffet\" + 0.025*\"best\" + 0.022*\"year\" + 0.018*\"benefit\"'),\n",
              " (58,\n",
              "  '0.057*\"alarm\" + 0.032*\"gorgeous\" + 0.026*\"abit\" + 0.024*\"pastry\" + 0.019*\"las\" + 0.017*\"public\" + 0.016*\"buffet\" + 0.015*\"clean_updated\" + 0.015*\"bread\" + 0.013*\"lovely\"'),\n",
              " (59,\n",
              "  '0.036*\"plaza\" + 0.033*\"affordable\" + 0.026*\"fun\" + 0.026*\"next_trip\" + 0.025*\"store\" + 0.025*\"food_option\" + 0.024*\"property\" + 0.023*\"limited\" + 0.022*\"expectation\" + 0.022*\"reasonably_price\"'),\n",
              " (60,\n",
              "  '0.024*\"monorail_stop\" + 0.023*\"italian_restaurant\" + 0.019*\"island\" + 0.016*\"mandatory\" + 0.013*\"corridor\" + 0.013*\"21st\" + 0.013*\"meh\" + 0.012*\"high_expectation\" + 0.012*\"non_smoking_floor\" + 0.011*\"feel\"'),\n",
              " (61,\n",
              "  '0.040*\"wonderful\" + 0.026*\"fun\" + 0.024*\"trip\" + 0.022*\"folk\" + 0.020*\"highly_recommend\" + 0.019*\"spread\" + 0.019*\"various\" + 0.019*\"beautiful\" + 0.018*\"visit\" + 0.018*\"amazing\"'),\n",
              " (62,\n",
              "  '0.072*\"aria\" + 0.024*\"across_road\" + 0.023*\"cell_phone\" + 0.017*\"electronic\" + 0.017*\"block_away\" + 0.013*\"eye\" + 0.012*\"5_10_minute\" + 0.011*\"seem\" + 0.011*\"customer\" + 0.011*\"stair\"'),\n",
              " (63,\n",
              "  '0.037*\"jacuzzi\" + 0.023*\"toilet\" + 0.021*\"reach\" + 0.020*\"small\" + 0.016*\"jet\" + 0.013*\"area\" + 0.013*\"bed\" + 0.012*\"shower\" + 0.011*\"open\" + 0.011*\"hide\"'),\n",
              " (64,\n",
              "  '0.025*\"amazed\" + 0.025*\"lively\" + 0.022*\"many\" + 0.019*\"connection\" + 0.015*\"sport_book\" + 0.015*\"fun\" + 0.014*\"none\" + 0.012*\"safe\" + 0.012*\"read\" + 0.011*\"entertain\"'),\n",
              " (65,\n",
              "  '0.075*\"order\" + 0.040*\"waitress\" + 0.033*\"drink\" + 0.029*\"steak\" + 0.025*\"meeting\" + 0.018*\"eat\" + 0.018*\"table\" + 0.017*\"breakfast\" + 0.015*\"try\" + 0.015*\"pizza\"'),\n",
              " (66,\n",
              "  '0.051*\"dealer\" + 0.023*\"quality\" + 0.019*\"guard\" + 0.017*\"horrible\" + 0.017*\"funny\" + 0.017*\"maintain\" + 0.016*\"attractive\" + 0.016*\"remember\" + 0.015*\"every\" + 0.014*\"property\"'),\n",
              " (67,\n",
              "  '0.099*\"vdara\" + 0.029*\"tour\" + 0.026*\"superb\" + 0.026*\"delicious\" + 0.018*\"bonus\" + 0.017*\"big\" + 0.016*\"excitement\" + 0.015*\"voucher\" + 0.013*\"show\" + 0.012*\"perfect\"'),\n",
              " (68,\n",
              "  '0.041*\"odd\" + 0.032*\"computer\" + 0.032*\"outdate\" + 0.026*\"expedia\" + 0.025*\"january\" + 0.021*\"smoke_smell\" + 0.018*\"well_lay\" + 0.016*\"good_luck\" + 0.013*\"probably\" + 0.012*\"mother\"'),\n",
              " (69,\n",
              "  '0.053*\"spa\" + 0.048*\"white\" + 0.030*\"round\" + 0.030*\"shake\" + 0.027*\"gold\" + 0.019*\"refurbish\" + 0.018*\"steam\" + 0.016*\"exercise\" + 0.012*\"although\" + 0.010*\"theatre\"'),\n",
              " (70,\n",
              "  '0.052*\"moth\" + 0.031*\"among\" + 0.031*\"cab_ride\" + 0.024*\"resturant\" + 0.021*\"insane\" + 0.016*\"amazing\" + 0.015*\"tripadvisor\" + 0.015*\"cuisine\" + 0.012*\"priceline\" + 0.012*\"shopping_center\"'),\n",
              " (71,\n",
              "  '0.037*\"ti\" + 0.035*\"general\" + 0.034*\"microwave\" + 0.015*\"blow_away\" + 0.012*\"dishwasher\" + 0.012*\"know\" + 0.012*\"hallway_noise\" + 0.011*\"network\" + 0.011*\"non_stop\" + 0.010*\"directly_across\"'),\n",
              " (72,\n",
              "  '0.094*\"harrah_\\'s\" + 0.037*\"thank\" + 0.030*\"memorable\" + 0.028*\"mom\" + 0.027*\"hot_water\" + 0.024*\"visit\" + 0.022*\"everyone\" + 0.020*\"june\" + 0.015*\"friendly\" + 0.014*\"employee\"'),\n",
              " (73,\n",
              "  '0.033*\"popular\" + 0.029*\"count\" + 0.023*\"upscale\" + 0.019*\"signage\" + 0.017*\"typical\" + 0.014*\"siren\" + 0.014*\"suites\" + 0.013*\"fast_food\" + 0.013*\"large\" + 0.012*\"via\"'),\n",
              " (74,\n",
              "  '0.043*\"sls\" + 0.014*\"cab_driver\" + 0.013*\"think\" + 0.012*\"monorail\" + 0.011*\"decision\" + 0.011*\"new\" + 0.010*\"world_tower\" + 0.009*\"pocket\" + 0.009*\"know\" + 0.009*\"part\"'),\n",
              " (75,\n",
              "  '0.023*\"spring_break\" + 0.018*\"hr\" + 0.016*\"4_p.m.\" + 0.016*\"depend\" + 0.016*\"pricing\" + 0.015*\"starbuck\" + 0.015*\"hrh\" + 0.014*\"$_20\" + 0.013*\"3_p.m.\" + 0.012*\"arrive\"'),\n",
              " (76,\n",
              "  '0.029*\"alot\" + 0.024*\"inviting\" + 0.021*\"motel\" + 0.020*\"walking\" + 0.018*\"must_see\" + 0.017*\"convenient\" + 0.016*\"big\" + 0.016*\"focus\" + 0.014*\"right_front\" + 0.013*\"rooftop\"'),\n",
              " (77,\n",
              "  '0.053*\"box\" + 0.024*\"bottom\" + 0.017*\"26\" + 0.016*\"gracious\" + 0.015*\"ice_cream\" + 0.015*\"pound\" + 0.014*\"concierge_helpful\" + 0.013*\"toiletry\" + 0.013*\"attendant\" + 0.012*\"newly_renovate\"'),\n",
              " (78,\n",
              "  '0.039*\"trump\" + 0.025*\"tower\" + 0.022*\"suite\" + 0.021*\"two\" + 0.019*\"tower_1\" + 0.019*\"3\" + 0.014*\"unit\" + 0.014*\"kitchen\" + 0.013*\"2\" + 0.009*\"book\"'),\n",
              " (79,\n",
              "  '0.033*\"smoker\" + 0.029*\"scale\" + 0.021*\"cause\" + 0.019*\"local\" + 0.019*\"quad\" + 0.018*\"b\" + 0.014*\"deep_cleaning\" + 0.014*\"black_jack_table\" + 0.014*\"shady\" + 0.013*\"design\"'),\n",
              " (80,\n",
              "  '0.105*\"venetian\" + 0.090*\"palazzo\" + 0.032*\"suite\" + 0.029*\"beautiful\" + 0.022*\"property\" + 0.015*\"resort\" + 0.015*\"many\" + 0.015*\"amazing\" + 0.012*\"wonderful\" + 0.012*\"fantastic\"'),\n",
              " (81,\n",
              "  '0.037*\"giant\" + 0.017*\"billing\" + 0.017*\"wardrobe\" + 0.015*\"bed\" + 0.014*\"two_queen_bed\" + 0.013*\"upgrade\" + 0.012*\"lean\" + 0.011*\"try_somewhere_else\" + 0.011*\"let_alone\" + 0.010*\"due\"'),\n",
              " (82,\n",
              "  '0.039*\"traffic\" + 0.036*\"exceed_expectation\" + 0.028*\"forum_tower\" + 0.021*\"would_hesitate\" + 0.017*\"line_long\" + 0.015*\"thoroughly_enjoy\" + 0.014*\"addition\" + 0.013*\"road_trip\" + 0.013*\"impeccable\" + 0.013*\"dinning\"'),\n",
              " (83,\n",
              "  '0.040*\"parking\" + 0.031*\"kid\" + 0.031*\"21\" + 0.029*\"+\" + 0.027*\"area\" + 0.026*\"indoor\" + 0.026*\"join\" + 0.022*\"paint\" + 0.018*\"bass\" + 0.014*\"cater\"'),\n",
              " (84,\n",
              "  '0.061*\"impressive\" + 0.040*\"bathtub\" + 0.029*\"night_club\" + 0.020*\"gaming_floor\" + 0.020*\"situate\" + 0.018*\"gaming_table\" + 0.017*\"buffet\" + 0.016*\"solid\" + 0.015*\"option\" + 0.015*\"dry\"'),\n",
              " (85,\n",
              "  '0.040*\"ideal\" + 0.037*\"style\" + 0.030*\"tight\" + 0.029*\"decoration\" + 0.026*\"romantic\" + 0.022*\"repair\" + 0.017*\"flat_screen_tv\" + 0.016*\"in-\" + 0.012*\"work_properly\" + 0.011*\"recognize\"'),\n",
              " (86,\n",
              "  '0.029*\"management\" + 0.018*\"move\" + 0.016*\"bad\" + 0.015*\"tell\" + 0.014*\"problem\" + 0.014*\"charge\" + 0.014*\"bill\" + 0.013*\"issue\" + 0.012*\"system\" + 0.011*\"elevator\"'),\n",
              " (87,\n",
              "  '0.030*\"position\" + 0.028*\"email\" + 0.027*\"stuff\" + 0.021*\"effort\" + 0.012*\"favor\" + 0.011*\"receptionist\" + 0.010*\"20th\" + 0.010*\"every_morning\" + 0.010*\"samba\" + 0.010*\"monte_carlos\"'),\n",
              " (88,\n",
              "  '0.051*\"supply\" + 0.029*\"bill\" + 0.024*\"email\" + 0.019*\"bell_desk\" + 0.018*\"neither\" + 0.015*\"bell_hop\" + 0.014*\"hell\" + 0.013*\"responsive\" + 0.012*\"knock\" + 0.012*\"heat\"'),\n",
              " (89,\n",
              "  '0.032*\"minibar\" + 0.024*\"per_night\" + 0.017*\"rate\" + 0.017*\"charge\" + 0.016*\"free\" + 0.014*\"$\" + 0.013*\"bottle_water\" + 0.011*\"min\" + 0.010*\"quote\" + 0.009*\"call\"'),\n",
              " (90,\n",
              "  '0.069*\"win\" + 0.024*\"contemporary\" + 0.021*\"lol\" + 0.021*\"upstairs\" + 0.015*\"blackjack_table\" + 0.015*\"perfect\" + 0.015*\"bar\" + 0.015*\"bed\" + 0.014*\"amazing\" + 0.013*\"drink\"'),\n",
              " (91,\n",
              "  '0.075*\"pleased\" + 0.022*\"offering\" + 0.021*\"exciting\" + 0.020*\"large\" + 0.017*\"brief\" + 0.015*\"mon_ami_gabi\" + 0.013*\"paris\" + 0.013*\"beautifully\" + 0.013*\"thirty_minute\" + 0.012*\"wrap_around\"'),\n",
              " (92,\n",
              "  '0.019*\"fry\" + 0.018*\"cashier\" + 0.017*\"act\" + 0.016*\"monday\" + 0.016*\"opening\" + 0.014*\"ask\" + 0.014*\"come\" + 0.013*\"drink\" + 0.013*\"ceasars\" + 0.012*\"friday\"'),\n",
              " (93,\n",
              "  '0.035*\"visitor\" + 0.027*\"tower_2\" + 0.027*\"read_review\" + 0.026*\"cook\" + 0.021*\"’s\" + 0.021*\"privacy\" + 0.017*\"washroom\" + 0.016*\"glass_shower\" + 0.015*\"balcony\" + 0.014*\"suite\"'),\n",
              " (94,\n",
              "  '0.055*\"remodel\" + 0.054*\"fresh\" + 0.041*\"first_class\" + 0.030*\"mattress\" + 0.026*\"destination\" + 0.024*\"decorate\" + 0.020*\"action\" + 0.020*\"acceptable\" + 0.019*\"value_money\" + 0.016*\"modern\"'),\n",
              " (95,\n",
              "  '0.028*\"lazy_river\" + 0.024*\"prepare\" + 0.023*\"steakhouse\" + 0.019*\"bring\" + 0.017*\"car\" + 0.017*\"wave_pool\" + 0.017*\"maintenance\" + 0.015*\"large\" + 0.015*\"pool_deck\" + 0.014*\"float\"'),\n",
              " (96,\n",
              "  '0.025*\"mistake\" + 0.019*\"housekeep\" + 0.014*\"submit\" + 0.013*\"accompany\" + 0.012*\"work\" + 0.011*\"never\" + 0.011*\"treat_like_vip\" + 0.011*\"channel\" + 0.010*\"battery\" + 0.010*\"ghetto\"'),\n",
              " (97,\n",
              "  '0.149*\"mirage\" + 0.028*\"stream\" + 0.015*\"sister\" + 0.014*\"watch\" + 0.014*\"big\" + 0.014*\"huge\" + 0.012*\"pantry\" + 0.011*\"venezia_tower\" + 0.010*\"bella_suite\" + 0.010*\"main\"'),\n",
              " (98,\n",
              "  '0.047*\"ph\" + 0.028*\"actual\" + 0.021*\"cheap\" + 0.018*\"slight\" + 0.015*\"seriously\" + 0.015*\"planet_hollywood\" + 0.015*\"repeat\" + 0.015*\"group_friend\" + 0.013*\"cake\" + 0.013*\"bar\"'),\n",
              " (99,\n",
              "  '0.050*\"special\" + 0.028*\"wife\" + 0.026*\"wonderful\" + 0.020*\"well_worth\" + 0.020*\"suite\" + 0.017*\"vdara\" + 0.015*\"fantastic\" + 0.015*\"5th\" + 0.015*\"visit\" + 0.014*\"soon\"'),\n",
              " (100,\n",
              "  '0.043*\"hard_rock\" + 0.029*\"make_feel_like\" + 0.025*\"24th_floor\" + 0.018*\"describe\" + 0.017*\"noisy\" + 0.016*\"crew\" + 0.015*\"slightly\" + 0.015*\"tend\" + 0.015*\"team\" + 0.014*\"cab\"'),\n",
              " (101,\n",
              "  '0.064*\"host\" + 0.060*\"slot_machine\" + 0.037*\"treat\" + 0.028*\"diamond\" + 0.026*\"lose\" + 0.021*\"help\" + 0.018*\"suite\" + 0.016*\"awesome\" + 0.015*\"appeal\" + 0.015*\"celebrate\"'),\n",
              " (102,\n",
              "  '0.032*\"red\" + 0.026*\"sunny\" + 0.023*\"everybody\" + 0.021*\"second_none\" + 0.019*\".the\" + 0.015*\"moderate\" + 0.015*\"report\" + 0.015*\"bored\" + 0.013*\"flight_cancel\" + 0.012*\"v\"'),\n",
              " (103,\n",
              "  '0.028*\"assist\" + 0.024*\"30\" + 0.024*\"elevator\" + 0.018*\"con\" + 0.017*\"pro\" + 0.017*\"bottom\" + 0.016*\"wait\" + 0.014*\"cozy\" + 0.013*\"exist\" + 0.013*\"tasty\"'),\n",
              " (104,\n",
              "  '0.023*\"light\" + 0.020*\"dust\" + 0.019*\"picture\" + 0.017*\"housekeeping\" + 0.017*\"floor\" + 0.015*\"button\" + 0.014*\"cleaning\" + 0.014*\"trash\" + 0.013*\"south_strip\" + 0.012*\"lamp\"'),\n",
              " (105,\n",
              "  '0.017*\"agent\" + 0.015*\"come\" + 0.013*\"never\" + 0.013*\"hour\" + 0.013*\"wait\" + 0.012*\"first\" + 0.012*\"go_back\" + 0.011*\"try\" + 0.011*\"ice\" + 0.011*\"disgusting\"'),\n",
              " (106,\n",
              "  '0.185*\"wynn\" + 0.039*\"encore\" + 0.018*\"fitness_center\" + 0.015*\"open_door\" + 0.013*\"gym\" + 0.012*\"wynn_encore\" + 0.012*\"power\" + 0.009*\"equipment\" + 0.009*\"spa\" + 0.008*\"near_elevator\"'),\n",
              " (107,\n",
              "  '0.037*\"impress\" + 0.032*\"bunch\" + 0.021*\"price_reasonable\" + 0.020*\"4_star\" + 0.018*\"nicely_decorate\" + 0.017*\"fairly\" + 0.014*\"lay\" + 0.013*\"grade\" + 0.013*\"buffet\" + 0.013*\"32nd_floor\"'),\n",
              " (108,\n",
              "  '0.036*\"facility\" + 0.031*\"shame\" + 0.019*\"taxis\" + 0.019*\"literally\" + 0.016*\"24/7\" + 0.012*\"use_gym\" + 0.012*\"tea_coffee_make\" + 0.012*\"bed_super_comfy\" + 0.011*\"sense\" + 0.011*\"pay\"'),\n",
              " (109,\n",
              "  '0.067*\"fridge\" + 0.023*\"per\" + 0.021*\"charge\" + 0.020*\"mini_fridge\" + 0.019*\"drink\" + 0.014*\"pay\" + 0.011*\"floor\" + 0.011*\"2nd_floor\" + 0.010*\"$_10\" + 0.009*\"fee\"'),\n",
              " (110,\n",
              "  '0.053*\"burger\" + 0.037*\"terrific\" + 0.030*\"improvement\" + 0.029*\"seafood\" + 0.020*\"overwhelming\" + 0.014*\"irritate\" + 0.014*\"costly\" + 0.014*\"escalator\" + 0.013*\"annoying\" + 0.013*\"eat\"'),\n",
              " (111,\n",
              "  '0.041*\"switch\" + 0.039*\"new_york\" + 0.027*\"gripe\" + 0.026*\"m_life\" + 0.024*\"$_15\" + 0.017*\"arrive_late\" + 0.017*\"give\" + 0.013*\"book\" + 0.013*\"low_key\" + 0.012*\"pizza\"'),\n",
              " (112,\n",
              "  '0.038*\"load\" + 0.031*\"convention\" + 0.024*\"personnel\" + 0.022*\"deep\" + 0.019*\"odor\" + 0.015*\"hard_find\" + 0.015*\"wine\" + 0.013*\"keno\" + 0.013*\"lounge_area\" + 0.013*\"area\"'),\n",
              " (113,\n",
              "  '0.040*\"’\" + 0.029*\"dog\" + 0.022*\"easy_navigate\" + 0.020*\"fun\" + 0.020*\"friendly\" + 0.019*\"paradise_tower\" + 0.018*\"surprisingly\" + 0.016*\"amazing\" + 0.015*\"themed\" + 0.014*\"cool\"'),\n",
              " (114,\n",
              "  '0.075*\"slow\" + 0.043*\"top_notch\" + 0.033*\"elevator\" + 0.024*\"uncomfortable\" + 0.021*\"line\" + 0.018*\"10_minute\" + 0.017*\"terrible\" + 0.014*\"dated\" + 0.013*\"big_deal\" + 0.013*\"bed\"'),\n",
              " (115,\n",
              "  '0.033*\"16th_floor\" + 0.023*\"wide\" + 0.019*\"hint\" + 0.017*\"cross\" + 0.015*\"note\" + 0.015*\"prove\" + 0.013*\"blackout_curtain\" + 0.012*\"penny_slot\" + 0.012*\"$_9\" + 0.012*\"lately\"'),\n",
              " (116,\n",
              "  '0.063*\"age\" + 0.039*\"attend\" + 0.024*\"arcade\" + 0.019*\"update\" + 0.018*\"15\" + 0.016*\"fish\" + 0.014*\"plastic\" + 0.013*\"small\" + 0.013*\"rent\" + 0.012*\"attraction\"'),\n",
              " (117,\n",
              "  '0.036*\"club\" + 0.033*\"section\" + 0.029*\"exit\" + 0.017*\"minute_walk\" + 0.014*\"big\" + 0.013*\"quiet\" + 0.012*\"end\" + 0.011*\"2\" + 0.010*\"glitzy\" + 0.010*\"away\"'),\n",
              " (118,\n",
              "  '0.057*\"online\" + 0.024*\"non_smoker\" + 0.015*\"poorly\" + 0.015*\"perk\" + 0.014*\"work\" + 0.014*\"helpful_friendly\" + 0.013*\"airline\" + 0.013*\"imperial_palace\" + 0.013*\"night_life\" + 0.012*\"still\"'),\n",
              " (119,\n",
              "  '0.033*\"ago\" + 0.027*\"word\" + 0.016*\"crap\" + 0.015*\"pass\" + 0.014*\"never\" + 0.013*\"promotion\" + 0.012*\"guy\" + 0.012*\"2_queen_bed\" + 0.011*\"bad\" + 0.011*\"trop\"'),\n",
              " (120,\n",
              "  '0.037*\"confirm\" + 0.024*\"us\" + 0.021*\"book\" + 0.019*\"booking\" + 0.019*\"hey\" + 0.018*\"eventually\" + 0.011*\"give\" + 0.010*\"something\" + 0.009*\"someone\" + 0.009*\"try\"'),\n",
              " (121,\n",
              "  '0.048*\"u\" + 0.039*\"everything_else\" + 0.037*\"prompt\" + 0.023*\"normally\" + 0.020*\"close_enough\" + 0.019*\"air_conditioner\" + 0.018*\"anybody\" + 0.016*\"left\" + 0.013*\"anything\" + 0.012*\"beverage_service\"'),\n",
              " (122,\n",
              "  '0.068*\"wear\" + 0.036*\"tiny\" + 0.022*\"small\" + 0.021*\"somehow\" + 0.020*\"west_wing\" + 0.019*\"winter\" + 0.014*\"table_limit\" + 0.013*\"inconvenient\" + 0.011*\"little\" + 0.011*\"speedy\"'),\n",
              " (123,\n",
              "  '0.133*\"mandalay_bay\" + 0.058*\"delano\" + 0.028*\"luxor\" + 0.027*\"pyramid\" + 0.027*\"pretty\" + 0.021*\"attach\" + 0.014*\"planet\" + 0.012*\"typically\" + 0.012*\"west_tower\" + 0.009*\"w\"'),\n",
              " (124,\n",
              "  '0.060*\"event\" + 0.037*\"augustus_tower\" + 0.020*\"close_proximity\" + 0.018*\"rinse\" + 0.018*\"guarantee\" + 0.017*\"henderson\" + 0.014*\"bit_pricey\" + 0.014*\"little_slow\" + 0.013*\"secret_pizza\" + 0.013*\"discount_rate\"'),\n",
              " (125,\n",
              "  '0.082*\"music\" + 0.079*\"loud\" + 0.029*\"sleep\" + 0.025*\"noise\" + 0.020*\"hear\" + 0.013*\"adjacent\" + 0.013*\"allergy\" + 0.013*\"baggage\" + 0.012*\"40\" + 0.011*\"price_range\"'),\n",
              " (126,\n",
              "  '0.050*\"lie\" + 0.044*\"train\" + 0.025*\"steak_house\" + 0.024*\"outdated\" + 0.015*\"unpleasant\" + 0.013*\"cute\" + 0.012*\"south\" + 0.011*\"run\" + 0.011*\"bad\" + 0.011*\"obtain\"'),\n",
              " (127,\n",
              "  '0.025*\"pro\" + 0.024*\"seek\" + 0.022*\"con\" + 0.020*\"brunch\" + 0.019*\"cocktail\" + 0.019*\"hire\" + 0.017*\"moment\" + 0.017*\"buffett\" + 0.017*\"champagne\" + 0.017*\"prestige\"'),\n",
              " (128,\n",
              "  '0.182*\"paris\" + 0.033*\"construction\" + 0.022*\"incredibly\" + 0.020*\"till\" + 0.015*\"eiffel_tower\" + 0.011*\"sale\" + 0.010*\"parent\" + 0.010*\"across_street\" + 0.010*\"bally_\\'s\" + 0.009*\"however\"'),\n",
              " (129,\n",
              "  '0.035*\"usual\" + 0.034*\"venue\" + 0.033*\"refrigerator\" + 0.026*\"par\" + 0.024*\"air\" + 0.024*\"expensive\" + 0.021*\"cocktail_waitress\" + 0.021*\"link\" + 0.019*\"monorail\" + 0.017*\"shampoo\"'),\n",
              " (130,\n",
              "  '0.032*\"street\" + 0.030*\"every_single\" + 0.023*\"fortunately\" + 0.023*\"function\" + 0.021*\"operate\" + 0.019*\"fly\" + 0.017*\"factor\" + 0.016*\"force\" + 0.016*\"wallet\" + 0.015*\"earlier\"'),\n",
              " (131,\n",
              "  '0.050*\"february\" + 0.035*\"worker\" + 0.026*\"screen\" + 0.020*\"decide_try\" + 0.018*\"portion\" + 0.017*\"patient\" + 0.016*\"attention_detail\" + 0.013*\"seem\" + 0.011*\"suspect\" + 0.011*\"housekeep\"'),\n",
              " (132,\n",
              "  '0.055*\"renovation\" + 0.051*\"ton\" + 0.049*\"blast\" + 0.028*\"band\" + 0.025*\"rock\" + 0.023*\"new\" + 0.018*\"central_location_strip\" + 0.016*\"poor\" + 0.016*\"watch_tv\" + 0.016*\"imagine\"'),\n",
              " (133,\n",
              "  '0.049*\"sound\" + 0.032*\"emergency\" + 0.026*\"ensure\" + 0.025*\"clientele\" + 0.022*\"clerk\" + 0.016*\"dingy\" + 0.015*\"typical_vegas\" + 0.014*\"business_center\" + 0.010*\"little\" + 0.009*\"know\"'),\n",
              " (134,\n",
              "  '0.031*\"sandwich\" + 0.031*\"blackjack\" + 0.022*\"character\" + 0.019*\"perspective\" + 0.019*\"hash_house\" + 0.014*\"gap\" + 0.013*\"eve\" + 0.013*\"denny_\\'s\" + 0.013*\"45_min\" + 0.012*\"towers\"'),\n",
              " (135,\n",
              "  '0.033*\"ti\" + 0.027*\"small\" + 0.026*\"drawback\" + 0.023*\"earn\" + 0.021*\"memory\" + 0.017*\"positive\" + 0.015*\"appealing\" + 0.015*\"redone\" + 0.014*\"large\" + 0.013*\"size\"'),\n",
              " (136,\n",
              "  '0.058*\"lunch\" + 0.027*\"buffet\" + 0.026*\"24_hour\" + 0.019*\"dessert\" + 0.019*\"eat\" + 0.018*\"establishment\" + 0.017*\"dinner\" + 0.017*\"self\" + 0.012*\"visit\" + 0.012*\"deli\"'),\n",
              " (137,\n",
              "  '0.024*\"address\" + 0.021*\"leftover\" + 0.019*\"indicate\" + 0.019*\"structure\" + 0.017*\"teen\" + 0.017*\"control\" + 0.016*\"inch\" + 0.014*\"reimburse\" + 0.013*\"seem\" + 0.013*\"two\"'),\n",
              " (138,\n",
              "  '0.052*\"deluxe\" + 0.033*\"write\" + 0.024*\"review\" + 0.017*\"spotty\" + 0.016*\"hard\" + 0.015*\"act_like\" + 0.013*\"clothe\" + 0.013*\"will_never\" + 0.012*\"survey\" + 0.012*\"chain\"'),\n",
              " (139,\n",
              "  '0.046*\"live\" + 0.034*\"dinner\" + 0.025*\"deliver\" + 0.024*\"year_ago\" + 0.021*\"maid_service\" + 0.018*\"per_person\" + 0.018*\"single\" + 0.017*\"5_star\" + 0.016*\"expect\" + 0.014*\"getaway\"'),\n",
              " (140,\n",
              "  '0.048*\"center\" + 0.023*\"theme\" + 0.023*\"drape\" + 0.021*\"furniture\" + 0.017*\"mgm_grand\" + 0.017*\"range\" + 0.016*\"four_night\" + 0.013*\"close\" + 0.012*\"market\" + 0.011*\"old\"'),\n",
              " (141,\n",
              "  '0.084*\"kid\" + 0.030*\"suck\" + 0.029*\"n\" + 0.020*\"ceaser\" + 0.017*\"daughter\" + 0.015*\"wifi_work\" + 0.014*\"body\" + 0.013*\"31\" + 0.011*\"delighted\" + 0.011*\"never\"'),\n",
              " (142,\n",
              "  '0.042*\"wedding\" + 0.031*\"garden\" + 0.029*\"dress\" + 0.029*\"hospitality\" + 0.020*\"sweet\" + 0.016*\"hash\" + 0.016*\"normal\" + 0.014*\"air_conditioning\" + 0.014*\"thank\" + 0.014*\"beautiful\"'),\n",
              " (143,\n",
              "  '0.047*\"suite\" + 0.028*\"bedroom\" + 0.021*\"spacious\" + 0.021*\"jacuzzi_tub\" + 0.021*\"new_years_eve\" + 0.017*\"setting\" + 0.017*\"district\" + 0.014*\"large\" + 0.013*\"review_read\" + 0.011*\"wonderful\"'),\n",
              " (144,\n",
              "  '0.028*\"high_quality\" + 0.027*\"variety_food\" + 0.022*\"sls\" + 0.021*\"south_end_strip\" + 0.017*\"a\" + 0.016*\"significant\" + 0.012*\"friendly_helpful\" + 0.011*\"wow_factor\" + 0.011*\"absolutely_amazing\" + 0.011*\"choice\"'),\n",
              " (145,\n",
              "  '0.055*\"bed\" + 0.025*\"onto\" + 0.024*\"alone\" + 0.023*\"treasure_island\" + 0.023*\"wash\" + 0.021*\"sheet\" + 0.021*\"color\" + 0.020*\"patio\" + 0.018*\"hbo\" + 0.013*\"oppose\"'),\n",
              " (146,\n",
              "  '0.015*\"shut\" + 0.014*\"2\" + 0.013*\"3_star\" + 0.012*\"smell\" + 0.011*\"wall\" + 0.011*\"air_quality\" + 0.011*\"work\" + 0.010*\"metal\" + 0.010*\"hour\" + 0.009*\"free\"'),\n",
              " (147,\n",
              "  '0.071*\"tropicana\" + 0.036*\"dark\" + 0.035*\"foot\" + 0.026*\"interested\" + 0.026*\"hilton\" + 0.023*\"dance\" + 0.021*\"bally_\\'s\" + 0.019*\"light\" + 0.017*\"small\" + 0.017*\"dish\"'),\n",
              " (148,\n",
              "  '0.048*\"massage\" + 0.032*\"previous\" + 0.024*\"ish\" + 0.022*\"adult_pool\" + 0.019*\"stale\" + 0.018*\"retreat\" + 0.017*\"spa\" + 0.014*\"everyone_else\" + 0.013*\"house_keep\" + 0.013*\"3_a.m.\"'),\n",
              " (149,\n",
              "  '0.055*\"adult\" + 0.025*\"shoe\" + 0.023*\"associate\" + 0.023*\"convention_center\" + 0.020*\"kid\" + 0.020*\"midnight\" + 0.019*\"plumbing\" + 0.019*\"fine_dining\" + 0.017*\"adjoining\" + 0.016*\"well_decorate\"'),\n",
              " (150,\n",
              "  '0.025*\"bottle\" + 0.024*\"11_a.m.\" + 0.015*\"leave\" + 0.014*\"ask\" + 0.013*\"brand\" + 0.012*\"contain\" + 0.012*\"ces\" + 0.012*\"housekeeping\" + 0.010*\"front_desk_agent\" + 0.010*\"give\"'),\n",
              " (151,\n",
              "  '0.105*\"mgm\" + 0.054*\"lv\" + 0.029*\"nothing_special\" + 0.012*\"~\" + 0.012*\"separate\" + 0.011*\"5\" + 0.011*\"\\'s\" + 0.010*\"different\" + 0.010*\"sit_area\" + 0.009*\"close_action\"'),\n",
              " (152,\n",
              "  '0.044*\"would_highly_recommend\" + 0.036*\"staff_friendly_helpful\" + 0.032*\"recent\" + 0.032*\"bed_comfy\" + 0.025*\"road\" + 0.024*\"occasion\" + 0.016*\"central_strip\" + 0.016*\"play_blackjack\" + 0.013*\"monorail_station\" + 0.012*\"treatment\"'),\n",
              " (153,\n",
              "  '0.043*\"seat\" + 0.038*\"sun\" + 0.030*\"somewhat\" + 0.026*\"poolside\" + 0.025*\"private\" + 0.018*\"personally\" + 0.018*\"average\" + 0.015*\"sit\" + 0.015*\"although\" + 0.013*\"big\"'),\n",
              " (154,\n",
              "  '0.062*\"pillow\" + 0.046*\"otherwise\" + 0.022*\"home\" + 0.021*\"make_feel\" + 0.019*\"fine\" + 0.015*\"check_process\" + 0.015*\"long\" + 0.015*\"several_time\" + 0.014*\"term\" + 0.013*\"elevator\"'),\n",
              " (155,\n",
              "  '0.071*\"$\" + 0.047*\"resort_fee\" + 0.026*\"$_$\" + 0.021*\"compe\" + 0.014*\"think\" + 0.014*\"pay\" + 0.012*\"joke\" + 0.012*\"crack\" + 0.011*\"work\" + 0.010*\"first\"'),\n",
              " (156,\n",
              "  '0.036*\"within_walk_distance\" + 0.031*\"handy\" + 0.029*\"scene\" + 0.022*\"massive\" + 0.018*\"charge_extra\" + 0.017*\"plush\" + 0.016*\"big\" + 0.015*\"caesars\" + 0.013*\"consider\" + 0.013*\"luke_warm\"'),\n",
              " (157,\n",
              "  '0.060*\"suggest\" + 0.019*\"yell\" + 0.019*\"surprising\" + 0.015*\"bungalow\" + 0.014*\"heaven\" + 0.014*\"mr\" + 0.014*\"buddy\" + 0.013*\"beauty\" + 0.013*\"could_hear\" + 0.012*\"1000\"'),\n",
              " (158,\n",
              "  '0.030*\"boy\" + 0.027*\"high\" + 0.024*\"free\" + 0.023*\"pay_resort_fee\" + 0.022*\"used\" + 0.021*\"wifi\" + 0.016*\"cost_$\" + 0.014*\"extremely_helpful\" + 0.013*\"buy_ticket\" + 0.012*\"75\"'),\n",
              " (159,\n",
              "  '0.037*\"little_bit\" + 0.034*\"trouble\" + 0.025*\"crowded\" + 0.023*\"early_morning\" + 0.022*\"minus\" + 0.018*\"pizza_place\" + 0.015*\"breakfast_lunch\" + 0.014*\"maybe\" + 0.014*\"60\" + 0.013*\"wicked_spoon\"'),\n",
              " (160,\n",
              "  '0.037*\"park\" + 0.022*\"2\" + 0.021*\"ignore\" + 0.017*\"tower\" + 0.015*\"jan\" + 0.014*\"comfy_bed\" + 0.014*\"drop\" + 0.012*\"wear_tear\" + 0.011*\"sculpture\" + 0.011*\"internal\"'),\n",
              " (161,\n",
              "  '0.180*\"bellagio\" + 0.027*\"fountain\" + 0.027*\"lovely\" + 0.023*\"anyone\" + 0.023*\"fountain_view\" + 0.022*\"would_recommend\" + 0.019*\"tired\" + 0.018*\"visit\" + 0.017*\"flower\" + 0.016*\"amazing\"'),\n",
              " (162,\n",
              "  '0.037*\"mlife\" + 0.030*\"particularly\" + 0.029*\"unique\" + 0.027*\"worth_money\" + 0.024*\"remind\" + 0.020*\"public_area\" + 0.018*\"2_a.m.\" + 0.017*\"exciting\" + 0.016*\"seating_area\" + 0.015*\"orange_juice\"'),\n",
              " (163,\n",
              "  '0.031*\"regularly\" + 0.025*\"sky\" + 0.024*\"performance\" + 0.020*\"breath_take\" + 0.020*\"tower\" + 0.019*\"intimate\" + 0.016*\"visible\" + 0.016*\"invoice\" + 0.014*\"check_breeze\" + 0.013*\"within_30_minute\"'),\n",
              " (164,\n",
              "  '0.030*\"boxing\" + 0.022*\"diner\" + 0.014*\"20\" + 0.012*\"specify\" + 0.012*\"make_feel_important\" + 0.012*\"immense\" + 0.012*\"touch_anything\" + 0.011*\"extra_$_20\" + 0.011*\"2\" + 0.011*\"desk_agent\"'),\n",
              " (165,\n",
              "  '0.026*\"encore\" + 0.022*\"kudo\" + 0.022*\"inform\" + 0.020*\"20_minute\" + 0.013*\"opt\" + 0.012*\"resort\" + 0.012*\"registration_desk\" + 0.011*\"provide\" + 0.011*\"colleague\" + 0.011*\"exceptionally\"'),\n",
              " (166,\n",
              "  '0.029*\"surprise\" + 0.027*\"concern\" + 0.024*\"fab\" + 0.024*\"total_rewards\" + 0.023*\"take_advantage\" + 0.022*\"tier\" + 0.019*\"book\" + 0.017*\"attention\" + 0.017*\"happy\" + 0.016*\"personal\"'),\n",
              " (167,\n",
              "  '0.048*\"comp\" + 0.044*\"property\" + 0.036*\"elsewhere\" + 0.029*\"gambler\" + 0.024*\"longer\" + 0.019*\"desire\" + 0.016*\"gamble\" + 0.015*\"sad\" + 0.014*\"lighting\" + 0.013*\"total_reward\"'),\n",
              " (168,\n",
              "  '0.060*\"caesar_\\'s_palace\" + 0.047*\"eatery\" + 0.024*\"cleaner\" + 0.019*\"wedding_anniversary\" + 0.019*\"light_sleeper\" + 0.018*\"compliment\" + 0.015*\"young_man\" + 0.014*\"bird\" + 0.013*\"breathe\" + 0.012*\"pool_close_winter\"'),\n",
              " (169,\n",
              "  '0.047*\"beyond\" + 0.030*\"correct\" + 0.023*\"listen\" + 0.020*\"random\" + 0.017*\"involve\" + 0.014*\"fail\" + 0.014*\"equipment\" + 0.014*\"1_a.m.\" + 0.011*\"guest_services\" + 0.011*\"toaster\"'),\n",
              " (170,\n",
              "  '0.060*\"shower\" + 0.052*\"water\" + 0.032*\"hair\" + 0.029*\"replace\" + 0.021*\"drain\" + 0.020*\"tub\" + 0.018*\"touch\" + 0.017*\"carpet\" + 0.015*\"show_age\" + 0.013*\"floor\"'),\n",
              " (171,\n",
              "  '0.055*\"floor\" + 0.053*\"elevator\" + 0.022*\"dirty\" + 0.021*\"shape\" + 0.020*\"hallway\" + 0.018*\"disappointment\" + 0.017*\"carpet\" + 0.016*\"pleasantly_surprised\" + 0.015*\"loose\" + 0.015*\"old\"'),\n",
              " (172,\n",
              "  '0.038*\"reward\" + 0.036*\"8\" + 0.034*\"waiter\" + 0.032*\"girlfriend\" + 0.020*\"should\" + 0.018*\"-the\" + 0.014*\"spend\" + 0.012*\"firstly\" + 0.012*\"friendly\" + 0.011*\"satisfactory\"'),\n",
              " (173,\n",
              "  '0.070*\"difficult\" + 0.030*\"roman_tower\" + 0.028*\"easy_access\" + 0.027*\"original\" + 0.026*\"movie\" + 0.021*\"four_day\" + 0.016*\"low_ceiling\" + 0.016*\"cirque_du_soleil\" + 0.015*\"floor\" + 0.014*\"upgrade\"'),\n",
              " (174,\n",
              "  '0.035*\"high_roller\" + 0.032*\"poker\" + 0.023*\"breakfast\" + 0.021*\"partner\" + 0.018*\"bedding\" + 0.017*\"definitely_recommend\" + 0.016*\"kettle\" + 0.016*\"invite\" + 0.016*\"uk\" + 0.015*\"interior\"'),\n",
              " (175,\n",
              "  '0.039*\"living\" + 0.030*\"large\" + 0.024*\"sized\" + 0.021*\"area\" + 0.020*\"bedroom\" + 0.018*\"luxurious\" + 0.014*\"tv\" + 0.013*\"well_equipped\" + 0.012*\"suite\" + 0.012*\"huge\"'),\n",
              " (176,\n",
              "  '0.028*\"decent\" + 0.024*\"ny_ny\" + 0.024*\"property\" + 0.021*\"tram\" + 0.020*\"swimming_pool\" + 0.018*\"class\" + 0.018*\"coffee_pot\" + 0.017*\"monte_carlo\" + 0.014*\"comfortable\" + 0.014*\"spot\"'),\n",
              " (177,\n",
              "  '0.020*\"dj\" + 0.019*\"common\" + 0.018*\"stain\" + 0.015*\"similar\" + 0.014*\"annoy\" + 0.013*\"around\" + 0.012*\"every\" + 0.012*\"wave\" + 0.012*\"hassle\" + 0.012*\"directly\"'),\n",
              " (178,\n",
              "  '0.029*\"taxi\" + 0.025*\"super_friendly\" + 0.024*\"girl\" + 0.023*\"resolve\" + 0.019*\"finish\" + 0.018*\"absolutely_love\" + 0.017*\"connect\" + 0.017*\"adjust\" + 0.016*\"tablet\" + 0.014*\"unexpected\"'),\n",
              " (179,\n",
              "  '0.024*\"pleasure\" + 0.019*\"courteous\" + 0.019*\"wynn_encore\" + 0.018*\"view_fountain\" + 0.017*\"king_suite\" + 0.017*\"indigo_tower\" + 0.017*\"feeling\" + 0.016*\"vdara\" + 0.013*\"encore\" + 0.013*\"anniversary\"'),\n",
              " (180,\n",
              "  '0.043*\"vibe\" + 0.026*\"young\" + 0.024*\"originally\" + 0.019*\"quality\" + 0.016*\"limit\" + 0.015*\"old\" + 0.015*\"vibrant\" + 0.013*\"upon_checkout\" + 0.012*\"vent\" + 0.012*\"$_200\"'),\n",
              " (181,\n",
              "  '0.042*\"tell\" + 0.028*\"call\" + 0.023*\"ask\" + 0.017*\"give\" + 0.017*\"charge\" + 0.011*\"manager\" + 0.011*\"leave\" + 0.011*\"back\" + 0.010*\"pay\" + 0.010*\"front_desk\"'),\n",
              " (182,\n",
              "  '0.051*\"maid\" + 0.036*\"gross\" + 0.035*\"classic\" + 0.034*\"group\" + 0.020*\"friday_night\" + 0.019*\"intend\" + 0.017*\"vacuum\" + 0.016*\"heart\" + 0.013*\"will_return\" + 0.012*\"ticket\"'),\n",
              " (183,\n",
              "  '0.057*\"internet\" + 0.038*\"resort_fee\" + 0.024*\"fee\" + 0.021*\"pay\" + 0.021*\"include\" + 0.020*\"breakfast\" + 0.018*\"charge\" + 0.015*\"access\" + 0.015*\"free\" + 0.013*\"shrimp\"'),\n",
              " (184,\n",
              "  '0.015*\"que\" + 0.014*\"international\" + 0.014*\"around\" + 0.012*\"teach\" + 0.012*\"seafood_buffet\" + 0.012*\"within_minute\" + 0.012*\"every\" + 0.011*\"interrupt\" + 0.011*\"slam_door\" + 0.011*\"smash\"'),\n",
              " (185,\n",
              "  '0.039*\"shopping_mall\" + 0.035*\"negative_thing\" + 0.020*\"exhaust\" + 0.016*\"separate_living_area\" + 0.015*\"impersonal\" + 0.014*\"business_convention\" + 0.013*\"quick_efficient\" + 0.013*\"ventian\" + 0.012*\"demographic\" + 0.011*\"oasis_calm\"'),\n",
              " (186,\n",
              "  '0.031*\"reception\" + 0.027*\"circus_circus\" + 0.026*\"whilst\" + 0.022*\"apart\" + 0.014*\"open_24_hour\" + 0.013*\"budget\" + 0.013*\"book\" + 0.013*\"phenomenal\" + 0.011*\"however\" + 0.010*\"building\"'),\n",
              " (187,\n",
              "  '0.030*\"fremont_street\" + 0.028*\"early_check\" + 0.028*\"reserve\" + 0.026*\"ready\" + 0.020*\"lucky\" + 0.019*\"line\" + 0.019*\"golden_nugget\" + 0.018*\"reservation\" + 0.016*\"wait\" + 0.016*\"anywhere_else\"'),\n",
              " (188,\n",
              "  '0.084*\"fight\" + 0.026*\"little_dated\" + 0.020*\"efficient\" + 0.019*\"smell_smoke\" + 0.019*\"interesting\" + 0.018*\"worry\" + 0.018*\"baby\" + 0.015*\"area\" + 0.014*\"vast\" + 0.013*\"huge\"'),\n",
              " (189,\n",
              "  '0.070*\"april\" + 0.032*\"luck\" + 0.031*\"hot_tub\" + 0.029*\"got\" + 0.020*\"13\" + 0.019*\"nite\" + 0.016*\"water_pressure_shower\" + 0.015*\"tourist\" + 0.013*\"ok\" + 0.012*\"comforter\"'),\n",
              " (190,\n",
              "  '0.029*\"world_class\" + 0.022*\"offensive\" + 0.021*\"ten\" + 0.021*\"courtesy\" + 0.020*\"friendly_courteous\" + 0.018*\"will\" + 0.014*\"meaning\" + 0.013*\"spa\" + 0.013*\"wynn\" + 0.013*\"prefer\"'),\n",
              " (191,\n",
              "  '0.030*\"kinda\" + 0.027*\"big\" + 0.019*\"redeem\" + 0.018*\"inside\" + 0.018*\"tap\" + 0.017*\"locate_right\" + 0.016*\"doubt\" + 0.015*\"pretty\" + 0.013*\"bring_kid\" + 0.012*\"nothing_fancy\"'),\n",
              " (192,\n",
              "  '0.101*\"aria\" + 0.021*\"caesar\" + 0.020*\"wise\" + 0.017*\"hopefully\" + 0.015*\"wallpaper\" + 0.014*\"chat\" + 0.012*\"seem\" + 0.012*\"start\" + 0.011*\"need_replace\" + 0.011*\"furniture\"'),\n",
              " (193,\n",
              "  '0.058*\"nyny\" + 0.024*\"tournament\" + 0.022*\"america\" + 0.020*\"think\" + 0.019*\"big_gambler\" + 0.018*\"young_crowd\" + 0.016*\"beautifully_decorate\" + 0.015*\"mediocre\" + 0.015*\"pain\" + 0.014*\"weight\"'),\n",
              " (194,\n",
              "  '0.048*\"complete\" + 0.046*\"downside\" + 0.028*\"premium\" + 0.027*\"conveniently_locate\" + 0.023*\"casual\" + 0.016*\"vacation\" + 0.015*\"belagio\" + 0.014*\"low_price\" + 0.013*\"past_year\" + 0.013*\"beautiful\"'),\n",
              " (195,\n",
              "  '0.035*\"bag\" + 0.021*\"call_front_desk\" + 0.018*\"door\" + 0.014*\"change\" + 0.013*\"key\" + 0.011*\"work\" + 0.011*\"wait\" + 0.010*\"bring\" + 0.010*\"back\" + 0.009*\"extremely_loud\"'),\n",
              " (196,\n",
              "  '0.044*\"visit_las_vegas\" + 0.035*\"future\" + 0.031*\"weather\" + 0.020*\"visit\" + 0.020*\"trip\" + 0.018*\"next_year\" + 0.018*\"aria\" + 0.018*\"return\" + 0.017*\"disappoint\" + 0.014*\"renovate\"'),\n",
              " (197,\n",
              "  '0.042*\"lift\" + 0.029*\"schedule\" + 0.016*\"heck\" + 0.016*\"onsite\" + 0.012*\"chill\" + 0.012*\"ten_minute\" + 0.011*\"automatic\" + 0.011*\"suitable\" + 0.011*\"anticipate\" + 0.010*\"bear\"'),\n",
              " (198,\n",
              "  '0.160*\"luxor\" + 0.023*\"reasonable_price\" + 0.020*\"80\" + 0.020*\"pyramid\" + 0.016*\"arrive_early\" + 0.015*\"able\" + 0.012*\"hike\" + 0.012*\"million\" + 0.009*\"return\" + 0.008*\"week\"'),\n",
              " (199,\n",
              "  '0.079*\"child\" + 0.043*\"march\" + 0.022*\"live_music\" + 0.021*\"2nd\" + 0.020*\"milk\" + 0.018*\"palace\" + 0.016*\"nugget\" + 0.016*\"voodoo\" + 0.015*\"2_queen\" + 0.013*\"bang\"')]"
            ]
          },
          "metadata": {},
          "execution_count": 73
        }
      ]
    },
    {
      "cell_type": "markdown",
      "metadata": {
        "id": "6U3JciILEMeC"
      },
      "source": [
        "**Answer this**\n",
        "\n",
        "Pick 3 topics that you can label. Explain your label choice. \n",
        "\n",
        "1. Amazed - this shows positivity and has relatively high ratings\n",
        "2. Play - the topic has a high rating\n",
        "3. Fresh - Also show positivity and also highly rated as top topic\n",
        "\n",
        "**Answer here**\n"
      ]
    },
    {
      "cell_type": "markdown",
      "metadata": {
        "id": "Fot5FBuqgXlS"
      },
      "source": [
        "**Explore topics**"
      ]
    },
    {
      "cell_type": "code",
      "metadata": {
        "id": "vZjF2FwxdoyO"
      },
      "source": [
        "# predict back the topic weights on each review\n",
        "df['topic_probs'] = df.parsed.str.split().apply(lambda x: dict(lda[dictionary.doc2bow(x)]))\n"
      ],
      "execution_count": 74,
      "outputs": []
    },
    {
      "cell_type": "code",
      "metadata": {
        "id": "mE9KzQ4de2Zj"
      },
      "source": [
        "# create top_k  columns for k = 0,...,ntopics\n",
        "# where top_k is the probability of each review representing topic k\n",
        "for t in range(ntopics):\n",
        "    df['top_{}'.format(t)] = df.topic_probs.apply(lambda x: x.get(t))\n"
      ],
      "execution_count": 75,
      "outputs": []
    },
    {
      "cell_type": "code",
      "metadata": {
        "id": "0qv7ZdF_gjJz"
      },
      "source": [
        "# create a variable that contains the list of top_k column names\n",
        "topiccols = ['top_{}'.format(t) for t in range(ntopics)]"
      ],
      "execution_count": 76,
      "outputs": []
    },
    {
      "cell_type": "markdown",
      "metadata": {
        "id": "JTBfBlNFDTk5"
      },
      "source": [
        "### Topics by travel category"
      ]
    },
    {
      "cell_type": "code",
      "metadata": {
        "id": "1dHOt9qyf2EX"
      },
      "source": [
        "# for each travel category, compute the average of all the topiccols \n",
        "# use .T at the end to transpose (i.e. rotate 90 deg) the dataframe\n",
        "topicmeans = df.groupby('travel_category')[topiccols].mean().T"
      ],
      "execution_count": 77,
      "outputs": []
    },
    {
      "cell_type": "code",
      "metadata": {
        "id": "4oNf5GcIimiF",
        "colab": {
          "base_uri": "https://localhost:8080/",
          "height": 206
        },
        "outputId": "7f7db041-d459-484d-e782-ce738c994b09"
      },
      "source": [
        "# preview the topicmeans dataframe\n",
        "topicmeans.head()"
      ],
      "execution_count": 78,
      "outputs": [
        {
          "output_type": "execute_result",
          "data": {
            "text/html": [
              "<div>\n",
              "<style scoped>\n",
              "    .dataframe tbody tr th:only-of-type {\n",
              "        vertical-align: middle;\n",
              "    }\n",
              "\n",
              "    .dataframe tbody tr th {\n",
              "        vertical-align: top;\n",
              "    }\n",
              "\n",
              "    .dataframe thead th {\n",
              "        text-align: right;\n",
              "    }\n",
              "</style>\n",
              "<table border=\"1\" class=\"dataframe\">\n",
              "  <thead>\n",
              "    <tr style=\"text-align: right;\">\n",
              "      <th>travel_category</th>\n",
              "      <th>business</th>\n",
              "      <th>couple</th>\n",
              "      <th>family</th>\n",
              "      <th>friends</th>\n",
              "      <th>solo</th>\n",
              "    </tr>\n",
              "  </thead>\n",
              "  <tbody>\n",
              "    <tr>\n",
              "      <th>top_0</th>\n",
              "      <td>0.009131</td>\n",
              "      <td>0.006785</td>\n",
              "      <td>0.005452</td>\n",
              "      <td>0.006917</td>\n",
              "      <td>0.006364</td>\n",
              "    </tr>\n",
              "    <tr>\n",
              "      <th>top_1</th>\n",
              "      <td>0.005294</td>\n",
              "      <td>0.005137</td>\n",
              "      <td>0.004860</td>\n",
              "      <td>0.004164</td>\n",
              "      <td>0.004032</td>\n",
              "    </tr>\n",
              "    <tr>\n",
              "      <th>top_2</th>\n",
              "      <td>0.003398</td>\n",
              "      <td>0.003250</td>\n",
              "      <td>0.003070</td>\n",
              "      <td>0.003055</td>\n",
              "      <td>0.003751</td>\n",
              "    </tr>\n",
              "    <tr>\n",
              "      <th>top_3</th>\n",
              "      <td>0.007102</td>\n",
              "      <td>0.004721</td>\n",
              "      <td>0.004694</td>\n",
              "      <td>0.005279</td>\n",
              "      <td>0.005154</td>\n",
              "    </tr>\n",
              "    <tr>\n",
              "      <th>top_4</th>\n",
              "      <td>0.009835</td>\n",
              "      <td>0.008314</td>\n",
              "      <td>0.007859</td>\n",
              "      <td>0.009012</td>\n",
              "      <td>0.008530</td>\n",
              "    </tr>\n",
              "  </tbody>\n",
              "</table>\n",
              "</div>"
            ],
            "text/plain": [
              "travel_category  business    couple    family   friends      solo\n",
              "top_0            0.009131  0.006785  0.005452  0.006917  0.006364\n",
              "top_1            0.005294  0.005137  0.004860  0.004164  0.004032\n",
              "top_2            0.003398  0.003250  0.003070  0.003055  0.003751\n",
              "top_3            0.007102  0.004721  0.004694  0.005279  0.005154\n",
              "top_4            0.009835  0.008314  0.007859  0.009012  0.008530"
            ]
          },
          "metadata": {},
          "execution_count": 78
        }
      ]
    },
    {
      "cell_type": "code",
      "metadata": {
        "id": "o2iUpoPTisxC",
        "colab": {
          "base_uri": "https://localhost:8080/",
          "height": 423
        },
        "outputId": "82a42c1f-0f29-4de9-91e3-0613834b4173"
      },
      "source": [
        "# use sort_values on topicmeans to find the common topic among solo travelers\n",
        "# use ascending = False option in sort_values to sort from largest to smallest\n",
        "topicmeans.sort_values(by = 'solo', ascending = False)"
      ],
      "execution_count": 79,
      "outputs": [
        {
          "output_type": "execute_result",
          "data": {
            "text/html": [
              "<div>\n",
              "<style scoped>\n",
              "    .dataframe tbody tr th:only-of-type {\n",
              "        vertical-align: middle;\n",
              "    }\n",
              "\n",
              "    .dataframe tbody tr th {\n",
              "        vertical-align: top;\n",
              "    }\n",
              "\n",
              "    .dataframe thead th {\n",
              "        text-align: right;\n",
              "    }\n",
              "</style>\n",
              "<table border=\"1\" class=\"dataframe\">\n",
              "  <thead>\n",
              "    <tr style=\"text-align: right;\">\n",
              "      <th>travel_category</th>\n",
              "      <th>business</th>\n",
              "      <th>couple</th>\n",
              "      <th>family</th>\n",
              "      <th>friends</th>\n",
              "      <th>solo</th>\n",
              "    </tr>\n",
              "  </thead>\n",
              "  <tbody>\n",
              "    <tr>\n",
              "      <th>top_49</th>\n",
              "      <td>0.009212</td>\n",
              "      <td>0.012204</td>\n",
              "      <td>0.012011</td>\n",
              "      <td>0.016798</td>\n",
              "      <td>0.020672</td>\n",
              "    </tr>\n",
              "    <tr>\n",
              "      <th>top_181</th>\n",
              "      <td>0.025418</td>\n",
              "      <td>0.022602</td>\n",
              "      <td>0.023210</td>\n",
              "      <td>0.022643</td>\n",
              "      <td>0.020659</td>\n",
              "    </tr>\n",
              "    <tr>\n",
              "      <th>top_59</th>\n",
              "      <td>0.008553</td>\n",
              "      <td>0.008380</td>\n",
              "      <td>0.009268</td>\n",
              "      <td>0.010151</td>\n",
              "      <td>0.011986</td>\n",
              "    </tr>\n",
              "    <tr>\n",
              "      <th>top_72</th>\n",
              "      <td>0.006102</td>\n",
              "      <td>0.008322</td>\n",
              "      <td>0.011747</td>\n",
              "      <td>0.010572</td>\n",
              "      <td>0.011009</td>\n",
              "    </tr>\n",
              "    <tr>\n",
              "      <th>top_196</th>\n",
              "      <td>0.009100</td>\n",
              "      <td>0.011143</td>\n",
              "      <td>0.012030</td>\n",
              "      <td>0.012764</td>\n",
              "      <td>0.010467</td>\n",
              "    </tr>\n",
              "    <tr>\n",
              "      <th>...</th>\n",
              "      <td>...</td>\n",
              "      <td>...</td>\n",
              "      <td>...</td>\n",
              "      <td>...</td>\n",
              "      <td>...</td>\n",
              "    </tr>\n",
              "    <tr>\n",
              "      <th>top_96</th>\n",
              "      <td>0.003080</td>\n",
              "      <td>0.002552</td>\n",
              "      <td>0.003219</td>\n",
              "      <td>0.002908</td>\n",
              "      <td>0.002273</td>\n",
              "    </tr>\n",
              "    <tr>\n",
              "      <th>top_185</th>\n",
              "      <td>0.002553</td>\n",
              "      <td>0.002177</td>\n",
              "      <td>0.002007</td>\n",
              "      <td>0.001832</td>\n",
              "      <td>0.002204</td>\n",
              "    </tr>\n",
              "    <tr>\n",
              "      <th>top_184</th>\n",
              "      <td>0.002506</td>\n",
              "      <td>0.002621</td>\n",
              "      <td>0.002554</td>\n",
              "      <td>0.002207</td>\n",
              "      <td>0.002165</td>\n",
              "    </tr>\n",
              "    <tr>\n",
              "      <th>top_81</th>\n",
              "      <td>0.002178</td>\n",
              "      <td>0.001986</td>\n",
              "      <td>0.002138</td>\n",
              "      <td>0.002441</td>\n",
              "      <td>0.002086</td>\n",
              "    </tr>\n",
              "    <tr>\n",
              "      <th>top_164</th>\n",
              "      <td>0.001997</td>\n",
              "      <td>0.002387</td>\n",
              "      <td>0.002083</td>\n",
              "      <td>0.002115</td>\n",
              "      <td>0.002011</td>\n",
              "    </tr>\n",
              "  </tbody>\n",
              "</table>\n",
              "<p>200 rows × 5 columns</p>\n",
              "</div>"
            ],
            "text/plain": [
              "travel_category  business    couple    family   friends      solo\n",
              "top_49           0.009212  0.012204  0.012011  0.016798  0.020672\n",
              "top_181          0.025418  0.022602  0.023210  0.022643  0.020659\n",
              "top_59           0.008553  0.008380  0.009268  0.010151  0.011986\n",
              "top_72           0.006102  0.008322  0.011747  0.010572  0.011009\n",
              "top_196          0.009100  0.011143  0.012030  0.012764  0.010467\n",
              "...                   ...       ...       ...       ...       ...\n",
              "top_96           0.003080  0.002552  0.003219  0.002908  0.002273\n",
              "top_185          0.002553  0.002177  0.002007  0.001832  0.002204\n",
              "top_184          0.002506  0.002621  0.002554  0.002207  0.002165\n",
              "top_81           0.002178  0.001986  0.002138  0.002441  0.002086\n",
              "top_164          0.001997  0.002387  0.002083  0.002115  0.002011\n",
              "\n",
              "[200 rows x 5 columns]"
            ]
          },
          "metadata": {},
          "execution_count": 79
        }
      ]
    },
    {
      "cell_type": "markdown",
      "metadata": {
        "id": "hpdJJ1VHjEMo"
      },
      "source": [
        "**Answer this**\n",
        "\n",
        "What is the topic ID for solo travelers' most likely review topic? **49**"
      ]
    },
    {
      "cell_type": "code",
      "metadata": {
        "id": "MWLWEjBji8hr",
        "colab": {
          "base_uri": "https://localhost:8080/",
          "height": 362
        },
        "outputId": "0f167bd5-c3e6-46c6-c898-21dab245452b"
      },
      "source": [
        "# take a look at the top solo traveler topic\n",
        "top_solo = 49 # use the most common solo traveler topic ID here\n",
        "pd.DataFrame(lda.show_topic(top_solo))"
      ],
      "execution_count": 81,
      "outputs": [
        {
          "output_type": "execute_result",
          "data": {
            "text/html": [
              "<div>\n",
              "<style scoped>\n",
              "    .dataframe tbody tr th:only-of-type {\n",
              "        vertical-align: middle;\n",
              "    }\n",
              "\n",
              "    .dataframe tbody tr th {\n",
              "        vertical-align: top;\n",
              "    }\n",
              "\n",
              "    .dataframe thead th {\n",
              "        text-align: right;\n",
              "    }\n",
              "</style>\n",
              "<table border=\"1\" class=\"dataframe\">\n",
              "  <thead>\n",
              "    <tr style=\"text-align: right;\">\n",
              "      <th></th>\n",
              "      <th>0</th>\n",
              "      <th>1</th>\n",
              "    </tr>\n",
              "  </thead>\n",
              "  <tbody>\n",
              "    <tr>\n",
              "      <th>0</th>\n",
              "      <td>play</td>\n",
              "      <td>0.117517</td>\n",
              "    </tr>\n",
              "    <tr>\n",
              "      <th>1</th>\n",
              "      <td>table</td>\n",
              "      <td>0.079434</td>\n",
              "    </tr>\n",
              "    <tr>\n",
              "      <th>2</th>\n",
              "      <td>table_game</td>\n",
              "      <td>0.036213</td>\n",
              "    </tr>\n",
              "    <tr>\n",
              "      <th>3</th>\n",
              "      <td>player</td>\n",
              "      <td>0.024147</td>\n",
              "    </tr>\n",
              "    <tr>\n",
              "      <th>4</th>\n",
              "      <td>dealer</td>\n",
              "      <td>0.023162</td>\n",
              "    </tr>\n",
              "    <tr>\n",
              "      <th>5</th>\n",
              "      <td>machine</td>\n",
              "      <td>0.020366</td>\n",
              "    </tr>\n",
              "    <tr>\n",
              "      <th>6</th>\n",
              "      <td>fun</td>\n",
              "      <td>0.019499</td>\n",
              "    </tr>\n",
              "    <tr>\n",
              "      <th>7</th>\n",
              "      <td>game</td>\n",
              "      <td>0.017551</td>\n",
              "    </tr>\n",
              "    <tr>\n",
              "      <th>8</th>\n",
              "      <td>slot</td>\n",
              "      <td>0.014896</td>\n",
              "    </tr>\n",
              "    <tr>\n",
              "      <th>9</th>\n",
              "      <td>friendly</td>\n",
              "      <td>0.014587</td>\n",
              "    </tr>\n",
              "  </tbody>\n",
              "</table>\n",
              "</div>"
            ],
            "text/plain": [
              "            0         1\n",
              "0        play  0.117517\n",
              "1       table  0.079434\n",
              "2  table_game  0.036213\n",
              "3      player  0.024147\n",
              "4      dealer  0.023162\n",
              "5     machine  0.020366\n",
              "6         fun  0.019499\n",
              "7        game  0.017551\n",
              "8        slot  0.014896\n",
              "9    friendly  0.014587"
            ]
          },
          "metadata": {},
          "execution_count": 81
        }
      ]
    },
    {
      "cell_type": "code",
      "metadata": {
        "id": "95Amq4nKjdfG",
        "colab": {
          "base_uri": "https://localhost:8080/",
          "height": 423
        },
        "outputId": "37882018-eb1d-4a4d-a814-4ab3b9a403eb"
      },
      "source": [
        "# look at the most common topic for business travelers\n",
        "topicmeans.sort_values(by = 'business', ascending = False)"
      ],
      "execution_count": 82,
      "outputs": [
        {
          "output_type": "execute_result",
          "data": {
            "text/html": [
              "<div>\n",
              "<style scoped>\n",
              "    .dataframe tbody tr th:only-of-type {\n",
              "        vertical-align: middle;\n",
              "    }\n",
              "\n",
              "    .dataframe tbody tr th {\n",
              "        vertical-align: top;\n",
              "    }\n",
              "\n",
              "    .dataframe thead th {\n",
              "        text-align: right;\n",
              "    }\n",
              "</style>\n",
              "<table border=\"1\" class=\"dataframe\">\n",
              "  <thead>\n",
              "    <tr style=\"text-align: right;\">\n",
              "      <th>travel_category</th>\n",
              "      <th>business</th>\n",
              "      <th>couple</th>\n",
              "      <th>family</th>\n",
              "      <th>friends</th>\n",
              "      <th>solo</th>\n",
              "    </tr>\n",
              "  </thead>\n",
              "  <tbody>\n",
              "    <tr>\n",
              "      <th>top_181</th>\n",
              "      <td>0.025418</td>\n",
              "      <td>0.022602</td>\n",
              "      <td>0.023210</td>\n",
              "      <td>0.022643</td>\n",
              "      <td>0.020659</td>\n",
              "    </tr>\n",
              "    <tr>\n",
              "      <th>top_80</th>\n",
              "      <td>0.013155</td>\n",
              "      <td>0.012185</td>\n",
              "      <td>0.009510</td>\n",
              "      <td>0.008966</td>\n",
              "      <td>0.008460</td>\n",
              "    </tr>\n",
              "    <tr>\n",
              "      <th>top_20</th>\n",
              "      <td>0.012350</td>\n",
              "      <td>0.005140</td>\n",
              "      <td>0.005951</td>\n",
              "      <td>0.004860</td>\n",
              "      <td>0.006404</td>\n",
              "    </tr>\n",
              "    <tr>\n",
              "      <th>top_123</th>\n",
              "      <td>0.010313</td>\n",
              "      <td>0.004943</td>\n",
              "      <td>0.005892</td>\n",
              "      <td>0.004925</td>\n",
              "      <td>0.005306</td>\n",
              "    </tr>\n",
              "    <tr>\n",
              "      <th>top_56</th>\n",
              "      <td>0.009965</td>\n",
              "      <td>0.008484</td>\n",
              "      <td>0.009335</td>\n",
              "      <td>0.009353</td>\n",
              "      <td>0.008650</td>\n",
              "    </tr>\n",
              "    <tr>\n",
              "      <th>...</th>\n",
              "      <td>...</td>\n",
              "      <td>...</td>\n",
              "      <td>...</td>\n",
              "      <td>...</td>\n",
              "      <td>...</td>\n",
              "    </tr>\n",
              "    <tr>\n",
              "      <th>top_115</th>\n",
              "      <td>0.002223</td>\n",
              "      <td>0.002515</td>\n",
              "      <td>0.002316</td>\n",
              "      <td>0.001987</td>\n",
              "      <td>0.002798</td>\n",
              "    </tr>\n",
              "    <tr>\n",
              "      <th>top_81</th>\n",
              "      <td>0.002178</td>\n",
              "      <td>0.001986</td>\n",
              "      <td>0.002138</td>\n",
              "      <td>0.002441</td>\n",
              "      <td>0.002086</td>\n",
              "    </tr>\n",
              "    <tr>\n",
              "      <th>top_13</th>\n",
              "      <td>0.002145</td>\n",
              "      <td>0.002787</td>\n",
              "      <td>0.002332</td>\n",
              "      <td>0.002587</td>\n",
              "      <td>0.002832</td>\n",
              "    </tr>\n",
              "    <tr>\n",
              "      <th>top_29</th>\n",
              "      <td>0.002051</td>\n",
              "      <td>0.002157</td>\n",
              "      <td>0.002096</td>\n",
              "      <td>0.002273</td>\n",
              "      <td>0.002514</td>\n",
              "    </tr>\n",
              "    <tr>\n",
              "      <th>top_164</th>\n",
              "      <td>0.001997</td>\n",
              "      <td>0.002387</td>\n",
              "      <td>0.002083</td>\n",
              "      <td>0.002115</td>\n",
              "      <td>0.002011</td>\n",
              "    </tr>\n",
              "  </tbody>\n",
              "</table>\n",
              "<p>200 rows × 5 columns</p>\n",
              "</div>"
            ],
            "text/plain": [
              "travel_category  business    couple    family   friends      solo\n",
              "top_181          0.025418  0.022602  0.023210  0.022643  0.020659\n",
              "top_80           0.013155  0.012185  0.009510  0.008966  0.008460\n",
              "top_20           0.012350  0.005140  0.005951  0.004860  0.006404\n",
              "top_123          0.010313  0.004943  0.005892  0.004925  0.005306\n",
              "top_56           0.009965  0.008484  0.009335  0.009353  0.008650\n",
              "...                   ...       ...       ...       ...       ...\n",
              "top_115          0.002223  0.002515  0.002316  0.001987  0.002798\n",
              "top_81           0.002178  0.001986  0.002138  0.002441  0.002086\n",
              "top_13           0.002145  0.002787  0.002332  0.002587  0.002832\n",
              "top_29           0.002051  0.002157  0.002096  0.002273  0.002514\n",
              "top_164          0.001997  0.002387  0.002083  0.002115  0.002011\n",
              "\n",
              "[200 rows x 5 columns]"
            ]
          },
          "metadata": {},
          "execution_count": 82
        }
      ]
    },
    {
      "cell_type": "code",
      "metadata": {
        "id": "jBiHuw5Zjdiw",
        "colab": {
          "base_uri": "https://localhost:8080/",
          "height": 362
        },
        "outputId": "b11ab23a-df27-4161-9703-49af02c685fa"
      },
      "source": [
        "# preview the most common topic for business travelers\n",
        "top_bus = 181\n",
        "pd.DataFrame(lda.show_topic(top_bus))"
      ],
      "execution_count": 83,
      "outputs": [
        {
          "output_type": "execute_result",
          "data": {
            "text/html": [
              "<div>\n",
              "<style scoped>\n",
              "    .dataframe tbody tr th:only-of-type {\n",
              "        vertical-align: middle;\n",
              "    }\n",
              "\n",
              "    .dataframe tbody tr th {\n",
              "        vertical-align: top;\n",
              "    }\n",
              "\n",
              "    .dataframe thead th {\n",
              "        text-align: right;\n",
              "    }\n",
              "</style>\n",
              "<table border=\"1\" class=\"dataframe\">\n",
              "  <thead>\n",
              "    <tr style=\"text-align: right;\">\n",
              "      <th></th>\n",
              "      <th>0</th>\n",
              "      <th>1</th>\n",
              "    </tr>\n",
              "  </thead>\n",
              "  <tbody>\n",
              "    <tr>\n",
              "      <th>0</th>\n",
              "      <td>tell</td>\n",
              "      <td>0.042469</td>\n",
              "    </tr>\n",
              "    <tr>\n",
              "      <th>1</th>\n",
              "      <td>call</td>\n",
              "      <td>0.028085</td>\n",
              "    </tr>\n",
              "    <tr>\n",
              "      <th>2</th>\n",
              "      <td>ask</td>\n",
              "      <td>0.022619</td>\n",
              "    </tr>\n",
              "    <tr>\n",
              "      <th>3</th>\n",
              "      <td>give</td>\n",
              "      <td>0.017396</td>\n",
              "    </tr>\n",
              "    <tr>\n",
              "      <th>4</th>\n",
              "      <td>charge</td>\n",
              "      <td>0.016986</td>\n",
              "    </tr>\n",
              "    <tr>\n",
              "      <th>5</th>\n",
              "      <td>manager</td>\n",
              "      <td>0.011458</td>\n",
              "    </tr>\n",
              "    <tr>\n",
              "      <th>6</th>\n",
              "      <td>leave</td>\n",
              "      <td>0.010900</td>\n",
              "    </tr>\n",
              "    <tr>\n",
              "      <th>7</th>\n",
              "      <td>back</td>\n",
              "      <td>0.010603</td>\n",
              "    </tr>\n",
              "    <tr>\n",
              "      <th>8</th>\n",
              "      <td>pay</td>\n",
              "      <td>0.010256</td>\n",
              "    </tr>\n",
              "    <tr>\n",
              "      <th>9</th>\n",
              "      <td>front_desk</td>\n",
              "      <td>0.010124</td>\n",
              "    </tr>\n",
              "  </tbody>\n",
              "</table>\n",
              "</div>"
            ],
            "text/plain": [
              "            0         1\n",
              "0        tell  0.042469\n",
              "1        call  0.028085\n",
              "2         ask  0.022619\n",
              "3        give  0.017396\n",
              "4      charge  0.016986\n",
              "5     manager  0.011458\n",
              "6       leave  0.010900\n",
              "7        back  0.010603\n",
              "8         pay  0.010256\n",
              "9  front_desk  0.010124"
            ]
          },
          "metadata": {},
          "execution_count": 83
        }
      ]
    },
    {
      "cell_type": "code",
      "metadata": {
        "id": "AYXRaxsRj0a7",
        "colab": {
          "base_uri": "https://localhost:8080/",
          "height": 423
        },
        "outputId": "24b7b9ea-0519-4800-ff4f-2ced07acdb72"
      },
      "source": [
        "# look at the most common topic for couples\n",
        "topicmeans.sort_values(by = 'couple', ascending = False)"
      ],
      "execution_count": 84,
      "outputs": [
        {
          "output_type": "execute_result",
          "data": {
            "text/html": [
              "<div>\n",
              "<style scoped>\n",
              "    .dataframe tbody tr th:only-of-type {\n",
              "        vertical-align: middle;\n",
              "    }\n",
              "\n",
              "    .dataframe tbody tr th {\n",
              "        vertical-align: top;\n",
              "    }\n",
              "\n",
              "    .dataframe thead th {\n",
              "        text-align: right;\n",
              "    }\n",
              "</style>\n",
              "<table border=\"1\" class=\"dataframe\">\n",
              "  <thead>\n",
              "    <tr style=\"text-align: right;\">\n",
              "      <th>travel_category</th>\n",
              "      <th>business</th>\n",
              "      <th>couple</th>\n",
              "      <th>family</th>\n",
              "      <th>friends</th>\n",
              "      <th>solo</th>\n",
              "    </tr>\n",
              "  </thead>\n",
              "  <tbody>\n",
              "    <tr>\n",
              "      <th>top_181</th>\n",
              "      <td>0.025418</td>\n",
              "      <td>0.022602</td>\n",
              "      <td>0.023210</td>\n",
              "      <td>0.022643</td>\n",
              "      <td>0.020659</td>\n",
              "    </tr>\n",
              "    <tr>\n",
              "      <th>top_49</th>\n",
              "      <td>0.009212</td>\n",
              "      <td>0.012204</td>\n",
              "      <td>0.012011</td>\n",
              "      <td>0.016798</td>\n",
              "      <td>0.020672</td>\n",
              "    </tr>\n",
              "    <tr>\n",
              "      <th>top_80</th>\n",
              "      <td>0.013155</td>\n",
              "      <td>0.012185</td>\n",
              "      <td>0.009510</td>\n",
              "      <td>0.008966</td>\n",
              "      <td>0.008460</td>\n",
              "    </tr>\n",
              "    <tr>\n",
              "      <th>top_196</th>\n",
              "      <td>0.009100</td>\n",
              "      <td>0.011143</td>\n",
              "      <td>0.012030</td>\n",
              "      <td>0.012764</td>\n",
              "      <td>0.010467</td>\n",
              "    </tr>\n",
              "    <tr>\n",
              "      <th>top_161</th>\n",
              "      <td>0.007380</td>\n",
              "      <td>0.010299</td>\n",
              "      <td>0.008159</td>\n",
              "      <td>0.007637</td>\n",
              "      <td>0.006248</td>\n",
              "    </tr>\n",
              "    <tr>\n",
              "      <th>...</th>\n",
              "      <td>...</td>\n",
              "      <td>...</td>\n",
              "      <td>...</td>\n",
              "      <td>...</td>\n",
              "      <td>...</td>\n",
              "    </tr>\n",
              "    <tr>\n",
              "      <th>top_60</th>\n",
              "      <td>0.002648</td>\n",
              "      <td>0.002257</td>\n",
              "      <td>0.002356</td>\n",
              "      <td>0.002682</td>\n",
              "      <td>0.002353</td>\n",
              "    </tr>\n",
              "    <tr>\n",
              "      <th>top_45</th>\n",
              "      <td>0.002521</td>\n",
              "      <td>0.002206</td>\n",
              "      <td>0.002671</td>\n",
              "      <td>0.002482</td>\n",
              "      <td>0.002391</td>\n",
              "    </tr>\n",
              "    <tr>\n",
              "      <th>top_185</th>\n",
              "      <td>0.002553</td>\n",
              "      <td>0.002177</td>\n",
              "      <td>0.002007</td>\n",
              "      <td>0.001832</td>\n",
              "      <td>0.002204</td>\n",
              "    </tr>\n",
              "    <tr>\n",
              "      <th>top_29</th>\n",
              "      <td>0.002051</td>\n",
              "      <td>0.002157</td>\n",
              "      <td>0.002096</td>\n",
              "      <td>0.002273</td>\n",
              "      <td>0.002514</td>\n",
              "    </tr>\n",
              "    <tr>\n",
              "      <th>top_81</th>\n",
              "      <td>0.002178</td>\n",
              "      <td>0.001986</td>\n",
              "      <td>0.002138</td>\n",
              "      <td>0.002441</td>\n",
              "      <td>0.002086</td>\n",
              "    </tr>\n",
              "  </tbody>\n",
              "</table>\n",
              "<p>200 rows × 5 columns</p>\n",
              "</div>"
            ],
            "text/plain": [
              "travel_category  business    couple    family   friends      solo\n",
              "top_181          0.025418  0.022602  0.023210  0.022643  0.020659\n",
              "top_49           0.009212  0.012204  0.012011  0.016798  0.020672\n",
              "top_80           0.013155  0.012185  0.009510  0.008966  0.008460\n",
              "top_196          0.009100  0.011143  0.012030  0.012764  0.010467\n",
              "top_161          0.007380  0.010299  0.008159  0.007637  0.006248\n",
              "...                   ...       ...       ...       ...       ...\n",
              "top_60           0.002648  0.002257  0.002356  0.002682  0.002353\n",
              "top_45           0.002521  0.002206  0.002671  0.002482  0.002391\n",
              "top_185          0.002553  0.002177  0.002007  0.001832  0.002204\n",
              "top_29           0.002051  0.002157  0.002096  0.002273  0.002514\n",
              "top_81           0.002178  0.001986  0.002138  0.002441  0.002086\n",
              "\n",
              "[200 rows x 5 columns]"
            ]
          },
          "metadata": {},
          "execution_count": 84
        }
      ]
    },
    {
      "cell_type": "code",
      "metadata": {
        "id": "OjrQGDKijdlj",
        "colab": {
          "base_uri": "https://localhost:8080/",
          "height": 362
        },
        "outputId": "371a35c5-bdb6-4ab1-e48a-6761abab5746"
      },
      "source": [
        "# preview the most common topic for business travelers\n",
        "top_couple = 181\n",
        "pd.DataFrame(lda.show_topic(top_couple))"
      ],
      "execution_count": 85,
      "outputs": [
        {
          "output_type": "execute_result",
          "data": {
            "text/html": [
              "<div>\n",
              "<style scoped>\n",
              "    .dataframe tbody tr th:only-of-type {\n",
              "        vertical-align: middle;\n",
              "    }\n",
              "\n",
              "    .dataframe tbody tr th {\n",
              "        vertical-align: top;\n",
              "    }\n",
              "\n",
              "    .dataframe thead th {\n",
              "        text-align: right;\n",
              "    }\n",
              "</style>\n",
              "<table border=\"1\" class=\"dataframe\">\n",
              "  <thead>\n",
              "    <tr style=\"text-align: right;\">\n",
              "      <th></th>\n",
              "      <th>0</th>\n",
              "      <th>1</th>\n",
              "    </tr>\n",
              "  </thead>\n",
              "  <tbody>\n",
              "    <tr>\n",
              "      <th>0</th>\n",
              "      <td>tell</td>\n",
              "      <td>0.042469</td>\n",
              "    </tr>\n",
              "    <tr>\n",
              "      <th>1</th>\n",
              "      <td>call</td>\n",
              "      <td>0.028085</td>\n",
              "    </tr>\n",
              "    <tr>\n",
              "      <th>2</th>\n",
              "      <td>ask</td>\n",
              "      <td>0.022619</td>\n",
              "    </tr>\n",
              "    <tr>\n",
              "      <th>3</th>\n",
              "      <td>give</td>\n",
              "      <td>0.017396</td>\n",
              "    </tr>\n",
              "    <tr>\n",
              "      <th>4</th>\n",
              "      <td>charge</td>\n",
              "      <td>0.016986</td>\n",
              "    </tr>\n",
              "    <tr>\n",
              "      <th>5</th>\n",
              "      <td>manager</td>\n",
              "      <td>0.011458</td>\n",
              "    </tr>\n",
              "    <tr>\n",
              "      <th>6</th>\n",
              "      <td>leave</td>\n",
              "      <td>0.010900</td>\n",
              "    </tr>\n",
              "    <tr>\n",
              "      <th>7</th>\n",
              "      <td>back</td>\n",
              "      <td>0.010603</td>\n",
              "    </tr>\n",
              "    <tr>\n",
              "      <th>8</th>\n",
              "      <td>pay</td>\n",
              "      <td>0.010256</td>\n",
              "    </tr>\n",
              "    <tr>\n",
              "      <th>9</th>\n",
              "      <td>front_desk</td>\n",
              "      <td>0.010124</td>\n",
              "    </tr>\n",
              "  </tbody>\n",
              "</table>\n",
              "</div>"
            ],
            "text/plain": [
              "            0         1\n",
              "0        tell  0.042469\n",
              "1        call  0.028085\n",
              "2         ask  0.022619\n",
              "3        give  0.017396\n",
              "4      charge  0.016986\n",
              "5     manager  0.011458\n",
              "6       leave  0.010900\n",
              "7        back  0.010603\n",
              "8         pay  0.010256\n",
              "9  front_desk  0.010124"
            ]
          },
          "metadata": {},
          "execution_count": 85
        }
      ]
    },
    {
      "cell_type": "markdown",
      "metadata": {
        "id": "hBibeypqDY53"
      },
      "source": [
        "### Topics by rating for 1 hotel"
      ]
    },
    {
      "cell_type": "code",
      "metadata": {
        "id": "kOXHaa3iEWd6",
        "colab": {
          "base_uri": "https://localhost:8080/"
        },
        "outputId": "a9658786-ac84-4370-f3c9-b022f7689010"
      },
      "source": [
        "# print out unique hotels\n",
        "df.v_name.unique()"
      ],
      "execution_count": 86,
      "outputs": [
        {
          "output_type": "execute_result",
          "data": {
            "text/plain": [
              "array(['Encore At Wynn Las Vegas', 'New York - New York Hotel and Casino',\n",
              "       \"Bally's Las Vegas\", 'Venetian Resort Hotel Casino',\n",
              "       'Rio All-Suite Hotel & Casino', 'Wynn Las Vegas',\n",
              "       'MGM Grand Hotel and Casino',\n",
              "       'Tropicana Las Vegas - A DoubleTree by Hilton Hotel',\n",
              "       'Excalibur Hotel & Casino', 'Monte Carlo Resort & Casino',\n",
              "       'The LINQ Hotel & Casino', 'Hard Rock Hotel and Casino',\n",
              "       'Paris Las Vegas', 'The Mirage Hotel & Casino',\n",
              "       'Trump International Hotel Las Vegas', 'Plaza Hotel & Casino',\n",
              "       'Caesars Palace', 'Luxor Las Vegas', 'Signature at MGM',\n",
              "       'Planet Hollywood Resort & Casino', 'Vdara Hotel & Spa',\n",
              "       'Golden Nugget Hotel', 'Treasure Island - TI Hotel & Casino',\n",
              "       'Stratosphere Hotel, Casino and Tower',\n",
              "       'Mandalay Bay Resort & Casino',\n",
              "       'The Cosmopolitan of Las Vegas, Autograph Collection',\n",
              "       'SLS Las Vegas Hotel & Casino', 'Bellagio Las Vegas',\n",
              "       'Circus Circus Hotel & Casino Las Vegas',\n",
              "       'Flamingo Las Vegas Hotel & Casino', 'Delano Las Vegas',\n",
              "       \"Harrah's Las Vegas\", 'The Palazzo Resort Hotel Casino',\n",
              "       'ARIA Resort & Casino'], dtype=object)"
            ]
          },
          "metadata": {},
          "execution_count": 86
        }
      ]
    },
    {
      "cell_type": "code",
      "metadata": {
        "id": "0zqKx1U4S7Dm"
      },
      "source": [
        "# pick out a hotel to analyze in detail\n",
        "hotel = 'Wynn Las Vegas'\n",
        "df_h = df.loc[df.v_name==hotel].reset_index(drop = True)"
      ],
      "execution_count": 87,
      "outputs": []
    },
    {
      "cell_type": "code",
      "metadata": {
        "id": "3BdDf4WxS7F5"
      },
      "source": [
        "# compute the average topic probability for each rating level\n",
        "topicmeans = df_h.groupby('reviewrating')[topiccols].mean().T"
      ],
      "execution_count": 88,
      "outputs": []
    },
    {
      "cell_type": "code",
      "metadata": {
        "id": "Z66AcGGLS7Il",
        "colab": {
          "base_uri": "https://localhost:8080/",
          "height": 423
        },
        "outputId": "c9ddfae1-9e01-4b33-e7d9-ce559744c680"
      },
      "source": [
        "# look at top topics for 1 star ratings\n",
        "topicmeans.sort_values(by = 1, ascending = False)"
      ],
      "execution_count": 89,
      "outputs": [
        {
          "output_type": "execute_result",
          "data": {
            "text/html": [
              "<div>\n",
              "<style scoped>\n",
              "    .dataframe tbody tr th:only-of-type {\n",
              "        vertical-align: middle;\n",
              "    }\n",
              "\n",
              "    .dataframe tbody tr th {\n",
              "        vertical-align: top;\n",
              "    }\n",
              "\n",
              "    .dataframe thead th {\n",
              "        text-align: right;\n",
              "    }\n",
              "</style>\n",
              "<table border=\"1\" class=\"dataframe\">\n",
              "  <thead>\n",
              "    <tr style=\"text-align: right;\">\n",
              "      <th>reviewrating</th>\n",
              "      <th>1</th>\n",
              "      <th>2</th>\n",
              "      <th>3</th>\n",
              "      <th>4</th>\n",
              "      <th>5</th>\n",
              "    </tr>\n",
              "  </thead>\n",
              "  <tbody>\n",
              "    <tr>\n",
              "      <th>top_181</th>\n",
              "      <td>0.175073</td>\n",
              "      <td>0.095533</td>\n",
              "      <td>0.055955</td>\n",
              "      <td>0.027615</td>\n",
              "      <td>0.007667</td>\n",
              "    </tr>\n",
              "    <tr>\n",
              "      <th>top_139</th>\n",
              "      <td>0.052034</td>\n",
              "      <td>0.010271</td>\n",
              "      <td>0.009162</td>\n",
              "      <td>0.005834</td>\n",
              "      <td>0.009914</td>\n",
              "    </tr>\n",
              "    <tr>\n",
              "      <th>top_125</th>\n",
              "      <td>0.033236</td>\n",
              "      <td>0.021879</td>\n",
              "      <td>0.012535</td>\n",
              "      <td>0.012060</td>\n",
              "      <td>0.005633</td>\n",
              "    </tr>\n",
              "    <tr>\n",
              "      <th>top_106</th>\n",
              "      <td>0.031935</td>\n",
              "      <td>0.045108</td>\n",
              "      <td>0.054055</td>\n",
              "      <td>0.052010</td>\n",
              "      <td>0.093271</td>\n",
              "    </tr>\n",
              "    <tr>\n",
              "      <th>top_105</th>\n",
              "      <td>0.021065</td>\n",
              "      <td>0.005543</td>\n",
              "      <td>0.013361</td>\n",
              "      <td>0.004229</td>\n",
              "      <td>0.003182</td>\n",
              "    </tr>\n",
              "    <tr>\n",
              "      <th>...</th>\n",
              "      <td>...</td>\n",
              "      <td>...</td>\n",
              "      <td>...</td>\n",
              "      <td>...</td>\n",
              "      <td>...</td>\n",
              "    </tr>\n",
              "    <tr>\n",
              "      <th>top_76</th>\n",
              "      <td>0.000140</td>\n",
              "      <td>0.002157</td>\n",
              "      <td>0.001062</td>\n",
              "      <td>0.004981</td>\n",
              "      <td>0.004172</td>\n",
              "    </tr>\n",
              "    <tr>\n",
              "      <th>top_135</th>\n",
              "      <td>0.000140</td>\n",
              "      <td>0.004482</td>\n",
              "      <td>0.002035</td>\n",
              "      <td>0.004525</td>\n",
              "      <td>0.003432</td>\n",
              "    </tr>\n",
              "    <tr>\n",
              "      <th>top_97</th>\n",
              "      <td>0.000140</td>\n",
              "      <td>0.001372</td>\n",
              "      <td>0.002851</td>\n",
              "      <td>0.001367</td>\n",
              "      <td>0.005332</td>\n",
              "    </tr>\n",
              "    <tr>\n",
              "      <th>top_1</th>\n",
              "      <td>0.000140</td>\n",
              "      <td>0.000147</td>\n",
              "      <td>0.006204</td>\n",
              "      <td>0.004681</td>\n",
              "      <td>0.001410</td>\n",
              "    </tr>\n",
              "    <tr>\n",
              "      <th>top_0</th>\n",
              "      <td>0.000140</td>\n",
              "      <td>0.003469</td>\n",
              "      <td>0.004036</td>\n",
              "      <td>0.008460</td>\n",
              "      <td>0.006928</td>\n",
              "    </tr>\n",
              "  </tbody>\n",
              "</table>\n",
              "<p>200 rows × 5 columns</p>\n",
              "</div>"
            ],
            "text/plain": [
              "reviewrating         1         2         3         4         5\n",
              "top_181       0.175073  0.095533  0.055955  0.027615  0.007667\n",
              "top_139       0.052034  0.010271  0.009162  0.005834  0.009914\n",
              "top_125       0.033236  0.021879  0.012535  0.012060  0.005633\n",
              "top_106       0.031935  0.045108  0.054055  0.052010  0.093271\n",
              "top_105       0.021065  0.005543  0.013361  0.004229  0.003182\n",
              "...                ...       ...       ...       ...       ...\n",
              "top_76        0.000140  0.002157  0.001062  0.004981  0.004172\n",
              "top_135       0.000140  0.004482  0.002035  0.004525  0.003432\n",
              "top_97        0.000140  0.001372  0.002851  0.001367  0.005332\n",
              "top_1         0.000140  0.000147  0.006204  0.004681  0.001410\n",
              "top_0         0.000140  0.003469  0.004036  0.008460  0.006928\n",
              "\n",
              "[200 rows x 5 columns]"
            ]
          },
          "metadata": {},
          "execution_count": 89
        }
      ]
    },
    {
      "cell_type": "code",
      "metadata": {
        "id": "K0KttLbIoRMt",
        "colab": {
          "base_uri": "https://localhost:8080/"
        },
        "outputId": "894304eb-a9bc-4e5f-e9b7-28216aa69b1c"
      },
      "source": [
        "# look at the highest rated topic for 1 star ratings\n",
        "lda.show_topic(181) "
      ],
      "execution_count": 90,
      "outputs": [
        {
          "output_type": "execute_result",
          "data": {
            "text/plain": [
              "[('tell', 0.042469166),\n",
              " ('call', 0.02808484),\n",
              " ('ask', 0.022618754),\n",
              " ('give', 0.017395891),\n",
              " ('charge', 0.016986221),\n",
              " ('manager', 0.011457581),\n",
              " ('leave', 0.010900232),\n",
              " ('back', 0.010602543),\n",
              " ('pay', 0.010256248),\n",
              " ('front_desk', 0.010124119)]"
            ]
          },
          "metadata": {},
          "execution_count": 90
        }
      ]
    },
    {
      "cell_type": "code",
      "metadata": {
        "id": "q5X-f8iZS7Lb",
        "colab": {
          "base_uri": "https://localhost:8080/",
          "height": 423
        },
        "outputId": "fd0de09a-b9a0-4227-f2c9-367e0a253c6b"
      },
      "source": [
        "# look at top topics for 5 star ratings\n",
        "topicmeans.sort_values(by = 5, ascending = False)\n"
      ],
      "execution_count": 91,
      "outputs": [
        {
          "output_type": "execute_result",
          "data": {
            "text/html": [
              "<div>\n",
              "<style scoped>\n",
              "    .dataframe tbody tr th:only-of-type {\n",
              "        vertical-align: middle;\n",
              "    }\n",
              "\n",
              "    .dataframe tbody tr th {\n",
              "        vertical-align: top;\n",
              "    }\n",
              "\n",
              "    .dataframe thead th {\n",
              "        text-align: right;\n",
              "    }\n",
              "</style>\n",
              "<table border=\"1\" class=\"dataframe\">\n",
              "  <thead>\n",
              "    <tr style=\"text-align: right;\">\n",
              "      <th>reviewrating</th>\n",
              "      <th>1</th>\n",
              "      <th>2</th>\n",
              "      <th>3</th>\n",
              "      <th>4</th>\n",
              "      <th>5</th>\n",
              "    </tr>\n",
              "  </thead>\n",
              "  <tbody>\n",
              "    <tr>\n",
              "      <th>top_106</th>\n",
              "      <td>0.031935</td>\n",
              "      <td>0.045108</td>\n",
              "      <td>0.054055</td>\n",
              "      <td>0.052010</td>\n",
              "      <td>0.093271</td>\n",
              "    </tr>\n",
              "    <tr>\n",
              "      <th>top_4</th>\n",
              "      <td>0.001573</td>\n",
              "      <td>0.010337</td>\n",
              "      <td>0.005148</td>\n",
              "      <td>0.010848</td>\n",
              "      <td>0.019060</td>\n",
              "    </tr>\n",
              "    <tr>\n",
              "      <th>top_57</th>\n",
              "      <td>0.002031</td>\n",
              "      <td>0.009216</td>\n",
              "      <td>0.003215</td>\n",
              "      <td>0.015654</td>\n",
              "      <td>0.014389</td>\n",
              "    </tr>\n",
              "    <tr>\n",
              "      <th>top_161</th>\n",
              "      <td>0.001620</td>\n",
              "      <td>0.003207</td>\n",
              "      <td>0.006892</td>\n",
              "      <td>0.007882</td>\n",
              "      <td>0.012685</td>\n",
              "    </tr>\n",
              "    <tr>\n",
              "      <th>top_80</th>\n",
              "      <td>0.001956</td>\n",
              "      <td>0.012160</td>\n",
              "      <td>0.010543</td>\n",
              "      <td>0.005412</td>\n",
              "      <td>0.011204</td>\n",
              "    </tr>\n",
              "    <tr>\n",
              "      <th>...</th>\n",
              "      <td>...</td>\n",
              "      <td>...</td>\n",
              "      <td>...</td>\n",
              "      <td>...</td>\n",
              "      <td>...</td>\n",
              "    </tr>\n",
              "    <tr>\n",
              "      <th>top_1</th>\n",
              "      <td>0.000140</td>\n",
              "      <td>0.000147</td>\n",
              "      <td>0.006204</td>\n",
              "      <td>0.004681</td>\n",
              "      <td>0.001410</td>\n",
              "    </tr>\n",
              "    <tr>\n",
              "      <th>top_78</th>\n",
              "      <td>0.008410</td>\n",
              "      <td>0.002029</td>\n",
              "      <td>0.000866</td>\n",
              "      <td>0.000919</td>\n",
              "      <td>0.001360</td>\n",
              "    </tr>\n",
              "    <tr>\n",
              "      <th>top_14</th>\n",
              "      <td>0.002528</td>\n",
              "      <td>0.002940</td>\n",
              "      <td>0.001209</td>\n",
              "      <td>0.002296</td>\n",
              "      <td>0.001358</td>\n",
              "    </tr>\n",
              "    <tr>\n",
              "      <th>top_13</th>\n",
              "      <td>0.003216</td>\n",
              "      <td>0.001812</td>\n",
              "      <td>0.000946</td>\n",
              "      <td>0.000907</td>\n",
              "      <td>0.001144</td>\n",
              "    </tr>\n",
              "    <tr>\n",
              "      <th>top_48</th>\n",
              "      <td>0.000851</td>\n",
              "      <td>0.003665</td>\n",
              "      <td>0.001523</td>\n",
              "      <td>0.001969</td>\n",
              "      <td>0.001088</td>\n",
              "    </tr>\n",
              "  </tbody>\n",
              "</table>\n",
              "<p>200 rows × 5 columns</p>\n",
              "</div>"
            ],
            "text/plain": [
              "reviewrating         1         2         3         4         5\n",
              "top_106       0.031935  0.045108  0.054055  0.052010  0.093271\n",
              "top_4         0.001573  0.010337  0.005148  0.010848  0.019060\n",
              "top_57        0.002031  0.009216  0.003215  0.015654  0.014389\n",
              "top_161       0.001620  0.003207  0.006892  0.007882  0.012685\n",
              "top_80        0.001956  0.012160  0.010543  0.005412  0.011204\n",
              "...                ...       ...       ...       ...       ...\n",
              "top_1         0.000140  0.000147  0.006204  0.004681  0.001410\n",
              "top_78        0.008410  0.002029  0.000866  0.000919  0.001360\n",
              "top_14        0.002528  0.002940  0.001209  0.002296  0.001358\n",
              "top_13        0.003216  0.001812  0.000946  0.000907  0.001144\n",
              "top_48        0.000851  0.003665  0.001523  0.001969  0.001088\n",
              "\n",
              "[200 rows x 5 columns]"
            ]
          },
          "metadata": {},
          "execution_count": 91
        }
      ]
    },
    {
      "cell_type": "code",
      "metadata": {
        "id": "fObyEjlAoZE9",
        "colab": {
          "base_uri": "https://localhost:8080/"
        },
        "outputId": "14e9556f-53ce-4adf-86d3-ca7c60287ddd"
      },
      "source": [
        "# look at the highest rated topic for 5 star ratings\n",
        "# that are not in the top 5 for 1 star ratings\n",
        "lda.show_topic(106)\n"
      ],
      "execution_count": 92,
      "outputs": [
        {
          "output_type": "execute_result",
          "data": {
            "text/plain": [
              "[('wynn', 0.185391),\n",
              " ('encore', 0.038620487),\n",
              " ('fitness_center', 0.018038912),\n",
              " ('open_door', 0.015027859),\n",
              " ('gym', 0.012879832),\n",
              " ('wynn_encore', 0.012396172),\n",
              " ('power', 0.011619463),\n",
              " ('equipment', 0.009314022),\n",
              " ('spa', 0.009155681),\n",
              " ('near_elevator', 0.008470626)]"
            ]
          },
          "metadata": {},
          "execution_count": 92
        }
      ]
    },
    {
      "cell_type": "markdown",
      "metadata": {
        "id": "6ODePDkrJPV9"
      },
      "source": [
        "**Answer Question**\n",
        "\n",
        "Any intuition behind the distinctive 5 star topic and the top 1 star topic? Explain.\n",
        "\n",
        "1. **The LDA is able to classify similar reviews and topic making it distinctive when compared to topics in 1 star ratings**"
      ]
    },
    {
      "cell_type": "markdown",
      "metadata": {
        "id": "PyHJz_FaI1Vf"
      },
      "source": [
        "# Create wordcloud from LDA (+2 Bonus)\n",
        "\n"
      ]
    },
    {
      "cell_type": "markdown",
      "metadata": {
        "id": "d5eJIMJGtYIU"
      },
      "source": [
        "## Example for creating 1 wordcloud"
      ]
    },
    {
      "cell_type": "code",
      "metadata": {
        "id": "iA78Q6rjrnNa"
      },
      "source": [
        "# to get the topic weights for topic k:\n",
        "k = 0\n",
        "# topn = number of top words to use\n",
        "topicwts = dict(lda.show_topic(k, topn = 100))"
      ],
      "execution_count": 93,
      "outputs": []
    },
    {
      "cell_type": "code",
      "metadata": {
        "id": "fHudGG8NrfRn"
      },
      "source": [
        "from wordcloud import WordCloud\n",
        "wc = WordCloud(width = 1920, height = 1080, background_color = 'white').fit_words(topicwts) # specify w/h for HD figure"
      ],
      "execution_count": 94,
      "outputs": []
    },
    {
      "cell_type": "code",
      "metadata": {
        "id": "xnJVX9Txsaae",
        "colab": {
          "base_uri": "https://localhost:8080/",
          "height": 319
        },
        "outputId": "7a0d5c62-ecae-4a6a-b712-f9e2d00e365a"
      },
      "source": [
        "# plot wc\n",
        "plt.figure(figsize = (10,5))\n",
        "plt.imshow(wc, interpolation='bilinear')\n",
        "plt.title('Topic {}'.format(k))\n",
        "plt.axis('off')\n",
        "plt.show()"
      ],
      "execution_count": 95,
      "outputs": [
        {
          "output_type": "display_data",
          "data": {
            "image/png": "[encoded data removed]",
            "text/plain": [
              "<Figure size 720x360 with 1 Axes>"
            ]
          },
          "metadata": {
            "needs_background": "light"
          }
        }
      ]
    },
    {
      "cell_type": "markdown",
      "metadata": {
        "id": "bXjgXZqSsrsC"
      },
      "source": [
        "## Challenge problem (for the bonus): \n",
        "Use only the data from your chosen hotel, i.e. df_h.\n",
        "\n",
        "For positive and negative reviews, where positive is 4-5 stars and negative is 1-3 stars, create a wordcloud for any of the top 5 topics for that category of ratings that are not in the top 5 of the other category. For instance, if topic 88 is one of the top 5 topics for negative reviews and **not** one of the top 5 topics for positive reviews, then create a wordcloud for it. Make sure that the title of the wordcloud image reflects the review type (positive/negative) and the topic number: e.g., 'Positive review topic: 88'.\n",
        "\n",
        "*Use what you have learned throughout the semester and the internet to figure out how to do this without any hard-coded results, especially with respect to selecting the topics to visualize. For example: use code to write a generic solution such that you do not have to manually select the topics used for word cloud. If you had to re-run the code where top 5 topics is now top 3 topics, you should only have to change the 5 to 3 once in the code.\n",
        "\n"
      ]
    },
    {
      "cell_type": "code",
      "metadata": {
        "id": "jP4SGPydwRRZ",
        "colab": {
          "base_uri": "https://localhost:8080/",
          "height": 200
        },
        "outputId": "1b7cc412-8d10-484b-e219-20c3f878c209"
      },
      "source": [
        "# solution below, feel free to add multiple additional cells\n",
        "##using ratings 4 get the topic ID\n",
        "topicmeans.sort_values(by = 5, ascending = False).head(2)"
      ],
      "execution_count": 1,
      "outputs": [
        {
          "output_type": "error",
          "ename": "NameError",
          "evalue": "ignored",
          "traceback": [
            "\u001b[0;31m---------------------------------------------------------------------------\u001b[0m",
            "\u001b[0;31mNameError\u001b[0m                                 Traceback (most recent call last)",
            "\u001b[0;32m<ipython-input-1-b8aad2e597b8>\u001b[0m in \u001b[0;36m<module>\u001b[0;34m()\u001b[0m\n\u001b[1;32m      1\u001b[0m \u001b[0;31m# solution below, feel free to add multiple additional cells\u001b[0m\u001b[0;34m\u001b[0m\u001b[0;34m\u001b[0m\u001b[0;34m\u001b[0m\u001b[0m\n\u001b[1;32m      2\u001b[0m \u001b[0;31m##using ratings 4 get the topic ID\u001b[0m\u001b[0;34m\u001b[0m\u001b[0;34m\u001b[0m\u001b[0;34m\u001b[0m\u001b[0m\n\u001b[0;32m----> 3\u001b[0;31m \u001b[0mtopicmeans\u001b[0m\u001b[0;34m.\u001b[0m\u001b[0msort_values\u001b[0m\u001b[0;34m(\u001b[0m\u001b[0mby\u001b[0m \u001b[0;34m=\u001b[0m \u001b[0;36m5\u001b[0m\u001b[0;34m,\u001b[0m \u001b[0mascending\u001b[0m \u001b[0;34m=\u001b[0m \u001b[0;32mFalse\u001b[0m\u001b[0;34m)\u001b[0m\u001b[0;34m.\u001b[0m\u001b[0mhead\u001b[0m\u001b[0;34m(\u001b[0m\u001b[0;36m2\u001b[0m\u001b[0;34m)\u001b[0m\u001b[0;34m\u001b[0m\u001b[0;34m\u001b[0m\u001b[0m\n\u001b[0m",
            "\u001b[0;31mNameError\u001b[0m: name 'topicmeans' is not defined"
          ]
        }
      ]
    },
    {
      "cell_type": "code",
      "metadata": {
        "id": "1JDQuwjNjZA6"
      },
      "source": [
        "topicmeans.sort_values(by = 4, ascending = False).head(2)"
      ],
      "execution_count": null,
      "outputs": []
    },
    {
      "cell_type": "code",
      "metadata": {
        "id": "X6dFQSookX9b"
      },
      "source": [
        "lda.show_topic(101) "
      ],
      "execution_count": null,
      "outputs": []
    },
    {
      "cell_type": "code",
      "metadata": {
        "id": "OkY19nxUkZX5"
      },
      "source": [
        "pos = lda.show_topic(35) "
      ],
      "execution_count": null,
      "outputs": []
    },
    {
      "cell_type": "code",
      "metadata": {
        "id": "A-oFpXd8kbES"
      },
      "source": [
        "print(topicmeans.sort_values(by = 1, ascending = False).head(2))\n",
        "print(topicmeans.sort_values(by = 2, ascending = False).head(2))\n",
        "print(topicmeans.sort_values(by = 3, ascending = False).head(2))"
      ],
      "execution_count": null,
      "outputs": []
    }
  ]
}