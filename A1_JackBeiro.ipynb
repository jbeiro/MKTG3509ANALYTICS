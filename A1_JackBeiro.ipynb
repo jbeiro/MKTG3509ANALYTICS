{
  "nbformat": 4,
  "nbformat_minor": 0,
  "metadata": {
    "colab": {
      "name": "A1 JackBeiro.ipynb",
      "provenance": [],
      "collapsed_sections": []
    },
    "kernelspec": {
      "name": "python3",
      "display_name": "Python 3"
    },
    "language_info": {
      "name": "python"
    }
  },
  "cells": [
    {
      "cell_type": "code",
      "metadata": {
        "id": "PQoqaRAmB1BD"
      },
      "source": [
        ""
      ],
      "execution_count": null,
      "outputs": []
    },
    {
      "cell_type": "code",
      "metadata": {
        "id": "hDgyepkgB3-Y"
      },
      "source": [
        ""
      ],
      "execution_count": null,
      "outputs": []
    },
    {
      "cell_type": "markdown",
      "metadata": {
        "id": "6AU_w-e1B4VH"
      },
      "source": [
        "# <center> Resume of Jack Beiro <center/> \n",
        "##Contact\n",
        "Email: [Tui89417@temple.edu](mailto:Tui89417@temple.edu)\n",
        "\n",
        "Website: [linkedin.com/in/jack-beiro](https://www.linkedin.com/in/jack-beiro-692680195/)\n",
        "##Summary \n",
        "I am a Senior Marketing major at the Fox School of Business and retail store manager at HS Global Inc. Balancing both work and school has refined my drive for results, leadership skills, and ability to manage multiple projects simultaneously. I am currently seeking entry level marketing postions and connections with Marketing and Human Resource Managers.\n",
        "\n",
        "---\n",
        "\n",
        "##Education\n",
        "**A.S., Business** 2020\n",
        "\n",
        "*Community College of Philadelphia, Philadelelphia, PA*\n",
        "\n",
        "**B.B.A., Marketing** 2022\n",
        "\n",
        "*Temple University, Philadelphia, PA*\n",
        "\n",
        "---\n",
        "\n",
        "##Work Experience\n",
        "**Retail Store Manager** 2019-Current\n",
        "\n",
        "*H.S. Global Inc., Philadelphia, PA*\n",
        "\n",
        "- Started as a Store Associate; promoted to Manager in a year for exceeding \n",
        "performance expectations\n",
        "\n",
        "- Provided customer service and conducted sales at the top revenue producing \n",
        "location in the company\n",
        "\n",
        "- Monthly sales revenue consistently increased by 2-3% since my promotion\n",
        "\n",
        "**Founder/Creator** March 2020\n",
        "\n",
        "*Keep Nature Wild Fundraiser,* [Keepnaturewild.bigcartel.com](https://keepnaturewild.bigcartel.com/product/keep-nature-wild-tee)\n",
        "\n",
        "-  Designed a graphic and advertising materials for a t-shirt using Adobe Photoshop\n",
        "\n",
        "-  Developed a Big Cartel domain and ordered stock through wholesale suppliers\n",
        "\n",
        "-  One week limited campaign generated almost $2,000 in net earnings; Donated all profits to the World Wildlife \n",
        "Foundation (WWF)\n",
        "\n",
        "---\n",
        "##Skills\n",
        "\n",
        "**Adobe Creative Cloud** (Photoshop, Illustrator, Lightroom, After Effects, Premiere \n",
        "Pro, InDesign, Acrobat) \n",
        "\n",
        "**Microsoft Office** (Word, Excel, Powerpoint)\n",
        "\n",
        "**Cryptocurrency & Blockchain Technology** (advanced fundamental understanding on onboarding and teaching new users)\n",
        "\n",
        "---\n",
        "\n",
        "##Professional Interests\n",
        "Marketing research, Marketing Manager, Human Resource Manager\n",
        "\n",
        "---\n",
        "\n",
        "##Personal\n",
        "Avid cryptocurrency investor\n",
        "\n",
        "Aspiring DJ\n",
        "\n",
        "Graphic design\n",
        "\n",
        "---"
      ]
    }
  ]
}