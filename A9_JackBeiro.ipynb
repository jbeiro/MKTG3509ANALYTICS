{
  "nbformat": 4,
  "nbformat_minor": 0,
  "metadata": {
    "colab": {
      "name": "A9_JackBeiro.ipynb",
      "provenance": [],
      "collapsed_sections": []
    },
    "kernelspec": {
      "name": "python3",
      "display_name": "Python 3"
    }
  },
  "cells": [
    {
      "cell_type": "markdown",
      "metadata": {
        "id": "v8tuBEKOxdJH"
      },
      "source": [
        "# A9 Customer Segmentation\n",
        "\n",
        "**Rationale** The idea for this assignment is to give you hands on experience in applying behavioral segmentation techniques to real world data where the variables you use for segmentation are not already created for you (you must define them first). Thus you must first do \"feature engineering\" before you can do segmentation. Don't worry, this problem is broken down into components.\n",
        "\n",
        "The dataset we use is [retail invoice](https://drive.google.com/drive/folders/1IUq9xm_0jWEs41iFp8TSWpb0CbPiT87m?usp=sharing). Each invoice is one purchase occassion, and for each invoice we have several observations representing the unique items (stockcode) purchased on that occassion.\n",
        "\n",
        "The goal of the first part is to create useful features about each consumer's observed behaviors, i.e. go from transaction level to customer level data. The goal of the second part is to then do behavioral segmentation based on these newly constructed features. "
      ]
    },
    {
      "cell_type": "markdown",
      "metadata": {
        "id": "B3dWWTS5s0CG"
      },
      "source": [
        "# Part 1 Feature Engineering (5 points)\n",
        "\n",
        "Generally, feature engineering is where your marketing domain knowledge comes into play. In other words, your intuitions about what matters in terms of separating consumers into different groups should drive what features (aka variables/columns) to create. However, in this assignment, you are expected to compute the characteristics detailed in the following instructions.\n"
      ]
    },
    {
      "cell_type": "markdown",
      "metadata": {
        "id": "kuRzBzBmtCeN"
      },
      "source": [
        "Read in the data, preview it, and familiarize yourself with the contents of the data."
      ]
    },
    {
      "cell_type": "code",
      "metadata": {
        "colab": {
          "base_uri": "https://localhost:8080/"
        },
        "id": "tGm3SB4BtEGQ",
        "outputId": "77628843-8446-4784-f3ba-c6f3a9b79fe4"
      },
      "source": [
        "import pandas as pd, numpy as np, os, matplotlib.pyplot as plt\n",
        "from google.colab import drive\n",
        "from sklearn.decomposition import PCA\n",
        "from sklearn.cluster import KMeans\n",
        "drive.mount('drive', force_remount=True)"
      ],
      "execution_count": 1,
      "outputs": [
        {
          "output_type": "stream",
          "name": "stdout",
          "text": [
            "Mounted at drive\n"
          ]
        }
      ]
    },
    {
      "cell_type": "code",
      "metadata": {
        "colab": {
          "base_uri": "https://localhost:8080/"
        },
        "id": "A16TwN9btXws",
        "outputId": "dc5f4915-d489-4c74-c867-08e13c20bcca"
      },
      "source": [
        "fpath = 'drive/MyDrive/MKTG3509/Data Sets/' # change the path here\n",
        "os.listdir(fpath)"
      ],
      "execution_count": 2,
      "outputs": [
        {
          "output_type": "execute_result",
          "data": {
            "text/plain": [
              "['Avocado.xlsx',\n",
              " 'quebec_biz.csv',\n",
              " 'quebec_yelp_reviews.csv',\n",
              " 'goodDataSet.csv',\n",
              " 'renttherunway_final_data.json',\n",
              " 'telecom_churn.csv',\n",
              " 'starbucks_promos.csv',\n",
              " 'facebook_ads.csv',\n",
              " 'temple_traffic.csv',\n",
              " 'avocado.csv',\n",
              " 'online_invoices.csv']"
            ]
          },
          "metadata": {},
          "execution_count": 2
        }
      ]
    },
    {
      "cell_type": "code",
      "metadata": {
        "id": "-lVcVTC9tgmm"
      },
      "source": [
        "# Read in the data (csv file)\n",
        "df = pd.read_csv(fpath + 'online_invoices.csv', index_col = 0)"
      ],
      "execution_count": 3,
      "outputs": []
    },
    {
      "cell_type": "code",
      "metadata": {
        "id": "VKsPGGcLtn_w",
        "colab": {
          "base_uri": "https://localhost:8080/",
          "height": 202
        },
        "outputId": "8d386bab-c84d-40ad-8536-f457ac2323c4"
      },
      "source": [
        "# Preview the data\n",
        "df.head()"
      ],
      "execution_count": 4,
      "outputs": [
        {
          "output_type": "execute_result",
          "data": {
            "text/html": [
              "<div>\n",
              "<style scoped>\n",
              "    .dataframe tbody tr th:only-of-type {\n",
              "        vertical-align: middle;\n",
              "    }\n",
              "\n",
              "    .dataframe tbody tr th {\n",
              "        vertical-align: top;\n",
              "    }\n",
              "\n",
              "    .dataframe thead th {\n",
              "        text-align: right;\n",
              "    }\n",
              "</style>\n",
              "<table border=\"1\" class=\"dataframe\">\n",
              "  <thead>\n",
              "    <tr style=\"text-align: right;\">\n",
              "      <th></th>\n",
              "      <th>InvoiceNo</th>\n",
              "      <th>StockCode</th>\n",
              "      <th>Description</th>\n",
              "      <th>Quantity</th>\n",
              "      <th>InvoiceDate</th>\n",
              "      <th>UnitPrice</th>\n",
              "      <th>CustomerID</th>\n",
              "      <th>Country</th>\n",
              "    </tr>\n",
              "  </thead>\n",
              "  <tbody>\n",
              "    <tr>\n",
              "      <th>0</th>\n",
              "      <td>536365</td>\n",
              "      <td>85123A</td>\n",
              "      <td>WHITE HANGING HEART T-LIGHT HOLDER</td>\n",
              "      <td>6</td>\n",
              "      <td>12/1/2010 8:26</td>\n",
              "      <td>2.55</td>\n",
              "      <td>17850.0</td>\n",
              "      <td>United Kingdom</td>\n",
              "    </tr>\n",
              "    <tr>\n",
              "      <th>1</th>\n",
              "      <td>536365</td>\n",
              "      <td>71053</td>\n",
              "      <td>WHITE METAL LANTERN</td>\n",
              "      <td>6</td>\n",
              "      <td>12/1/2010 8:26</td>\n",
              "      <td>3.39</td>\n",
              "      <td>17850.0</td>\n",
              "      <td>United Kingdom</td>\n",
              "    </tr>\n",
              "    <tr>\n",
              "      <th>2</th>\n",
              "      <td>536365</td>\n",
              "      <td>84406B</td>\n",
              "      <td>CREAM CUPID HEARTS COAT HANGER</td>\n",
              "      <td>8</td>\n",
              "      <td>12/1/2010 8:26</td>\n",
              "      <td>2.75</td>\n",
              "      <td>17850.0</td>\n",
              "      <td>United Kingdom</td>\n",
              "    </tr>\n",
              "    <tr>\n",
              "      <th>3</th>\n",
              "      <td>536365</td>\n",
              "      <td>84029G</td>\n",
              "      <td>KNITTED UNION FLAG HOT WATER BOTTLE</td>\n",
              "      <td>6</td>\n",
              "      <td>12/1/2010 8:26</td>\n",
              "      <td>3.39</td>\n",
              "      <td>17850.0</td>\n",
              "      <td>United Kingdom</td>\n",
              "    </tr>\n",
              "    <tr>\n",
              "      <th>4</th>\n",
              "      <td>536365</td>\n",
              "      <td>84029E</td>\n",
              "      <td>RED WOOLLY HOTTIE WHITE HEART.</td>\n",
              "      <td>6</td>\n",
              "      <td>12/1/2010 8:26</td>\n",
              "      <td>3.39</td>\n",
              "      <td>17850.0</td>\n",
              "      <td>United Kingdom</td>\n",
              "    </tr>\n",
              "  </tbody>\n",
              "</table>\n",
              "</div>"
            ],
            "text/plain": [
              "   InvoiceNo StockCode  ... CustomerID         Country\n",
              "0     536365    85123A  ...    17850.0  United Kingdom\n",
              "1     536365     71053  ...    17850.0  United Kingdom\n",
              "2     536365    84406B  ...    17850.0  United Kingdom\n",
              "3     536365    84029G  ...    17850.0  United Kingdom\n",
              "4     536365    84029E  ...    17850.0  United Kingdom\n",
              "\n",
              "[5 rows x 8 columns]"
            ]
          },
          "metadata": {},
          "execution_count": 4
        }
      ]
    },
    {
      "cell_type": "markdown",
      "metadata": {
        "id": "Ui2NVHT2t6Vu"
      },
      "source": [
        "**Answer questions here**\n",
        "\n",
        "What does each row represent? **C** (pick one)\n",
        "\n",
        "A. 1 invoice (1 point of sale transaction) \\\\\n",
        "B. A single item sold \\\\\n",
        "C. Each unique item sold in a transaction \\\\\n",
        "D. Daily sales \\\\\n",
        "E. 1 customer's total purchases on each day\n"
      ]
    },
    {
      "cell_type": "markdown",
      "metadata": {
        "id": "Oxk5psRYtTmq"
      },
      "source": [
        "\n",
        "## Unique count variables\n",
        "\n",
        "Create a dataframe, `df_u` that represents each consumer's total number of transactions and unique products purchased.\n",
        "\n",
        "Hint: use a `groupby` + `.nunique()` statement. `df.groupby('id')[['var1', 'var2',....]].nunique().reset_index()` will compute the number of unique values of columns 'var1', 'var2',.... for each \"id\". You should calculate the number of unique `StockCode`'s (like SKU's) and `InvoicesNo`'s for each `CustomerID`. Change your column names in the resulting dataframe, `df_u`, to `['CustomerID', 'NProducts', 'NTrans']`."
      ]
    },
    {
      "cell_type": "code",
      "metadata": {
        "id": "iBChy9Wit6YH"
      },
      "source": [
        "# use a groupby operation with the nunique summary function to calculate the number of unique\n",
        "# product SKU's and transactions for each item\n",
        "# call the resulting dataframe df_u\n",
        "\n",
        "df_u = df.groupby('CustomerID')[['StockCode','InvoiceNo']].nunique().reset_index()"
      ],
      "execution_count": 6,
      "outputs": []
    },
    {
      "cell_type": "code",
      "metadata": {
        "id": "lU8oH59PC_n6"
      },
      "source": [
        "# rename the columns for unique transactions and products purchased to:\n",
        "# NTrans and NProducts, respectively \n",
        "# Remember, you can either use the syntax dataframe.columns = ['col1', 'col2',....] <- set all the column names using list of strings for each column\n",
        "# or you can use dataframe.rename(columns = {'oldcolname':'newcolname', 'oldcolname2':'newcolname2', ....}, inplace = True) <- rename only the ones that should be renamed\n",
        "\n",
        "df_u.columns = ['CustomerID', 'NProducts', 'NTrans']"
      ],
      "execution_count": 9,
      "outputs": []
    },
    {
      "cell_type": "code",
      "metadata": {
        "id": "GyMvxP5qMTk-",
        "colab": {
          "base_uri": "https://localhost:8080/",
          "height": 202
        },
        "outputId": "9b41e461-ab85-4403-9dd9-6979c4f5efbd"
      },
      "source": [
        "# take a look at the first 5 rows of resulting dataframe, make sure contents are what you expect\n",
        "\n",
        "df_u.head()"
      ],
      "execution_count": 10,
      "outputs": [
        {
          "output_type": "execute_result",
          "data": {
            "text/html": [
              "<div>\n",
              "<style scoped>\n",
              "    .dataframe tbody tr th:only-of-type {\n",
              "        vertical-align: middle;\n",
              "    }\n",
              "\n",
              "    .dataframe tbody tr th {\n",
              "        vertical-align: top;\n",
              "    }\n",
              "\n",
              "    .dataframe thead th {\n",
              "        text-align: right;\n",
              "    }\n",
              "</style>\n",
              "<table border=\"1\" class=\"dataframe\">\n",
              "  <thead>\n",
              "    <tr style=\"text-align: right;\">\n",
              "      <th></th>\n",
              "      <th>CustomerID</th>\n",
              "      <th>NProducts</th>\n",
              "      <th>NTrans</th>\n",
              "    </tr>\n",
              "  </thead>\n",
              "  <tbody>\n",
              "    <tr>\n",
              "      <th>0</th>\n",
              "      <td>12346.0</td>\n",
              "      <td>1</td>\n",
              "      <td>1</td>\n",
              "    </tr>\n",
              "    <tr>\n",
              "      <th>1</th>\n",
              "      <td>12347.0</td>\n",
              "      <td>103</td>\n",
              "      <td>7</td>\n",
              "    </tr>\n",
              "    <tr>\n",
              "      <th>2</th>\n",
              "      <td>12348.0</td>\n",
              "      <td>21</td>\n",
              "      <td>4</td>\n",
              "    </tr>\n",
              "    <tr>\n",
              "      <th>3</th>\n",
              "      <td>12349.0</td>\n",
              "      <td>72</td>\n",
              "      <td>1</td>\n",
              "    </tr>\n",
              "    <tr>\n",
              "      <th>4</th>\n",
              "      <td>12350.0</td>\n",
              "      <td>16</td>\n",
              "      <td>1</td>\n",
              "    </tr>\n",
              "  </tbody>\n",
              "</table>\n",
              "</div>"
            ],
            "text/plain": [
              "   CustomerID  NProducts  NTrans\n",
              "0     12346.0          1       1\n",
              "1     12347.0        103       7\n",
              "2     12348.0         21       4\n",
              "3     12349.0         72       1\n",
              "4     12350.0         16       1"
            ]
          },
          "metadata": {},
          "execution_count": 10
        }
      ]
    },
    {
      "cell_type": "markdown",
      "metadata": {
        "id": "YLPqoJNPJCNE"
      },
      "source": [
        "\n",
        "## Customer spend\n",
        "\n",
        "Compute the total customer spending and number of units purchased for each customer of this retailer. \n",
        "\n",
        "Hint\n",
        "1. Create a column for `TotalSpend` (unit price x quantity)\n",
        "1. Use a (groupby + sum) to create a dataframe `df_s` that contains each customer's sum of `TotalSpend` and `Quantity`\n",
        "1. rename the quantity column to `TotalUnits`\n"
      ]
    },
    {
      "cell_type": "code",
      "metadata": {
        "id": "edY2KenyJGp4",
        "colab": {
          "base_uri": "https://localhost:8080/",
          "height": 202
        },
        "outputId": "8e5a6397-cb9a-4975-9a01-3c60d47c50e4"
      },
      "source": [
        "# create total spend column\n",
        "\n",
        "TotalSpend=(df.Quantity * df.UnitPrice)\n",
        "\n",
        "df.insert(7,\"TotalSpend\",TotalSpend, True)\n",
        "df.head()"
      ],
      "execution_count": 11,
      "outputs": [
        {
          "output_type": "execute_result",
          "data": {
            "text/html": [
              "<div>\n",
              "<style scoped>\n",
              "    .dataframe tbody tr th:only-of-type {\n",
              "        vertical-align: middle;\n",
              "    }\n",
              "\n",
              "    .dataframe tbody tr th {\n",
              "        vertical-align: top;\n",
              "    }\n",
              "\n",
              "    .dataframe thead th {\n",
              "        text-align: right;\n",
              "    }\n",
              "</style>\n",
              "<table border=\"1\" class=\"dataframe\">\n",
              "  <thead>\n",
              "    <tr style=\"text-align: right;\">\n",
              "      <th></th>\n",
              "      <th>InvoiceNo</th>\n",
              "      <th>StockCode</th>\n",
              "      <th>Description</th>\n",
              "      <th>Quantity</th>\n",
              "      <th>InvoiceDate</th>\n",
              "      <th>UnitPrice</th>\n",
              "      <th>CustomerID</th>\n",
              "      <th>TotalSpend</th>\n",
              "      <th>Country</th>\n",
              "    </tr>\n",
              "  </thead>\n",
              "  <tbody>\n",
              "    <tr>\n",
              "      <th>0</th>\n",
              "      <td>536365</td>\n",
              "      <td>85123A</td>\n",
              "      <td>WHITE HANGING HEART T-LIGHT HOLDER</td>\n",
              "      <td>6</td>\n",
              "      <td>12/1/2010 8:26</td>\n",
              "      <td>2.55</td>\n",
              "      <td>17850.0</td>\n",
              "      <td>15.30</td>\n",
              "      <td>United Kingdom</td>\n",
              "    </tr>\n",
              "    <tr>\n",
              "      <th>1</th>\n",
              "      <td>536365</td>\n",
              "      <td>71053</td>\n",
              "      <td>WHITE METAL LANTERN</td>\n",
              "      <td>6</td>\n",
              "      <td>12/1/2010 8:26</td>\n",
              "      <td>3.39</td>\n",
              "      <td>17850.0</td>\n",
              "      <td>20.34</td>\n",
              "      <td>United Kingdom</td>\n",
              "    </tr>\n",
              "    <tr>\n",
              "      <th>2</th>\n",
              "      <td>536365</td>\n",
              "      <td>84406B</td>\n",
              "      <td>CREAM CUPID HEARTS COAT HANGER</td>\n",
              "      <td>8</td>\n",
              "      <td>12/1/2010 8:26</td>\n",
              "      <td>2.75</td>\n",
              "      <td>17850.0</td>\n",
              "      <td>22.00</td>\n",
              "      <td>United Kingdom</td>\n",
              "    </tr>\n",
              "    <tr>\n",
              "      <th>3</th>\n",
              "      <td>536365</td>\n",
              "      <td>84029G</td>\n",
              "      <td>KNITTED UNION FLAG HOT WATER BOTTLE</td>\n",
              "      <td>6</td>\n",
              "      <td>12/1/2010 8:26</td>\n",
              "      <td>3.39</td>\n",
              "      <td>17850.0</td>\n",
              "      <td>20.34</td>\n",
              "      <td>United Kingdom</td>\n",
              "    </tr>\n",
              "    <tr>\n",
              "      <th>4</th>\n",
              "      <td>536365</td>\n",
              "      <td>84029E</td>\n",
              "      <td>RED WOOLLY HOTTIE WHITE HEART.</td>\n",
              "      <td>6</td>\n",
              "      <td>12/1/2010 8:26</td>\n",
              "      <td>3.39</td>\n",
              "      <td>17850.0</td>\n",
              "      <td>20.34</td>\n",
              "      <td>United Kingdom</td>\n",
              "    </tr>\n",
              "  </tbody>\n",
              "</table>\n",
              "</div>"
            ],
            "text/plain": [
              "   InvoiceNo StockCode  ... TotalSpend         Country\n",
              "0     536365    85123A  ...      15.30  United Kingdom\n",
              "1     536365     71053  ...      20.34  United Kingdom\n",
              "2     536365    84406B  ...      22.00  United Kingdom\n",
              "3     536365    84029G  ...      20.34  United Kingdom\n",
              "4     536365    84029E  ...      20.34  United Kingdom\n",
              "\n",
              "[5 rows x 9 columns]"
            ]
          },
          "metadata": {},
          "execution_count": 11
        }
      ]
    },
    {
      "cell_type": "code",
      "metadata": {
        "id": "wLl_CD_0MFHZ"
      },
      "source": [
        "# create dataframe, df_s, that contains the total spend and quantity for each customer using groupby statement\n",
        "# remember to reset_index\n",
        "\n",
        "df_s = df.groupby('CustomerID')[['TotalSpend','Quantity']].nunique().reset_index()"
      ],
      "execution_count": 12,
      "outputs": []
    },
    {
      "cell_type": "code",
      "metadata": {
        "id": "oKLd7Pc0PVso"
      },
      "source": [
        "# rename columns so that resulting dataframe has columns: CustomerID, TotalSpend, and TotalUnits\n",
        "\n",
        "df_s.columns = ['CustomerID', 'TotalSpend', 'TotalUnits']"
      ],
      "execution_count": 13,
      "outputs": []
    },
    {
      "cell_type": "code",
      "metadata": {
        "id": "mW2xFRfCMabu",
        "colab": {
          "base_uri": "https://localhost:8080/",
          "height": 202
        },
        "outputId": "70143f66-8533-452b-b728-9835579f7721"
      },
      "source": [
        "# take a look at the first 5 rows of resulting dataframe, make sure contents are what you expect\n",
        "\n",
        "df_s.head()"
      ],
      "execution_count": 14,
      "outputs": [
        {
          "output_type": "execute_result",
          "data": {
            "text/html": [
              "<div>\n",
              "<style scoped>\n",
              "    .dataframe tbody tr th:only-of-type {\n",
              "        vertical-align: middle;\n",
              "    }\n",
              "\n",
              "    .dataframe tbody tr th {\n",
              "        vertical-align: top;\n",
              "    }\n",
              "\n",
              "    .dataframe thead th {\n",
              "        text-align: right;\n",
              "    }\n",
              "</style>\n",
              "<table border=\"1\" class=\"dataframe\">\n",
              "  <thead>\n",
              "    <tr style=\"text-align: right;\">\n",
              "      <th></th>\n",
              "      <th>CustomerID</th>\n",
              "      <th>TotalSpend</th>\n",
              "      <th>TotalUnits</th>\n",
              "    </tr>\n",
              "  </thead>\n",
              "  <tbody>\n",
              "    <tr>\n",
              "      <th>0</th>\n",
              "      <td>12346.0</td>\n",
              "      <td>1</td>\n",
              "      <td>1</td>\n",
              "    </tr>\n",
              "    <tr>\n",
              "      <th>1</th>\n",
              "      <td>12347.0</td>\n",
              "      <td>56</td>\n",
              "      <td>15</td>\n",
              "    </tr>\n",
              "    <tr>\n",
              "      <th>2</th>\n",
              "      <td>12348.0</td>\n",
              "      <td>14</td>\n",
              "      <td>8</td>\n",
              "    </tr>\n",
              "    <tr>\n",
              "      <th>3</th>\n",
              "      <td>12349.0</td>\n",
              "      <td>41</td>\n",
              "      <td>12</td>\n",
              "    </tr>\n",
              "    <tr>\n",
              "      <th>4</th>\n",
              "      <td>12350.0</td>\n",
              "      <td>8</td>\n",
              "      <td>4</td>\n",
              "    </tr>\n",
              "  </tbody>\n",
              "</table>\n",
              "</div>"
            ],
            "text/plain": [
              "   CustomerID  TotalSpend  TotalUnits\n",
              "0     12346.0           1           1\n",
              "1     12347.0          56          15\n",
              "2     12348.0          14           8\n",
              "3     12349.0          41          12\n",
              "4     12350.0           8           4"
            ]
          },
          "metadata": {},
          "execution_count": 14
        }
      ]
    },
    {
      "cell_type": "markdown",
      "metadata": {
        "id": "8LWkk_qSOrs8"
      },
      "source": [
        "\n",
        "## Compute price of average SKU purchased\n",
        "\n",
        "Compute and create the `AveragePrice` column using the `df_s` dataframe's `TotalUnits` and `TotalSpend`.\n"
      ]
    },
    {
      "cell_type": "code",
      "metadata": {
        "id": "KJ2CXoeoPGaA"
      },
      "source": [
        "# create average price column in df_s\n",
        "\n",
        "AveragePrice = pd.DataFrame({\"AveragePrice\": (df_s.TotalSpend)/ (df_s.TotalUnits)})\n",
        "\n",
        "df_s = df_s.join(AveragePrice, how='left')\n"
      ],
      "execution_count": 15,
      "outputs": []
    },
    {
      "cell_type": "code",
      "metadata": {
        "id": "d8cqACS8Osz7",
        "colab": {
          "base_uri": "https://localhost:8080/",
          "height": 202
        },
        "outputId": "c3d737d6-079e-4ba3-a86f-585f8bec8278"
      },
      "source": [
        "# preview df_s to make sure average price is as expected\n",
        "\n",
        "df_s.head()"
      ],
      "execution_count": 16,
      "outputs": [
        {
          "output_type": "execute_result",
          "data": {
            "text/html": [
              "<div>\n",
              "<style scoped>\n",
              "    .dataframe tbody tr th:only-of-type {\n",
              "        vertical-align: middle;\n",
              "    }\n",
              "\n",
              "    .dataframe tbody tr th {\n",
              "        vertical-align: top;\n",
              "    }\n",
              "\n",
              "    .dataframe thead th {\n",
              "        text-align: right;\n",
              "    }\n",
              "</style>\n",
              "<table border=\"1\" class=\"dataframe\">\n",
              "  <thead>\n",
              "    <tr style=\"text-align: right;\">\n",
              "      <th></th>\n",
              "      <th>CustomerID</th>\n",
              "      <th>TotalSpend</th>\n",
              "      <th>TotalUnits</th>\n",
              "      <th>AveragePrice</th>\n",
              "    </tr>\n",
              "  </thead>\n",
              "  <tbody>\n",
              "    <tr>\n",
              "      <th>0</th>\n",
              "      <td>12346.0</td>\n",
              "      <td>1</td>\n",
              "      <td>1</td>\n",
              "      <td>1.000000</td>\n",
              "    </tr>\n",
              "    <tr>\n",
              "      <th>1</th>\n",
              "      <td>12347.0</td>\n",
              "      <td>56</td>\n",
              "      <td>15</td>\n",
              "      <td>3.733333</td>\n",
              "    </tr>\n",
              "    <tr>\n",
              "      <th>2</th>\n",
              "      <td>12348.0</td>\n",
              "      <td>14</td>\n",
              "      <td>8</td>\n",
              "      <td>1.750000</td>\n",
              "    </tr>\n",
              "    <tr>\n",
              "      <th>3</th>\n",
              "      <td>12349.0</td>\n",
              "      <td>41</td>\n",
              "      <td>12</td>\n",
              "      <td>3.416667</td>\n",
              "    </tr>\n",
              "    <tr>\n",
              "      <th>4</th>\n",
              "      <td>12350.0</td>\n",
              "      <td>8</td>\n",
              "      <td>4</td>\n",
              "      <td>2.000000</td>\n",
              "    </tr>\n",
              "  </tbody>\n",
              "</table>\n",
              "</div>"
            ],
            "text/plain": [
              "   CustomerID  TotalSpend  TotalUnits  AveragePrice\n",
              "0     12346.0           1           1      1.000000\n",
              "1     12347.0          56          15      3.733333\n",
              "2     12348.0          14           8      1.750000\n",
              "3     12349.0          41          12      3.416667\n",
              "4     12350.0           8           4      2.000000"
            ]
          },
          "metadata": {},
          "execution_count": 16
        }
      ]
    },
    {
      "cell_type": "markdown",
      "metadata": {
        "id": "25EWNNZV9Wxj"
      },
      "source": [
        "\n",
        "## Merge `df_u` and `df_s`, call new dataframe df_c (c for \"consumer\")\n",
        "\n",
        "Using the variables in `df_c`, compute the following additional column:\n",
        "1. Spend per transaction (call it \"SpendPerTrans\")\n",
        "\n",
        "In total, you should have `df_c` with columns `['CustomerID', 'NTrans', 'NProducts', 'TotalSpend', 'AveragePrice', 'SpendPerTrans']`\n"
      ]
    },
    {
      "cell_type": "markdown",
      "metadata": {
        "id": "T3ar9ARRWWC6"
      },
      "source": [
        "**Answer this**\n",
        "\n",
        "On what column should you merge `df_s` and `df_u`?\n",
        "\n",
        "* Answer: **CustomerID**"
      ]
    },
    {
      "cell_type": "code",
      "metadata": {
        "id": "XsPDlZAsQMSf"
      },
      "source": [
        "# do the merge (review notes from module 3 on merges if necessary)\n",
        "# use an outer merge, call resulting dataframe, df_c\n",
        "\n",
        "df_c = df_s.merge(df_u)"
      ],
      "execution_count": 17,
      "outputs": []
    },
    {
      "cell_type": "code",
      "metadata": {
        "id": "EDIpKkWeHCFd"
      },
      "source": [
        "# create the column 'SpendPerTrans'\n",
        "\n",
        "SpendPerTrans = pd.DataFrame({\"SpendPerTrans\": ((df_c.TotalSpend)/ (df_c.NTrans))})\n",
        "\n",
        "df_c = df_c.join(SpendPerTrans, how='left')"
      ],
      "execution_count": 18,
      "outputs": []
    },
    {
      "cell_type": "code",
      "metadata": {
        "id": "9Mm2LDzNYj_S",
        "colab": {
          "base_uri": "https://localhost:8080/",
          "height": 202
        },
        "outputId": "c70b1244-4f13-410f-f3d4-af04683a03ce"
      },
      "source": [
        "# preview df_c to make sure it looks as expected\n",
        "\n",
        "df_c.head()"
      ],
      "execution_count": 19,
      "outputs": [
        {
          "output_type": "execute_result",
          "data": {
            "text/html": [
              "<div>\n",
              "<style scoped>\n",
              "    .dataframe tbody tr th:only-of-type {\n",
              "        vertical-align: middle;\n",
              "    }\n",
              "\n",
              "    .dataframe tbody tr th {\n",
              "        vertical-align: top;\n",
              "    }\n",
              "\n",
              "    .dataframe thead th {\n",
              "        text-align: right;\n",
              "    }\n",
              "</style>\n",
              "<table border=\"1\" class=\"dataframe\">\n",
              "  <thead>\n",
              "    <tr style=\"text-align: right;\">\n",
              "      <th></th>\n",
              "      <th>CustomerID</th>\n",
              "      <th>TotalSpend</th>\n",
              "      <th>TotalUnits</th>\n",
              "      <th>AveragePrice</th>\n",
              "      <th>NProducts</th>\n",
              "      <th>NTrans</th>\n",
              "      <th>SpendPerTrans</th>\n",
              "    </tr>\n",
              "  </thead>\n",
              "  <tbody>\n",
              "    <tr>\n",
              "      <th>0</th>\n",
              "      <td>12346.0</td>\n",
              "      <td>1</td>\n",
              "      <td>1</td>\n",
              "      <td>1.000000</td>\n",
              "      <td>1</td>\n",
              "      <td>1</td>\n",
              "      <td>1.0</td>\n",
              "    </tr>\n",
              "    <tr>\n",
              "      <th>1</th>\n",
              "      <td>12347.0</td>\n",
              "      <td>56</td>\n",
              "      <td>15</td>\n",
              "      <td>3.733333</td>\n",
              "      <td>103</td>\n",
              "      <td>7</td>\n",
              "      <td>8.0</td>\n",
              "    </tr>\n",
              "    <tr>\n",
              "      <th>2</th>\n",
              "      <td>12348.0</td>\n",
              "      <td>14</td>\n",
              "      <td>8</td>\n",
              "      <td>1.750000</td>\n",
              "      <td>21</td>\n",
              "      <td>4</td>\n",
              "      <td>3.5</td>\n",
              "    </tr>\n",
              "    <tr>\n",
              "      <th>3</th>\n",
              "      <td>12349.0</td>\n",
              "      <td>41</td>\n",
              "      <td>12</td>\n",
              "      <td>3.416667</td>\n",
              "      <td>72</td>\n",
              "      <td>1</td>\n",
              "      <td>41.0</td>\n",
              "    </tr>\n",
              "    <tr>\n",
              "      <th>4</th>\n",
              "      <td>12350.0</td>\n",
              "      <td>8</td>\n",
              "      <td>4</td>\n",
              "      <td>2.000000</td>\n",
              "      <td>16</td>\n",
              "      <td>1</td>\n",
              "      <td>8.0</td>\n",
              "    </tr>\n",
              "  </tbody>\n",
              "</table>\n",
              "</div>"
            ],
            "text/plain": [
              "   CustomerID  TotalSpend  TotalUnits  ...  NProducts  NTrans  SpendPerTrans\n",
              "0     12346.0           1           1  ...          1       1            1.0\n",
              "1     12347.0          56          15  ...        103       7            8.0\n",
              "2     12348.0          14           8  ...         21       4            3.5\n",
              "3     12349.0          41          12  ...         72       1           41.0\n",
              "4     12350.0           8           4  ...         16       1            8.0\n",
              "\n",
              "[5 rows x 7 columns]"
            ]
          },
          "metadata": {},
          "execution_count": 19
        }
      ]
    },
    {
      "cell_type": "markdown",
      "metadata": {
        "id": "RRX-X9bugMkL"
      },
      "source": [
        "## Log transformation\n",
        "\n",
        "1. Plot the histogram of all the variables of df_c other than CustomerID\n",
        "1. Replace each of these variables with their respective log transformations\n",
        "1. Plot the histograms again, what's different?"
      ]
    },
    {
      "cell_type": "code",
      "metadata": {
        "id": "oJ_R1ic9eGbt",
        "colab": {
          "base_uri": "https://localhost:8080/",
          "height": 312
        },
        "outputId": "d9637d46-20b4-4558-f2d9-c0cfb8aa9937"
      },
      "source": [
        "# plot the histogram of NTrans\n",
        "\n",
        "n, bins, patches = plt.hist(x=df_c.NTrans, bins='auto', color='#0504aa',\n",
        "                            alpha=0.7, rwidth=0.85)\n",
        "plt.grid(axis='y', alpha=0.75)\n",
        "plt.xlabel('Value')\n",
        "plt.ylabel('Frequency')\n",
        "plt.title('histogram of NTrans')\n",
        "maxfreq = n.max()\n",
        "# Set a clean upper y-axis limit.\n",
        "plt.ylim(ymax=np.ceil(maxfreq / 10) * 10 if maxfreq % 10 else maxfreq + 10)\n"
      ],
      "execution_count": 20,
      "outputs": [
        {
          "output_type": "execute_result",
          "data": {
            "text/plain": [
              "(0.0, 1510.0)"
            ]
          },
          "metadata": {},
          "execution_count": 20
        },
        {
          "output_type": "display_data",
          "data": {
            "image/png": "[encoded data removed]",
            "text/plain": [
              "<Figure size 432x288 with 1 Axes>"
            ]
          },
          "metadata": {
            "needs_background": "light"
          }
        }
      ]
    },
    {
      "cell_type": "code",
      "metadata": {
        "id": "M4LAnzFPePuP",
        "colab": {
          "base_uri": "https://localhost:8080/",
          "height": 312
        },
        "outputId": "3ada9caf-66e9-47ad-ed8f-5a7e79dc555d"
      },
      "source": [
        "# plot the histogram of NProducts\n",
        "\n",
        "n, bins, patches = plt.hist(x=df_c.NProducts, bins='auto', color='#0504aa',\n",
        "                            alpha=0.7, rwidth=0.85)\n",
        "plt.grid(axis='y', alpha=0.75)\n",
        "plt.xlabel('Value')\n",
        "plt.ylabel('Frequency')\n",
        "plt.title('histogram of NProducts')\n",
        "maxfreq = n.max()\n",
        "# Set a clean upper y-axis limit.\n",
        "plt.ylim(ymax=np.ceil(maxfreq / 10) * 10 if maxfreq % 10 else maxfreq + 10)\n"
      ],
      "execution_count": 21,
      "outputs": [
        {
          "output_type": "execute_result",
          "data": {
            "text/plain": [
              "(0.0, 560.0)"
            ]
          },
          "metadata": {},
          "execution_count": 21
        },
        {
          "output_type": "display_data",
          "data": {
            "image/png": "[encoded data removed]",
            "text/plain": [
              "<Figure size 432x288 with 1 Axes>"
            ]
          },
          "metadata": {
            "needs_background": "light"
          }
        }
      ]
    },
    {
      "cell_type": "code",
      "metadata": {
        "id": "xP_mjM8xeTTf",
        "colab": {
          "base_uri": "https://localhost:8080/",
          "height": 312
        },
        "outputId": "f189cd81-213f-4111-cc45-c4b1956f1198"
      },
      "source": [
        "# plot the histogram of TotalSpend\n",
        "\n",
        "n, bins, patches = plt.hist(x=df_c.TotalSpend, bins='auto', color='#0504aa',\n",
        "                            alpha=0.7, rwidth=0.85)\n",
        "plt.grid(axis='y', alpha=0.75)\n",
        "plt.xlabel('Value')\n",
        "plt.ylabel('Frequency')\n",
        "plt.title('histogram of TotalSpend')\n",
        "maxfreq = n.max()\n",
        "# Set a clean upper y-axis limit.\n",
        "plt.ylim(ymax=np.ceil(maxfreq / 10) * 10 if maxfreq % 10 else maxfreq + 10)"
      ],
      "execution_count": 22,
      "outputs": [
        {
          "output_type": "execute_result",
          "data": {
            "text/plain": [
              "(0.0, 470.0)"
            ]
          },
          "metadata": {},
          "execution_count": 22
        },
        {
          "output_type": "display_data",
          "data": {
            "image/png": "[encoded data removed]",
            "text/plain": [
              "<Figure size 432x288 with 1 Axes>"
            ]
          },
          "metadata": {
            "needs_background": "light"
          }
        }
      ]
    },
    {
      "cell_type": "code",
      "metadata": {
        "id": "CJ4esbsjeYrb",
        "colab": {
          "base_uri": "https://localhost:8080/",
          "height": 312
        },
        "outputId": "a4b25666-46ae-45d0-d677-5eda8d3cdd06"
      },
      "source": [
        "# plot the histogram of TotalUnits\n",
        "\n",
        "n, bins, patches = plt.hist(x=df_c.TotalUnits, bins='auto', color='#0504aa',\n",
        "                            alpha=0.7, rwidth=0.85)\n",
        "plt.grid(axis='y', alpha=0.75)\n",
        "plt.xlabel('Value')\n",
        "plt.ylabel('Frequency')\n",
        "plt.title('histogram of TotalUnits')\n",
        "maxfreq = n.max()\n",
        "# Set a clean upper y-axis limit.\n",
        "plt.ylim(ymax=np.ceil(maxfreq / 10) * 10 if maxfreq % 10 else maxfreq + 10)"
      ],
      "execution_count": 23,
      "outputs": [
        {
          "output_type": "execute_result",
          "data": {
            "text/plain": [
              "(0.0, 390.0)"
            ]
          },
          "metadata": {},
          "execution_count": 23
        },
        {
          "output_type": "display_data",
          "data": {
            "image/png": "[encoded data removed]",
            "text/plain": [
              "<Figure size 432x288 with 1 Axes>"
            ]
          },
          "metadata": {
            "needs_background": "light"
          }
        }
      ]
    },
    {
      "cell_type": "code",
      "metadata": {
        "id": "IoIOTd6reJNp",
        "colab": {
          "base_uri": "https://localhost:8080/",
          "height": 312
        },
        "outputId": "ffd28651-53d0-4de6-a89e-cc7c24091cd3"
      },
      "source": [
        "# plot the histogram of AveragePrice\n",
        "\n",
        "n, bins, patches = plt.hist(x=df_c.AveragePrice, bins='auto', color='#0504aa',\n",
        "                            alpha=0.7, rwidth=0.85)\n",
        "plt.grid(axis='y', alpha=0.75)\n",
        "plt.xlabel('Value')\n",
        "plt.ylabel('Frequency')\n",
        "plt.title('histogram of AveragePrice')\n",
        "maxfreq = n.max()\n",
        "# Set a clean upper y-axis limit.\n",
        "plt.ylim(ymax=np.ceil(maxfreq / 10) * 10 if maxfreq % 10 else maxfreq + 10)"
      ],
      "execution_count": 24,
      "outputs": [
        {
          "output_type": "execute_result",
          "data": {
            "text/plain": [
              "(0.0, 370.0)"
            ]
          },
          "metadata": {},
          "execution_count": 24
        },
        {
          "output_type": "display_data",
          "data": {
            "image/png": "[encoded data removed]",
            "text/plain": [
              "<Figure size 432x288 with 1 Axes>"
            ]
          },
          "metadata": {
            "needs_background": "light"
          }
        }
      ]
    },
    {
      "cell_type": "code",
      "metadata": {
        "id": "X0NxCocCH3OO",
        "colab": {
          "base_uri": "https://localhost:8080/",
          "height": 312
        },
        "outputId": "a56acd66-ce4b-4fd1-b729-2766eb782876"
      },
      "source": [
        "# plot the histogram of SpendPerTrans\n",
        "\n",
        "n, bins, patches = plt.hist(x=df_c.SpendPerTrans, bins='auto', color='#0504aa',\n",
        "                            alpha=0.7, rwidth=0.85)\n",
        "plt.grid(axis='y', alpha=0.75)\n",
        "plt.xlabel('Value')\n",
        "plt.ylabel('Frequency')\n",
        "plt.title('histogram of SpendPerTrans')\n",
        "maxfreq = n.max()\n",
        "# Set a clean upper y-axis limit.\n",
        "plt.ylim(ymax=np.ceil(maxfreq / 10) * 10 if maxfreq % 10 else maxfreq + 10)"
      ],
      "execution_count": 25,
      "outputs": [
        {
          "output_type": "execute_result",
          "data": {
            "text/plain": [
              "(0.0, 460.0)"
            ]
          },
          "metadata": {},
          "execution_count": 25
        },
        {
          "output_type": "display_data",
          "data": {
            "image/png": "[encoded data removed]",
            "text/plain": [
              "<Figure size 432x288 with 1 Axes>"
            ]
          },
          "metadata": {
            "needs_background": "light"
          }
        }
      ]
    },
    {
      "cell_type": "code",
      "metadata": {
        "id": "Y4952ErQe1Mb",
        "colab": {
          "base_uri": "https://localhost:8080/",
          "height": 202
        },
        "outputId": "48059de0-e1bb-4427-e0b3-c4d1bee7f088"
      },
      "source": [
        "# Write a loop through all variables of df_c other than CustomerID \n",
        "# to replace each column with its log.\n",
        "# You can start the loop using: for c in df_c.columns[1:]:\n",
        "# (since df_c.columns[0] is the CustomerID column).\n",
        "# For some column, c, you can replace the column with its log using:\n",
        "# dataframe[c] = np.log(dataframe[c]) \n",
        "# (of course, use the right variable name for your dataframe)\n",
        "\n",
        "for i in range(1,len(df_c.columns)):\n",
        "    df_c[df_c.columns[i]] = np.log(df_c[df_c.columns[i]])\n",
        "\n",
        "df_c.head()"
      ],
      "execution_count": 26,
      "outputs": [
        {
          "output_type": "execute_result",
          "data": {
            "text/html": [
              "<div>\n",
              "<style scoped>\n",
              "    .dataframe tbody tr th:only-of-type {\n",
              "        vertical-align: middle;\n",
              "    }\n",
              "\n",
              "    .dataframe tbody tr th {\n",
              "        vertical-align: top;\n",
              "    }\n",
              "\n",
              "    .dataframe thead th {\n",
              "        text-align: right;\n",
              "    }\n",
              "</style>\n",
              "<table border=\"1\" class=\"dataframe\">\n",
              "  <thead>\n",
              "    <tr style=\"text-align: right;\">\n",
              "      <th></th>\n",
              "      <th>CustomerID</th>\n",
              "      <th>TotalSpend</th>\n",
              "      <th>TotalUnits</th>\n",
              "      <th>AveragePrice</th>\n",
              "      <th>NProducts</th>\n",
              "      <th>NTrans</th>\n",
              "      <th>SpendPerTrans</th>\n",
              "    </tr>\n",
              "  </thead>\n",
              "  <tbody>\n",
              "    <tr>\n",
              "      <th>0</th>\n",
              "      <td>12346.0</td>\n",
              "      <td>0.000000</td>\n",
              "      <td>0.000000</td>\n",
              "      <td>0.000000</td>\n",
              "      <td>0.000000</td>\n",
              "      <td>0.000000</td>\n",
              "      <td>0.000000</td>\n",
              "    </tr>\n",
              "    <tr>\n",
              "      <th>1</th>\n",
              "      <td>12347.0</td>\n",
              "      <td>4.025352</td>\n",
              "      <td>2.708050</td>\n",
              "      <td>1.317301</td>\n",
              "      <td>4.634729</td>\n",
              "      <td>1.945910</td>\n",
              "      <td>2.079442</td>\n",
              "    </tr>\n",
              "    <tr>\n",
              "      <th>2</th>\n",
              "      <td>12348.0</td>\n",
              "      <td>2.639057</td>\n",
              "      <td>2.079442</td>\n",
              "      <td>0.559616</td>\n",
              "      <td>3.044522</td>\n",
              "      <td>1.386294</td>\n",
              "      <td>1.252763</td>\n",
              "    </tr>\n",
              "    <tr>\n",
              "      <th>3</th>\n",
              "      <td>12349.0</td>\n",
              "      <td>3.713572</td>\n",
              "      <td>2.484907</td>\n",
              "      <td>1.228665</td>\n",
              "      <td>4.276666</td>\n",
              "      <td>0.000000</td>\n",
              "      <td>3.713572</td>\n",
              "    </tr>\n",
              "    <tr>\n",
              "      <th>4</th>\n",
              "      <td>12350.0</td>\n",
              "      <td>2.079442</td>\n",
              "      <td>1.386294</td>\n",
              "      <td>0.693147</td>\n",
              "      <td>2.772589</td>\n",
              "      <td>0.000000</td>\n",
              "      <td>2.079442</td>\n",
              "    </tr>\n",
              "  </tbody>\n",
              "</table>\n",
              "</div>"
            ],
            "text/plain": [
              "   CustomerID  TotalSpend  TotalUnits  ...  NProducts    NTrans  SpendPerTrans\n",
              "0     12346.0    0.000000    0.000000  ...   0.000000  0.000000       0.000000\n",
              "1     12347.0    4.025352    2.708050  ...   4.634729  1.945910       2.079442\n",
              "2     12348.0    2.639057    2.079442  ...   3.044522  1.386294       1.252763\n",
              "3     12349.0    3.713572    2.484907  ...   4.276666  0.000000       3.713572\n",
              "4     12350.0    2.079442    1.386294  ...   2.772589  0.000000       2.079442\n",
              "\n",
              "[5 rows x 7 columns]"
            ]
          },
          "metadata": {},
          "execution_count": 26
        }
      ]
    },
    {
      "cell_type": "code",
      "metadata": {
        "id": "5zFUPsE3fbeF",
        "colab": {
          "base_uri": "https://localhost:8080/",
          "height": 312
        },
        "outputId": "5777c6e6-3d75-4914-f4fa-6f228a653915"
      },
      "source": [
        "# plot the histogram of NTrans (after taking the log in cell above)\n",
        "\n",
        "n, bins, patches = plt.hist(x=df_c.NTrans, bins='auto', color='#0504aa',\n",
        "                            alpha=0.7, rwidth=0.85)\n",
        "plt.grid(axis='y', alpha=0.75)\n",
        "plt.xlabel('Value')\n",
        "plt.ylabel('Frequency')\n",
        "plt.title('histogram of Log Transformed NTrans')\n",
        "maxfreq = n.max()\n",
        "# Set a clean upper y-axis limit.\n",
        "plt.ylim(ymax=np.ceil(maxfreq / 10) * 10 if maxfreq % 10 else maxfreq + 10)"
      ],
      "execution_count": 27,
      "outputs": [
        {
          "output_type": "execute_result",
          "data": {
            "text/plain": [
              "(0.0, 1510.0)"
            ]
          },
          "metadata": {},
          "execution_count": 27
        },
        {
          "output_type": "display_data",
          "data": {
            "image/png": "[encoded data removed]",
            "text/plain": [
              "<Figure size 432x288 with 1 Axes>"
            ]
          },
          "metadata": {
            "needs_background": "light"
          }
        }
      ]
    },
    {
      "cell_type": "code",
      "metadata": {
        "id": "IYmRVNPIf0DC",
        "colab": {
          "base_uri": "https://localhost:8080/",
          "height": 312
        },
        "outputId": "4577cb82-2eea-4510-fabf-7319bd252977"
      },
      "source": [
        "# plot the histogram of NProducts \n",
        "\n",
        "n, bins, patches = plt.hist(x=df_c.NProducts, bins='auto', color='#0504aa',\n",
        "                            alpha=0.7, rwidth=0.85)\n",
        "plt.grid(axis='y', alpha=0.75)\n",
        "plt.xlabel('Value')\n",
        "plt.ylabel('Frequency')\n",
        "plt.title('histogram of Log Transformed NProducts')\n",
        "maxfreq = n.max()\n",
        "# Set a clean upper y-axis limit.\n",
        "plt.ylim(ymax=np.ceil(maxfreq / 10) * 10 if maxfreq % 10 else maxfreq + 10)"
      ],
      "execution_count": 28,
      "outputs": [
        {
          "output_type": "execute_result",
          "data": {
            "text/plain": [
              "(0.0, 310.0)"
            ]
          },
          "metadata": {},
          "execution_count": 28
        },
        {
          "output_type": "display_data",
          "data": {
            "image/png": "[encoded data removed]",
            "text/plain": [
              "<Figure size 432x288 with 1 Axes>"
            ]
          },
          "metadata": {
            "needs_background": "light"
          }
        }
      ]
    },
    {
      "cell_type": "code",
      "metadata": {
        "id": "tE75Sq7if3Np",
        "colab": {
          "base_uri": "https://localhost:8080/",
          "height": 312
        },
        "outputId": "5a32b93e-60d4-407f-87ed-5265513002aa"
      },
      "source": [
        "# plot the histogram of TotalSpend \n",
        "\n",
        "n, bins, patches = plt.hist(x=df_c.TotalSpend, bins='auto', color='#0504aa',\n",
        "                            alpha=0.7, rwidth=0.85)\n",
        "plt.grid(axis='y', alpha=0.75)\n",
        "plt.xlabel('Value')\n",
        "plt.ylabel('Frequency')\n",
        "plt.title('histogram of Log Transformed TotalSpend')\n",
        "maxfreq = n.max()\n",
        "# Set a clean upper y-axis limit.\n",
        "plt.ylim(ymax=np.ceil(maxfreq / 10) * 10 if maxfreq % 10 else maxfreq + 10)"
      ],
      "execution_count": 29,
      "outputs": [
        {
          "output_type": "execute_result",
          "data": {
            "text/plain": [
              "(0.0, 350.0)"
            ]
          },
          "metadata": {},
          "execution_count": 29
        },
        {
          "output_type": "display_data",
          "data": {
            "image/png": "[encoded data removed]",
            "text/plain": [
              "<Figure size 432x288 with 1 Axes>"
            ]
          },
          "metadata": {
            "needs_background": "light"
          }
        }
      ]
    },
    {
      "cell_type": "code",
      "metadata": {
        "id": "482290ggf7q5",
        "colab": {
          "base_uri": "https://localhost:8080/",
          "height": 312
        },
        "outputId": "b52fd1a0-7cd1-4262-a8a9-0a768500f711"
      },
      "source": [
        "# plot the histogram of TotalUnits\n",
        "\n",
        "n, bins, patches = plt.hist(x=df_c.TotalUnits, bins='auto', color='#0504aa',\n",
        "                            alpha=0.7, rwidth=0.85)\n",
        "plt.grid(axis='y', alpha=0.75)\n",
        "plt.xlabel('Value')\n",
        "plt.ylabel('Frequency')\n",
        "plt.title('histogram of Log Transformed TotalUnits')\n",
        "maxfreq = n.max()\n",
        "# Set a clean upper y-axis limit.\n",
        "plt.ylim(ymax=np.ceil(maxfreq / 10) * 10 if maxfreq % 10 else maxfreq + 10)"
      ],
      "execution_count": 30,
      "outputs": [
        {
          "output_type": "execute_result",
          "data": {
            "text/plain": [
              "(0.0, 390.0)"
            ]
          },
          "metadata": {},
          "execution_count": 30
        },
        {
          "output_type": "display_data",
          "data": {
            "image/png": "[encoded data removed]",
            "text/plain": [
              "<Figure size 432x288 with 1 Axes>"
            ]
          },
          "metadata": {
            "needs_background": "light"
          }
        }
      ]
    },
    {
      "cell_type": "code",
      "metadata": {
        "id": "UOarQXL4gFv6",
        "colab": {
          "base_uri": "https://localhost:8080/",
          "height": 312
        },
        "outputId": "d753f254-3258-4815-802d-22cf5cb10cc9"
      },
      "source": [
        "# plot the histogram of AveragePrice \n",
        "\n",
        "n, bins, patches = plt.hist(x=df_c.AveragePrice, bins='auto', color='#0504aa',\n",
        "                            alpha=0.7, rwidth=0.85)\n",
        "plt.grid(axis='y', alpha=0.75)\n",
        "plt.xlabel('Value')\n",
        "plt.ylabel('Frequency')\n",
        "plt.title('histogram of Log Transformed AveragePrice')\n",
        "maxfreq = n.max()\n",
        "# Set a clean upper y-axis limit.\n",
        "plt.ylim(ymax=np.ceil(maxfreq / 10) * 10 if maxfreq % 10 else maxfreq + 10)"
      ],
      "execution_count": 31,
      "outputs": [
        {
          "output_type": "execute_result",
          "data": {
            "text/plain": [
              "(0.0, 330.0)"
            ]
          },
          "metadata": {},
          "execution_count": 31
        },
        {
          "output_type": "display_data",
          "data": {
            "image/png": "[encoded data removed]",
            "text/plain": [
              "<Figure size 432x288 with 1 Axes>"
            ]
          },
          "metadata": {
            "needs_background": "light"
          }
        }
      ]
    },
    {
      "cell_type": "code",
      "metadata": {
        "id": "OxlrIXpwH7qn",
        "colab": {
          "base_uri": "https://localhost:8080/",
          "height": 312
        },
        "outputId": "9e41ba37-3b16-46e9-cd34-47f8001d97fc"
      },
      "source": [
        "# plot the histogram of SpendPerTrans \n",
        "\n",
        "n, bins, patches = plt.hist(x=df_c.SpendPerTrans, bins='auto', color='#0504aa',\n",
        "                            alpha=0.7, rwidth=0.85)\n",
        "plt.grid(axis='y', alpha=0.75)\n",
        "plt.xlabel('Value')\n",
        "plt.ylabel('Frequency')\n",
        "plt.title('histogram of Log Transformed SpendPerTrans')\n",
        "maxfreq = n.max()\n",
        "# Set a clean upper y-axis limit.\n",
        "plt.ylim(ymax=np.ceil(maxfreq / 10) * 10 if maxfreq % 10 else maxfreq + 10)"
      ],
      "execution_count": 32,
      "outputs": [
        {
          "output_type": "execute_result",
          "data": {
            "text/plain": [
              "(0.0, 340.0)"
            ]
          },
          "metadata": {},
          "execution_count": 32
        },
        {
          "output_type": "display_data",
          "data": {
            "image/png": "[encoded data removed]",
            "text/plain": [
              "<Figure size 432x288 with 1 Axes>"
            ]
          },
          "metadata": {
            "needs_background": "light"
          }
        }
      ]
    },
    {
      "cell_type": "markdown",
      "metadata": {
        "id": "dDZw09uBeguU"
      },
      "source": [
        "**Answer this**\n",
        "\n",
        "Why might you want to transform these variables by taking logs of each of these variables? (Notice the difference after taking the log transformation)\n",
        "\n",
        "* Answer: **To reduce or remove the skewness in the data. Also to make the data as normal as possible.**"
      ]
    },
    {
      "cell_type": "markdown",
      "metadata": {
        "id": "ZM6npcrmYLi9"
      },
      "source": [
        "# Create standaradized version of df_c\n",
        "\n",
        "1. Create `df_c_std` that has all the columns of `df_c` except `CustomerID`.\n",
        "1. Write a loop through all the columns of `df_c_std` to standardize each column (compute the z-score by subtracting mean and dividing by standard deviation).\n"
      ]
    },
    {
      "cell_type": "code",
      "metadata": {
        "id": "HiRlII9OYQgE",
        "colab": {
          "base_uri": "https://localhost:8080/",
          "height": 202
        },
        "outputId": "cf9b0d3d-d11b-4c44-fc47-eae1e97cc120"
      },
      "source": [
        "# First, create df_c_std by selecting all columns from df_c except CustomerID\n",
        "\n",
        "df_c_std = df_c[df_c.columns[df_c.columns != \"CustomerID\"]]\n",
        "df_c_std.head()"
      ],
      "execution_count": 33,
      "outputs": [
        {
          "output_type": "execute_result",
          "data": {
            "text/html": [
              "<div>\n",
              "<style scoped>\n",
              "    .dataframe tbody tr th:only-of-type {\n",
              "        vertical-align: middle;\n",
              "    }\n",
              "\n",
              "    .dataframe tbody tr th {\n",
              "        vertical-align: top;\n",
              "    }\n",
              "\n",
              "    .dataframe thead th {\n",
              "        text-align: right;\n",
              "    }\n",
              "</style>\n",
              "<table border=\"1\" class=\"dataframe\">\n",
              "  <thead>\n",
              "    <tr style=\"text-align: right;\">\n",
              "      <th></th>\n",
              "      <th>TotalSpend</th>\n",
              "      <th>TotalUnits</th>\n",
              "      <th>AveragePrice</th>\n",
              "      <th>NProducts</th>\n",
              "      <th>NTrans</th>\n",
              "      <th>SpendPerTrans</th>\n",
              "    </tr>\n",
              "  </thead>\n",
              "  <tbody>\n",
              "    <tr>\n",
              "      <th>0</th>\n",
              "      <td>0.000000</td>\n",
              "      <td>0.000000</td>\n",
              "      <td>0.000000</td>\n",
              "      <td>0.000000</td>\n",
              "      <td>0.000000</td>\n",
              "      <td>0.000000</td>\n",
              "    </tr>\n",
              "    <tr>\n",
              "      <th>1</th>\n",
              "      <td>4.025352</td>\n",
              "      <td>2.708050</td>\n",
              "      <td>1.317301</td>\n",
              "      <td>4.634729</td>\n",
              "      <td>1.945910</td>\n",
              "      <td>2.079442</td>\n",
              "    </tr>\n",
              "    <tr>\n",
              "      <th>2</th>\n",
              "      <td>2.639057</td>\n",
              "      <td>2.079442</td>\n",
              "      <td>0.559616</td>\n",
              "      <td>3.044522</td>\n",
              "      <td>1.386294</td>\n",
              "      <td>1.252763</td>\n",
              "    </tr>\n",
              "    <tr>\n",
              "      <th>3</th>\n",
              "      <td>3.713572</td>\n",
              "      <td>2.484907</td>\n",
              "      <td>1.228665</td>\n",
              "      <td>4.276666</td>\n",
              "      <td>0.000000</td>\n",
              "      <td>3.713572</td>\n",
              "    </tr>\n",
              "    <tr>\n",
              "      <th>4</th>\n",
              "      <td>2.079442</td>\n",
              "      <td>1.386294</td>\n",
              "      <td>0.693147</td>\n",
              "      <td>2.772589</td>\n",
              "      <td>0.000000</td>\n",
              "      <td>2.079442</td>\n",
              "    </tr>\n",
              "  </tbody>\n",
              "</table>\n",
              "</div>"
            ],
            "text/plain": [
              "   TotalSpend  TotalUnits  AveragePrice  NProducts    NTrans  SpendPerTrans\n",
              "0    0.000000    0.000000      0.000000   0.000000  0.000000       0.000000\n",
              "1    4.025352    2.708050      1.317301   4.634729  1.945910       2.079442\n",
              "2    2.639057    2.079442      0.559616   3.044522  1.386294       1.252763\n",
              "3    3.713572    2.484907      1.228665   4.276666  0.000000       3.713572\n",
              "4    2.079442    1.386294      0.693147   2.772589  0.000000       2.079442"
            ]
          },
          "metadata": {},
          "execution_count": 33
        }
      ]
    },
    {
      "cell_type": "code",
      "metadata": {
        "id": "22TAskuVZamE",
        "colab": {
          "base_uri": "https://localhost:8080/",
          "height": 302
        },
        "outputId": "c3dda4f6-6b9f-4347-f97f-c4b776f16d3a"
      },
      "source": [
        "# write a loop to standardize each column of df_c_std\n",
        "# by replacing each column with (that column - the mean of the column) / std of column\n",
        "\n",
        "for i in range(0,len(df_c_std.columns)):\n",
        "    df_c_std[df_c_std.columns[i]] = (df_c_std[df_c_std.columns[i]] - (df_c_std[df_c_std.columns[i]]).mean())/(df_c_std[df_c_std.columns[i]]).std()\n",
        "\n",
        "df_c_std.head()"
      ],
      "execution_count": 34,
      "outputs": [
        {
          "output_type": "stream",
          "name": "stderr",
          "text": [
            "/usr/local/lib/python3.7/dist-packages/ipykernel_launcher.py:5: SettingWithCopyWarning: \n",
            "A value is trying to be set on a copy of a slice from a DataFrame.\n",
            "Try using .loc[row_indexer,col_indexer] = value instead\n",
            "\n",
            "See the caveats in the documentation: https://pandas.pydata.org/pandas-docs/stable/user_guide/indexing.html#returning-a-view-versus-a-copy\n",
            "  \"\"\"\n"
          ]
        },
        {
          "output_type": "execute_result",
          "data": {
            "text/html": [
              "<div>\n",
              "<style scoped>\n",
              "    .dataframe tbody tr th:only-of-type {\n",
              "        vertical-align: middle;\n",
              "    }\n",
              "\n",
              "    .dataframe tbody tr th {\n",
              "        vertical-align: top;\n",
              "    }\n",
              "\n",
              "    .dataframe thead th {\n",
              "        text-align: right;\n",
              "    }\n",
              "</style>\n",
              "<table border=\"1\" class=\"dataframe\">\n",
              "  <thead>\n",
              "    <tr style=\"text-align: right;\">\n",
              "      <th></th>\n",
              "      <th>TotalSpend</th>\n",
              "      <th>TotalUnits</th>\n",
              "      <th>AveragePrice</th>\n",
              "      <th>NProducts</th>\n",
              "      <th>NTrans</th>\n",
              "      <th>SpendPerTrans</th>\n",
              "    </tr>\n",
              "  </thead>\n",
              "  <tbody>\n",
              "    <tr>\n",
              "      <th>0</th>\n",
              "      <td>-2.920401</td>\n",
              "      <td>-3.217331</td>\n",
              "      <td>-1.741071</td>\n",
              "      <td>-2.861400</td>\n",
              "      <td>-1.043705</td>\n",
              "      <td>-2.602965</td>\n",
              "    </tr>\n",
              "    <tr>\n",
              "      <th>1</th>\n",
              "      <td>0.955208</td>\n",
              "      <td>0.919666</td>\n",
              "      <td>0.732537</td>\n",
              "      <td>0.943194</td>\n",
              "      <td>1.119085</td>\n",
              "      <td>-0.018335</td>\n",
              "    </tr>\n",
              "    <tr>\n",
              "      <th>2</th>\n",
              "      <td>-0.379517</td>\n",
              "      <td>-0.040638</td>\n",
              "      <td>-0.690233</td>\n",
              "      <td>-0.362188</td>\n",
              "      <td>0.497097</td>\n",
              "      <td>-1.045851</td>\n",
              "    </tr>\n",
              "    <tr>\n",
              "      <th>3</th>\n",
              "      <td>0.655026</td>\n",
              "      <td>0.578777</td>\n",
              "      <td>0.566098</td>\n",
              "      <td>0.649264</td>\n",
              "      <td>-1.043705</td>\n",
              "      <td>2.012798</td>\n",
              "    </tr>\n",
              "    <tr>\n",
              "      <th>4</th>\n",
              "      <td>-0.918315</td>\n",
              "      <td>-1.099536</td>\n",
              "      <td>-0.439490</td>\n",
              "      <td>-0.585415</td>\n",
              "      <td>-1.043705</td>\n",
              "      <td>-0.018335</td>\n",
              "    </tr>\n",
              "  </tbody>\n",
              "</table>\n",
              "</div>"
            ],
            "text/plain": [
              "   TotalSpend  TotalUnits  AveragePrice  NProducts    NTrans  SpendPerTrans\n",
              "0   -2.920401   -3.217331     -1.741071  -2.861400 -1.043705      -2.602965\n",
              "1    0.955208    0.919666      0.732537   0.943194  1.119085      -0.018335\n",
              "2   -0.379517   -0.040638     -0.690233  -0.362188  0.497097      -1.045851\n",
              "3    0.655026    0.578777      0.566098   0.649264 -1.043705       2.012798\n",
              "4   -0.918315   -1.099536     -0.439490  -0.585415 -1.043705      -0.018335"
            ]
          },
          "metadata": {},
          "execution_count": 34
        }
      ]
    },
    {
      "cell_type": "code",
      "metadata": {
        "id": "oXmMOxhyZ1eF",
        "colab": {
          "base_uri": "https://localhost:8080/",
          "height": 202
        },
        "outputId": "edc44241-f662-4cb3-d405-d86f8a74365c"
      },
      "source": [
        "# preview df_c_std to make sure the values have been standardized \n",
        "\n",
        "df_c_std.head()"
      ],
      "execution_count": 35,
      "outputs": [
        {
          "output_type": "execute_result",
          "data": {
            "text/html": [
              "<div>\n",
              "<style scoped>\n",
              "    .dataframe tbody tr th:only-of-type {\n",
              "        vertical-align: middle;\n",
              "    }\n",
              "\n",
              "    .dataframe tbody tr th {\n",
              "        vertical-align: top;\n",
              "    }\n",
              "\n",
              "    .dataframe thead th {\n",
              "        text-align: right;\n",
              "    }\n",
              "</style>\n",
              "<table border=\"1\" class=\"dataframe\">\n",
              "  <thead>\n",
              "    <tr style=\"text-align: right;\">\n",
              "      <th></th>\n",
              "      <th>TotalSpend</th>\n",
              "      <th>TotalUnits</th>\n",
              "      <th>AveragePrice</th>\n",
              "      <th>NProducts</th>\n",
              "      <th>NTrans</th>\n",
              "      <th>SpendPerTrans</th>\n",
              "    </tr>\n",
              "  </thead>\n",
              "  <tbody>\n",
              "    <tr>\n",
              "      <th>0</th>\n",
              "      <td>-2.920401</td>\n",
              "      <td>-3.217331</td>\n",
              "      <td>-1.741071</td>\n",
              "      <td>-2.861400</td>\n",
              "      <td>-1.043705</td>\n",
              "      <td>-2.602965</td>\n",
              "    </tr>\n",
              "    <tr>\n",
              "      <th>1</th>\n",
              "      <td>0.955208</td>\n",
              "      <td>0.919666</td>\n",
              "      <td>0.732537</td>\n",
              "      <td>0.943194</td>\n",
              "      <td>1.119085</td>\n",
              "      <td>-0.018335</td>\n",
              "    </tr>\n",
              "    <tr>\n",
              "      <th>2</th>\n",
              "      <td>-0.379517</td>\n",
              "      <td>-0.040638</td>\n",
              "      <td>-0.690233</td>\n",
              "      <td>-0.362188</td>\n",
              "      <td>0.497097</td>\n",
              "      <td>-1.045851</td>\n",
              "    </tr>\n",
              "    <tr>\n",
              "      <th>3</th>\n",
              "      <td>0.655026</td>\n",
              "      <td>0.578777</td>\n",
              "      <td>0.566098</td>\n",
              "      <td>0.649264</td>\n",
              "      <td>-1.043705</td>\n",
              "      <td>2.012798</td>\n",
              "    </tr>\n",
              "    <tr>\n",
              "      <th>4</th>\n",
              "      <td>-0.918315</td>\n",
              "      <td>-1.099536</td>\n",
              "      <td>-0.439490</td>\n",
              "      <td>-0.585415</td>\n",
              "      <td>-1.043705</td>\n",
              "      <td>-0.018335</td>\n",
              "    </tr>\n",
              "  </tbody>\n",
              "</table>\n",
              "</div>"
            ],
            "text/plain": [
              "   TotalSpend  TotalUnits  AveragePrice  NProducts    NTrans  SpendPerTrans\n",
              "0   -2.920401   -3.217331     -1.741071  -2.861400 -1.043705      -2.602965\n",
              "1    0.955208    0.919666      0.732537   0.943194  1.119085      -0.018335\n",
              "2   -0.379517   -0.040638     -0.690233  -0.362188  0.497097      -1.045851\n",
              "3    0.655026    0.578777      0.566098   0.649264 -1.043705       2.012798\n",
              "4   -0.918315   -1.099536     -0.439490  -0.585415 -1.043705      -0.018335"
            ]
          },
          "metadata": {},
          "execution_count": 35
        }
      ]
    },
    {
      "cell_type": "markdown",
      "metadata": {
        "id": "k74kDrhraT7G"
      },
      "source": [
        "**Answer question**\n",
        "\n",
        "Why is it important to standardize variables before performing clustering?\n",
        "\n",
        "* Answer: **By standardizing the variables, variables with larger scales are prevented from dominating how clusters are defined**"
      ]
    },
    {
      "cell_type": "markdown",
      "metadata": {
        "id": "If2zZNEsmC10"
      },
      "source": [
        "# Part 2 Segmentation (5 points)\n"
      ]
    },
    {
      "cell_type": "markdown",
      "metadata": {
        "id": "9xNZsG0TYO8E"
      },
      "source": [
        "\n",
        "## Dimensionality reduction\n",
        "\n",
        "1. Compute the 2D principal components transformation of `df_c_std`, call this `transformed`\n",
        "1. Make sure `transformed` is a dataframe, then name the columns 'p0' and 'p1' for principal component 0 and 1, respectively.\n",
        "1. Add `p0` and `p1` to the df_c dataframe (create the same 2 columns in df_c).\n",
        "\n",
        "Create a scatter plot of the principal components 0 vs 1. \n"
      ]
    },
    {
      "cell_type": "markdown",
      "metadata": {
        "id": "g-UvjJcfbBMp"
      },
      "source": [
        "**Answer question**\n",
        "\n",
        "Why might you want to reduce the dimensionality of your data (using PCA) before performing clustering?\n",
        "\n",
        "* Answer: "
      ]
    },
    {
      "cell_type": "code",
      "metadata": {
        "id": "D7J7Iyeta6hx"
      },
      "source": [
        "# Use PCA to reduce df_c_std to its first 2 principle components\n",
        "# store the result as 2 columns in the *df_c* dataframe:\n",
        "# 'pc1' and 'pc2'\n",
        "\n",
        "from sklearn.decomposition import PCA\n",
        "pca_df_c = PCA(n_components=2)\n",
        "pca_df = pca_df_c.fit_transform(df_c_std)\n",
        "pca_Df = pd.DataFrame(data = pca_df, columns = ['pc1', 'pc2'])\n",
        "\n",
        "df_c = df_c.join(pca_Df, how='left')\n"
      ],
      "execution_count": 36,
      "outputs": []
    },
    {
      "cell_type": "code",
      "metadata": {
        "id": "yTqP6A_KdVVz",
        "colab": {
          "base_uri": "https://localhost:8080/",
          "height": 202
        },
        "outputId": "075a4a82-44d4-4892-ccb7-a5df1c6aa80a"
      },
      "source": [
        "# take a look at df_c to make sure principle components are in the dataframe\n",
        "\n",
        "df_c.head()"
      ],
      "execution_count": 37,
      "outputs": [
        {
          "output_type": "execute_result",
          "data": {
            "text/html": [
              "<div>\n",
              "<style scoped>\n",
              "    .dataframe tbody tr th:only-of-type {\n",
              "        vertical-align: middle;\n",
              "    }\n",
              "\n",
              "    .dataframe tbody tr th {\n",
              "        vertical-align: top;\n",
              "    }\n",
              "\n",
              "    .dataframe thead th {\n",
              "        text-align: right;\n",
              "    }\n",
              "</style>\n",
              "<table border=\"1\" class=\"dataframe\">\n",
              "  <thead>\n",
              "    <tr style=\"text-align: right;\">\n",
              "      <th></th>\n",
              "      <th>CustomerID</th>\n",
              "      <th>TotalSpend</th>\n",
              "      <th>TotalUnits</th>\n",
              "      <th>AveragePrice</th>\n",
              "      <th>NProducts</th>\n",
              "      <th>NTrans</th>\n",
              "      <th>SpendPerTrans</th>\n",
              "      <th>pc1</th>\n",
              "      <th>pc2</th>\n",
              "    </tr>\n",
              "  </thead>\n",
              "  <tbody>\n",
              "    <tr>\n",
              "      <th>0</th>\n",
              "      <td>12346.0</td>\n",
              "      <td>0.000000</td>\n",
              "      <td>0.000000</td>\n",
              "      <td>0.000000</td>\n",
              "      <td>0.000000</td>\n",
              "      <td>0.000000</td>\n",
              "      <td>0.000000</td>\n",
              "      <td>-5.932456</td>\n",
              "      <td>1.163277</td>\n",
              "    </tr>\n",
              "    <tr>\n",
              "      <th>1</th>\n",
              "      <td>12347.0</td>\n",
              "      <td>4.025352</td>\n",
              "      <td>2.708050</td>\n",
              "      <td>1.317301</td>\n",
              "      <td>4.634729</td>\n",
              "      <td>1.945910</td>\n",
              "      <td>2.079442</td>\n",
              "      <td>1.973067</td>\n",
              "      <td>0.737192</td>\n",
              "    </tr>\n",
              "    <tr>\n",
              "      <th>2</th>\n",
              "      <td>12348.0</td>\n",
              "      <td>2.639057</td>\n",
              "      <td>2.079442</td>\n",
              "      <td>0.559616</td>\n",
              "      <td>3.044522</td>\n",
              "      <td>1.386294</td>\n",
              "      <td>1.252763</td>\n",
              "      <td>-0.782459</td>\n",
              "      <td>1.182804</td>\n",
              "    </tr>\n",
              "    <tr>\n",
              "      <th>3</th>\n",
              "      <td>12349.0</td>\n",
              "      <td>3.713572</td>\n",
              "      <td>2.484907</td>\n",
              "      <td>1.228665</td>\n",
              "      <td>4.276666</td>\n",
              "      <td>0.000000</td>\n",
              "      <td>3.713572</td>\n",
              "      <td>1.315848</td>\n",
              "      <td>-2.188844</td>\n",
              "    </tr>\n",
              "    <tr>\n",
              "      <th>4</th>\n",
              "      <td>12350.0</td>\n",
              "      <td>2.079442</td>\n",
              "      <td>1.386294</td>\n",
              "      <td>0.693147</td>\n",
              "      <td>2.772589</td>\n",
              "      <td>0.000000</td>\n",
              "      <td>2.079442</td>\n",
              "      <td>-1.725057</td>\n",
              "      <td>-0.724559</td>\n",
              "    </tr>\n",
              "  </tbody>\n",
              "</table>\n",
              "</div>"
            ],
            "text/plain": [
              "   CustomerID  TotalSpend  TotalUnits  ...  SpendPerTrans       pc1       pc2\n",
              "0     12346.0    0.000000    0.000000  ...       0.000000 -5.932456  1.163277\n",
              "1     12347.0    4.025352    2.708050  ...       2.079442  1.973067  0.737192\n",
              "2     12348.0    2.639057    2.079442  ...       1.252763 -0.782459  1.182804\n",
              "3     12349.0    3.713572    2.484907  ...       3.713572  1.315848 -2.188844\n",
              "4     12350.0    2.079442    1.386294  ...       2.079442 -1.725057 -0.724559\n",
              "\n",
              "[5 rows x 9 columns]"
            ]
          },
          "metadata": {},
          "execution_count": 37
        }
      ]
    },
    {
      "cell_type": "code",
      "metadata": {
        "id": "4eyoD1r2dxoq",
        "colab": {
          "base_uri": "https://localhost:8080/",
          "height": 622
        },
        "outputId": "5c0c13cc-53e2-4c93-c507-14edf99a4a58"
      },
      "source": [
        "# Create a scatterplot of pc1 vs pc2\n",
        "\n",
        "fig = plt.figure(figsize = (10,10)) \n",
        "ax = fig.add_subplot(111)\n",
        "# ax = fig.add_subplot(111, projection='3d') # use if 3 components\n",
        "ax.scatter(df_c.pc1, df_c.pc2, alpha = .5, cmap = 'RdYlGn') # scatterplot, color = salary\n",
        "ax.set_xlabel('pc1')\n",
        "ax.set_ylabel('pc2')\n"
      ],
      "execution_count": 38,
      "outputs": [
        {
          "output_type": "execute_result",
          "data": {
            "text/plain": [
              "Text(0, 0.5, 'pc2')"
            ]
          },
          "metadata": {},
          "execution_count": 38
        },
        {
          "output_type": "display_data",
          "data": {
            "image/png": "[encoded data removed]",
            "text/plain": [
              "<Figure size 720x720 with 1 Axes>"
            ]
          },
          "metadata": {
            "needs_background": "light"
          }
        }
      ]
    },
    {
      "cell_type": "markdown",
      "metadata": {
        "id": "YM7vMz1zaKcS"
      },
      "source": [
        "\n",
        "## Segmentation\n",
        "Using a loop, compute the k-means clustering for $k$ from 2 to 10 segments using the `transformed` dataframe. Store the segment as the column `'seg2'`,`'seg3'`,...,`'seg10'` in the `df_c` dataframe. Make sure you store the inertia metrics in a list called `elbowdata` like in the notes. Create the elbow plot for your k-means clustering. \n",
        "\n",
        "1. How many segments does there appear to be based on the elbow plot?\n",
        "1. Use a loop to plot p0 vs p1 for each segment (different color for each segment)\n",
        "1. Use a groupby statement to show the mean of the variables in the raw versions (not z-scores) used to conduct the segmentation. e.g. what are the averages of `['NTrans', 'NProducts', 'TotalSpend', 'AveragePrice', 'SpendPerTrans', 'SKUsPerTrans']`\n",
        "\n",
        "1. In a few sentences, describe what are the characteristics of the resulting segments. Any distinctive segments?\n",
        "\n",
        "**Hints**\n",
        "1. Note here that `k` should be the number of clusters at each iteration of your loop, e.g. `for k in ....` \n",
        "2. `df_c['seg{}'.format(k)]=` your k-means segmentation to create the `'seg2'`, ..., `'seg15'` columns."
      ]
    },
    {
      "cell_type": "code",
      "metadata": {
        "id": "PoySPb11g4Oz"
      },
      "source": [
        "# Write a loop to perform k-means segmentation \n",
        "# on the principal component columns, e.g. pc1 and pc2, in *df_c*\n",
        "# for k from 2 to 10, e.g. for k in range(2,11):\n",
        "# Be sure to save the inertia metric to create the elbowplot\n",
        "# see similar example in notes\n",
        "\n",
        "elbowdata = list()\n",
        "for k in range(2,11):\n",
        "    clusterer = KMeans(n_clusters=k)\n",
        "    df_c['seg{}'.format(k)] = clusterer.fit_predict(df_c[['pc1', 'pc2']])\n",
        "    inertia = clusterer.inertia_ # within sum variances is aka inertia\n",
        "    elbowdata.append([k, inertia])\n",
        "elbowdata = pd.DataFrame(elbowdata, columns = ['k', 'inertia']) # make dataframe from elbowinertia"
      ],
      "execution_count": 39,
      "outputs": []
    },
    {
      "cell_type": "code",
      "metadata": {
        "id": "dJBzu1CSjpqa",
        "colab": {
          "base_uri": "https://localhost:8080/",
          "height": 202
        },
        "outputId": "040f3665-1890-42ae-cd73-33cc4fa6912a"
      },
      "source": [
        "# preview your dataframe df_c to get an idea of the contents\n",
        "\n",
        "df_c.head()"
      ],
      "execution_count": 40,
      "outputs": [
        {
          "output_type": "execute_result",
          "data": {
            "text/html": [
              "<div>\n",
              "<style scoped>\n",
              "    .dataframe tbody tr th:only-of-type {\n",
              "        vertical-align: middle;\n",
              "    }\n",
              "\n",
              "    .dataframe tbody tr th {\n",
              "        vertical-align: top;\n",
              "    }\n",
              "\n",
              "    .dataframe thead th {\n",
              "        text-align: right;\n",
              "    }\n",
              "</style>\n",
              "<table border=\"1\" class=\"dataframe\">\n",
              "  <thead>\n",
              "    <tr style=\"text-align: right;\">\n",
              "      <th></th>\n",
              "      <th>CustomerID</th>\n",
              "      <th>TotalSpend</th>\n",
              "      <th>TotalUnits</th>\n",
              "      <th>AveragePrice</th>\n",
              "      <th>NProducts</th>\n",
              "      <th>NTrans</th>\n",
              "      <th>SpendPerTrans</th>\n",
              "      <th>pc1</th>\n",
              "      <th>pc2</th>\n",
              "      <th>seg2</th>\n",
              "      <th>seg3</th>\n",
              "      <th>seg4</th>\n",
              "      <th>seg5</th>\n",
              "      <th>seg6</th>\n",
              "      <th>seg7</th>\n",
              "      <th>seg8</th>\n",
              "      <th>seg9</th>\n",
              "      <th>seg10</th>\n",
              "    </tr>\n",
              "  </thead>\n",
              "  <tbody>\n",
              "    <tr>\n",
              "      <th>0</th>\n",
              "      <td>12346.0</td>\n",
              "      <td>0.000000</td>\n",
              "      <td>0.000000</td>\n",
              "      <td>0.000000</td>\n",
              "      <td>0.000000</td>\n",
              "      <td>0.000000</td>\n",
              "      <td>0.000000</td>\n",
              "      <td>-5.932456</td>\n",
              "      <td>1.163277</td>\n",
              "      <td>1</td>\n",
              "      <td>1</td>\n",
              "      <td>3</td>\n",
              "      <td>1</td>\n",
              "      <td>3</td>\n",
              "      <td>0</td>\n",
              "      <td>0</td>\n",
              "      <td>4</td>\n",
              "      <td>7</td>\n",
              "    </tr>\n",
              "    <tr>\n",
              "      <th>1</th>\n",
              "      <td>12347.0</td>\n",
              "      <td>4.025352</td>\n",
              "      <td>2.708050</td>\n",
              "      <td>1.317301</td>\n",
              "      <td>4.634729</td>\n",
              "      <td>1.945910</td>\n",
              "      <td>2.079442</td>\n",
              "      <td>1.973067</td>\n",
              "      <td>0.737192</td>\n",
              "      <td>0</td>\n",
              "      <td>0</td>\n",
              "      <td>2</td>\n",
              "      <td>4</td>\n",
              "      <td>5</td>\n",
              "      <td>6</td>\n",
              "      <td>2</td>\n",
              "      <td>6</td>\n",
              "      <td>6</td>\n",
              "    </tr>\n",
              "    <tr>\n",
              "      <th>2</th>\n",
              "      <td>12348.0</td>\n",
              "      <td>2.639057</td>\n",
              "      <td>2.079442</td>\n",
              "      <td>0.559616</td>\n",
              "      <td>3.044522</td>\n",
              "      <td>1.386294</td>\n",
              "      <td>1.252763</td>\n",
              "      <td>-0.782459</td>\n",
              "      <td>1.182804</td>\n",
              "      <td>1</td>\n",
              "      <td>2</td>\n",
              "      <td>1</td>\n",
              "      <td>0</td>\n",
              "      <td>0</td>\n",
              "      <td>2</td>\n",
              "      <td>3</td>\n",
              "      <td>1</td>\n",
              "      <td>1</td>\n",
              "    </tr>\n",
              "    <tr>\n",
              "      <th>3</th>\n",
              "      <td>12349.0</td>\n",
              "      <td>3.713572</td>\n",
              "      <td>2.484907</td>\n",
              "      <td>1.228665</td>\n",
              "      <td>4.276666</td>\n",
              "      <td>0.000000</td>\n",
              "      <td>3.713572</td>\n",
              "      <td>1.315848</td>\n",
              "      <td>-2.188844</td>\n",
              "      <td>0</td>\n",
              "      <td>2</td>\n",
              "      <td>0</td>\n",
              "      <td>3</td>\n",
              "      <td>2</td>\n",
              "      <td>3</td>\n",
              "      <td>1</td>\n",
              "      <td>2</td>\n",
              "      <td>2</td>\n",
              "    </tr>\n",
              "    <tr>\n",
              "      <th>4</th>\n",
              "      <td>12350.0</td>\n",
              "      <td>2.079442</td>\n",
              "      <td>1.386294</td>\n",
              "      <td>0.693147</td>\n",
              "      <td>2.772589</td>\n",
              "      <td>0.000000</td>\n",
              "      <td>2.079442</td>\n",
              "      <td>-1.725057</td>\n",
              "      <td>-0.724559</td>\n",
              "      <td>1</td>\n",
              "      <td>2</td>\n",
              "      <td>1</td>\n",
              "      <td>2</td>\n",
              "      <td>4</td>\n",
              "      <td>1</td>\n",
              "      <td>5</td>\n",
              "      <td>5</td>\n",
              "      <td>5</td>\n",
              "    </tr>\n",
              "  </tbody>\n",
              "</table>\n",
              "</div>"
            ],
            "text/plain": [
              "   CustomerID  TotalSpend  TotalUnits  AveragePrice  ...  seg7  seg8  seg9  seg10\n",
              "0     12346.0    0.000000    0.000000      0.000000  ...     0     0     4      7\n",
              "1     12347.0    4.025352    2.708050      1.317301  ...     6     2     6      6\n",
              "2     12348.0    2.639057    2.079442      0.559616  ...     2     3     1      1\n",
              "3     12349.0    3.713572    2.484907      1.228665  ...     3     1     2      2\n",
              "4     12350.0    2.079442    1.386294      0.693147  ...     1     5     5      5\n",
              "\n",
              "[5 rows x 18 columns]"
            ]
          },
          "metadata": {},
          "execution_count": 40
        }
      ]
    },
    {
      "cell_type": "markdown",
      "metadata": {
        "id": "LAGmDztOj8fo"
      },
      "source": [
        "**Answer this**\n",
        "What does each of the segk (for k =1,...,10) columns represent?\n",
        "\n",
        "1. Answer: "
      ]
    },
    {
      "cell_type": "code",
      "metadata": {
        "id": "b8f-xQZHhur2",
        "colab": {
          "base_uri": "https://localhost:8080/",
          "height": 500
        },
        "outputId": "ca387d1e-69f9-4b1f-c7dd-c61979741a5d"
      },
      "source": [
        "# Create the elbow plot\n",
        "\n",
        "import matplotlib\n",
        "fig, ax = plt.subplots(1, figsize = (10, 8))\n",
        "rect = matplotlib.patches.Rectangle([2.5, 7900.], 1., 1000., fill = False, edgecolor= 'black')\n",
        "ax.plot(elbowdata.k, elbowdata.inertia)\n",
        "ax.add_patch(rect)\n",
        "ax.annotate( 'Elbow', (elbowdata.loc[1, 'k'],elbowdata.loc[1, 'inertia']))"
      ],
      "execution_count": 41,
      "outputs": [
        {
          "output_type": "execute_result",
          "data": {
            "text/plain": [
              "Text(3, 8269.846979562786, 'Elbow')"
            ]
          },
          "metadata": {},
          "execution_count": 41
        },
        {
          "output_type": "display_data",
          "data": {
            "image/png": "[encoded data removed]",
            "text/plain": [
              "<Figure size 720x576 with 1 Axes>"
            ]
          },
          "metadata": {
            "needs_background": "light"
          }
        }
      ]
    },
    {
      "cell_type": "markdown",
      "metadata": {
        "id": "Kmh4Hzbpir6H"
      },
      "source": [
        "**Answer this**\n",
        "Based on the eyeball test, where is the \"elbow\"? i.e. how many clusters seems the \"right\" number\n",
        "1. Answer: **From the plot elbow is at 3. The number of lcusters should be 3."
      ]
    },
    {
      "cell_type": "markdown",
      "metadata": {
        "id": "KPpc9erki3_R"
      },
      "source": [
        "## Inspect segments"
      ]
    },
    {
      "cell_type": "code",
      "metadata": {
        "id": "0HopXsWkjepu",
        "colab": {
          "base_uri": "https://localhost:8080/",
          "height": 267
        },
        "outputId": "3aac5fb9-20ed-4339-f776-53e98e36f245"
      },
      "source": [
        "# Write a loop through each of the segments in your optimal KMeans cluster \n",
        "# and plot pc1 vs pc2 for that segment\n",
        "# similar to plotting price vs demand for each region of avocados dataset\n",
        "# use dot size 1\n",
        "# e.g.\n",
        "# for s in df_c['segk'].unique():\n",
        "#     temp = df_c[df_c['segk'] == s]\n",
        "#     plt.scatter(temp.pc1, temp.pc2, s = 1)\n",
        "# where segk is whichever KMeans result you deemed optimal based on previous elbow plot \n",
        "\n",
        "k = 3\n",
        "for s in df_c['seg' + str(k)].unique():\n",
        "    temp = df_c[df_c['seg' + str(k)] == s]\n",
        "    plt.scatter(temp.pc1, temp.pc2, s = 1)\n"
      ],
      "execution_count": 42,
      "outputs": [
        {
          "output_type": "display_data",
          "data": {
            "image/png": "[encoded data removed]",
            "text/plain": [
              "<Figure size 432x288 with 1 Axes>"
            ]
          },
          "metadata": {
            "needs_background": "light"
          }
        }
      ]
    },
    {
      "cell_type": "markdown",
      "metadata": {
        "id": "3TTVE4COi8Dp"
      },
      "source": [
        "Compute the average of: \n",
        "```\n",
        "NTrans\tNProducts\tTotalSpend\tTotalUnits\tAveragePrice SpendPerTrans\n",
        "```\n",
        "For each segment of the optimal KMeans segmentation (optimal being the k you found above in elbow plot).\n",
        "\n",
        "Since these variables in df_c have been log-transformed, use np.exp(the appropriate groupby + mean statement) to take the exponent of the resulting means, i.e. \"undo\" the log-transformation.\n",
        "\n",
        "e.g. np.exp(df.groupby('grpvar')['var1', 'var2','var3',...,etc.].mean())"
      ]
    },
    {
      "cell_type": "code",
      "metadata": {
        "id": "xAwQEioMjcw9",
        "colab": {
          "base_uri": "https://localhost:8080/",
          "height": 235
        },
        "outputId": "a0b9fe89-7113-45d6-8be3-ff179295a04f"
      },
      "source": [
        "# segment averages\n",
        "\n",
        "np.exp(df_c.groupby(['seg{}'.format(k)])['NTrans', 'NProducts', 'TotalSpend', 'TotalUnits' ,'AveragePrice', 'SpendPerTrans'].agg(['mean']))"
      ],
      "execution_count": 43,
      "outputs": [
        {
          "output_type": "stream",
          "name": "stderr",
          "text": [
            "/usr/local/lib/python3.7/dist-packages/ipykernel_launcher.py:3: FutureWarning: Indexing with multiple keys (implicitly converted to a tuple of keys) will be deprecated, use a list instead.\n",
            "  This is separate from the ipykernel package so we can avoid doing imports until\n"
          ]
        },
        {
          "output_type": "execute_result",
          "data": {
            "text/html": [
              "<div>\n",
              "<style scoped>\n",
              "    .dataframe tbody tr th:only-of-type {\n",
              "        vertical-align: middle;\n",
              "    }\n",
              "\n",
              "    .dataframe tbody tr th {\n",
              "        vertical-align: top;\n",
              "    }\n",
              "\n",
              "    .dataframe thead tr th {\n",
              "        text-align: left;\n",
              "    }\n",
              "\n",
              "    .dataframe thead tr:last-of-type th {\n",
              "        text-align: right;\n",
              "    }\n",
              "</style>\n",
              "<table border=\"1\" class=\"dataframe\">\n",
              "  <thead>\n",
              "    <tr>\n",
              "      <th></th>\n",
              "      <th>NTrans</th>\n",
              "      <th>NProducts</th>\n",
              "      <th>TotalSpend</th>\n",
              "      <th>TotalUnits</th>\n",
              "      <th>AveragePrice</th>\n",
              "      <th>SpendPerTrans</th>\n",
              "    </tr>\n",
              "    <tr>\n",
              "      <th></th>\n",
              "      <th>mean</th>\n",
              "      <th>mean</th>\n",
              "      <th>mean</th>\n",
              "      <th>mean</th>\n",
              "      <th>mean</th>\n",
              "      <th>mean</th>\n",
              "    </tr>\n",
              "    <tr>\n",
              "      <th>seg3</th>\n",
              "      <th></th>\n",
              "      <th></th>\n",
              "      <th></th>\n",
              "      <th></th>\n",
              "      <th></th>\n",
              "      <th></th>\n",
              "    </tr>\n",
              "  </thead>\n",
              "  <tbody>\n",
              "    <tr>\n",
              "      <th>0</th>\n",
              "      <td>6.154065</td>\n",
              "      <td>101.374203</td>\n",
              "      <td>55.317399</td>\n",
              "      <td>14.061359</td>\n",
              "      <td>3.934001</td>\n",
              "      <td>8.988757</td>\n",
              "    </tr>\n",
              "    <tr>\n",
              "      <th>1</th>\n",
              "      <td>1.405749</td>\n",
              "      <td>4.990559</td>\n",
              "      <td>4.061195</td>\n",
              "      <td>3.165896</td>\n",
              "      <td>1.282795</td>\n",
              "      <td>2.888990</td>\n",
              "    </tr>\n",
              "    <tr>\n",
              "      <th>2</th>\n",
              "      <td>1.594639</td>\n",
              "      <td>27.089205</td>\n",
              "      <td>17.721265</td>\n",
              "      <td>7.702754</td>\n",
              "      <td>2.300640</td>\n",
              "      <td>11.113028</td>\n",
              "    </tr>\n",
              "  </tbody>\n",
              "</table>\n",
              "</div>"
            ],
            "text/plain": [
              "        NTrans   NProducts TotalSpend TotalUnits AveragePrice SpendPerTrans\n",
              "          mean        mean       mean       mean         mean          mean\n",
              "seg3                                                                       \n",
              "0     6.154065  101.374203  55.317399  14.061359     3.934001      8.988757\n",
              "1     1.405749    4.990559   4.061195   3.165896     1.282795      2.888990\n",
              "2     1.594639   27.089205  17.721265   7.702754     2.300640     11.113028"
            ]
          },
          "metadata": {},
          "execution_count": 43
        }
      ]
    },
    {
      "cell_type": "markdown",
      "metadata": {
        "id": "5EpCCf8yaNid"
      },
      "source": [
        "**Answer questions below**\n",
        "1. Which segment buys the most expensive items?\n",
        "    * Answer: **Segment 1**\n",
        "1. Which segment spends the most? \n",
        "    * Answer: **Segment 1**\n",
        "1. Which segment buys the most variety of products?\n",
        "    * Answer: **Segment 1**\n",
        "1. Which segment buys the  least variety of products?\n",
        "    * Answer: **Segment 2**\n",
        "1. Are there any segments that seem like they should be combined?\n",
        "    * Answer: **No**\n",
        "1. Suppose you want to run some promotions that will get customers to spend more. Pick 2 of the segments that are very different and describe a hypothetical promotional campaign targeted at each (e.g. could be some kind discount with a min. spend qualification, or maybe some kind of a volume discount, etc. - be creative). Explain why each campaign might be a better fit for the targeted segment.\n",
        "    * Answer: **Segment 1 and segment 2 The promotion for segment 2 should be discout for a given volume purchases to encourage them to purchases more. Segment 1 should get free items on the goods they buy exceeding a given volume, this way the company will not incur huge expense for discount but will still encourage them to buy more.**"
      ]
    },
    {
      "cell_type": "code",
      "metadata": {
        "id": "-pLDtx8lmPzq"
      },
      "source": [
        ""
      ],
      "execution_count": null,
      "outputs": []
    },
    {
      "cell_type": "code",
      "metadata": {
        "id": "50TWKVKCLmJh"
      },
      "source": [
        ""
      ],
      "execution_count": null,
      "outputs": []
    }
  ]
}