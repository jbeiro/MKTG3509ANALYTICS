{
  "nbformat": 4,
  "nbformat_minor": 0,
  "metadata": {
    "colab": {
      "name": "JackBeiro A5 F2021 Stats Review.ipynb",
      "provenance": [],
      "collapsed_sections": []
    },
    "kernelspec": {
      "name": "python3",
      "display_name": "Python 3"
    }
  },
  "cells": [
    {
      "cell_type": "markdown",
      "metadata": {
        "id": "I_GfWSOmUL9h"
      },
      "source": [
        "**Rationale** Hypothesis testing is foundational to the entire field of statistics. Without the Central Limit Theorem and hypothesis testing, we would not have modern day (social) science. In marketing, this is generally most important when doing A/B testing of ads. In this assignment, you will practice computing basic summary statistics and conducting hypothesis tests. \n",
        "\n",
        "[Datasets](https://drive.google.com/drive/folders/1D6D-zRU3oiP12c0dFMQjs66JDhBZBtax?usp=sharing) required:\n",
        "1. [FB ad campaign data](https://drive.google.com/file/d/1JfwvumxS2oys8ZcQtsb8GGmeRfnkzFdy/view?usp=sharing).\n",
        "1. [Starbucks Promos](https://drive.google.com/file/d/1W7x5_PU5KszT8mqXqqEmRfXuR8CRr1DX/view?usp=sharing)"
      ]
    },
    {
      "cell_type": "markdown",
      "metadata": {
        "id": "DdmKkAgxwLZB"
      },
      "source": [
        "# 1. (2 points) FB Ad campaigns\n",
        "\n",
        "1. Use a groupby operation create a dataframe called `sumstats` consisting of the total impressions and clicks for each `xyz_campaign_id`.\n",
        "1. Using `sumstats`, create a new column called `ctr` that represents the [click through rate](https://support.google.com/google-ads/answer/2615875?hl=en) for each campaign. Which campaign had the highest CTR?\n",
        "1. Create a column for `sd` for standard deviation of the click through rate. \n",
        "\n",
        "Hint: Recall from the notes that the standard deviation of a binomial distribution with $Pr(Success) = p$ is $SD(p) = \\sqrt{p(1-p)}$. So if the probability of a binary outcome (such as clicking on an ad) is observed to be .3, the standard deviation is $\\sqrt{.3(.7)}=\\sqrt{.21}$."
      ]
    },
    {
      "cell_type": "code",
      "metadata": {
        "id": "5zHCASKUwPwY",
        "colab": {
          "base_uri": "https://localhost:8080/"
        },
        "outputId": "9fd4e4c5-6673-4b0f-8bd7-c9759de89194"
      },
      "source": [
        "# imports and mount google drive\n",
        "import os, pandas as pd, numpy as np\n",
        "from scipy import stats\n",
        "\n",
        "from google.colab import drive\n",
        "drive.mount('drive')"
      ],
      "execution_count": 1,
      "outputs": [
        {
          "output_type": "stream",
          "name": "stdout",
          "text": [
            "Mounted at drive\n"
          ]
        }
      ]
    },
    {
      "cell_type": "code",
      "metadata": {
        "id": "gV3R6R-6v3tG",
        "colab": {
          "base_uri": "https://localhost:8080/"
        },
        "outputId": "1033d873-e99c-44d3-cca2-1c9afc48e30d"
      },
      "source": [
        "# set the path to the datasets for A5\n",
        "fpath = 'drive/MyDrive/MKTG3509/Data Sets'\n",
        "os.listdir(fpath)"
      ],
      "execution_count": 2,
      "outputs": [
        {
          "output_type": "execute_result",
          "data": {
            "text/plain": [
              "['quebec_biz.csv',\n",
              " 'quebec_yelp_reviews.csv',\n",
              " 'goodDataSet.csv',\n",
              " 'renttherunway_final_data.json',\n",
              " 'telecom_churn.csv',\n",
              " 'starbucks_promos.csv',\n",
              " 'facebook_ads.csv']"
            ]
          },
          "metadata": {},
          "execution_count": 2
        }
      ]
    },
    {
      "cell_type": "code",
      "metadata": {
        "id": "kgp10eMov30B"
      },
      "source": [
        "# read in the facebook_ads.csv file as the dataframe variable named fb\n",
        "fb = pd.read_csv('drive/MyDrive/MKTG3509/Data Sets/facebook_ads.csv')"
      ],
      "execution_count": 3,
      "outputs": []
    },
    {
      "cell_type": "code",
      "metadata": {
        "id": "Lcc5ZfCYv36W",
        "colab": {
          "base_uri": "https://localhost:8080/",
          "height": 206
        },
        "outputId": "a0a78720-8fae-4f00-efe8-e829fa38e211"
      },
      "source": [
        "# Take a look at the first 5 rows\n",
        "# Observe that each row represents 1 ad from 1 campaign and a target demographic group (age, gender, interest)\n",
        "fb.head()"
      ],
      "execution_count": 4,
      "outputs": [
        {
          "output_type": "execute_result",
          "data": {
            "text/html": [
              "<div>\n",
              "<style scoped>\n",
              "    .dataframe tbody tr th:only-of-type {\n",
              "        vertical-align: middle;\n",
              "    }\n",
              "\n",
              "    .dataframe tbody tr th {\n",
              "        vertical-align: top;\n",
              "    }\n",
              "\n",
              "    .dataframe thead th {\n",
              "        text-align: right;\n",
              "    }\n",
              "</style>\n",
              "<table border=\"1\" class=\"dataframe\">\n",
              "  <thead>\n",
              "    <tr style=\"text-align: right;\">\n",
              "      <th></th>\n",
              "      <th>ad_id</th>\n",
              "      <th>xyz_campaign_id</th>\n",
              "      <th>fb_campaign_id</th>\n",
              "      <th>age</th>\n",
              "      <th>gender</th>\n",
              "      <th>interest</th>\n",
              "      <th>Impressions</th>\n",
              "      <th>Clicks</th>\n",
              "      <th>Spent</th>\n",
              "      <th>Total_Conversion</th>\n",
              "      <th>Approved_Conversion</th>\n",
              "    </tr>\n",
              "  </thead>\n",
              "  <tbody>\n",
              "    <tr>\n",
              "      <th>0</th>\n",
              "      <td>708746</td>\n",
              "      <td>916</td>\n",
              "      <td>103916</td>\n",
              "      <td>30-34</td>\n",
              "      <td>M</td>\n",
              "      <td>15</td>\n",
              "      <td>7350</td>\n",
              "      <td>1</td>\n",
              "      <td>1.43</td>\n",
              "      <td>2</td>\n",
              "      <td>1</td>\n",
              "    </tr>\n",
              "    <tr>\n",
              "      <th>1</th>\n",
              "      <td>708749</td>\n",
              "      <td>916</td>\n",
              "      <td>103917</td>\n",
              "      <td>30-34</td>\n",
              "      <td>M</td>\n",
              "      <td>16</td>\n",
              "      <td>17861</td>\n",
              "      <td>2</td>\n",
              "      <td>1.82</td>\n",
              "      <td>2</td>\n",
              "      <td>0</td>\n",
              "    </tr>\n",
              "    <tr>\n",
              "      <th>2</th>\n",
              "      <td>708771</td>\n",
              "      <td>916</td>\n",
              "      <td>103920</td>\n",
              "      <td>30-34</td>\n",
              "      <td>M</td>\n",
              "      <td>20</td>\n",
              "      <td>693</td>\n",
              "      <td>0</td>\n",
              "      <td>0.00</td>\n",
              "      <td>1</td>\n",
              "      <td>0</td>\n",
              "    </tr>\n",
              "    <tr>\n",
              "      <th>3</th>\n",
              "      <td>708815</td>\n",
              "      <td>916</td>\n",
              "      <td>103928</td>\n",
              "      <td>30-34</td>\n",
              "      <td>M</td>\n",
              "      <td>28</td>\n",
              "      <td>4259</td>\n",
              "      <td>1</td>\n",
              "      <td>1.25</td>\n",
              "      <td>1</td>\n",
              "      <td>0</td>\n",
              "    </tr>\n",
              "    <tr>\n",
              "      <th>4</th>\n",
              "      <td>708818</td>\n",
              "      <td>916</td>\n",
              "      <td>103928</td>\n",
              "      <td>30-34</td>\n",
              "      <td>M</td>\n",
              "      <td>28</td>\n",
              "      <td>4133</td>\n",
              "      <td>1</td>\n",
              "      <td>1.29</td>\n",
              "      <td>1</td>\n",
              "      <td>1</td>\n",
              "    </tr>\n",
              "  </tbody>\n",
              "</table>\n",
              "</div>"
            ],
            "text/plain": [
              "    ad_id  xyz_campaign_id  ...  Total_Conversion Approved_Conversion\n",
              "0  708746              916  ...                 2                   1\n",
              "1  708749              916  ...                 2                   0\n",
              "2  708771              916  ...                 1                   0\n",
              "3  708815              916  ...                 1                   0\n",
              "4  708818              916  ...                 1                   1\n",
              "\n",
              "[5 rows x 11 columns]"
            ]
          },
          "metadata": {},
          "execution_count": 4
        }
      ]
    },
    {
      "cell_type": "code",
      "metadata": {
        "id": "ed4vShBTwO8e",
        "colab": {
          "base_uri": "https://localhost:8080/",
          "height": 199
        },
        "outputId": "2c7385f5-1d4c-4a47-f5c1-89b0fe4a560c"
      },
      "source": [
        "# use a groupby to create new dataframe, sumstats that tabulates the total clicks and impressions for each campaign.\n",
        "# Generic groupby syntax: sumstats = df.groupby('groupbyvariable')[['summary_variable1', 'summary_variable2']].summaryfunction().reset_index()\n",
        "# use the correct dataframe name, variables (i.e. column names) and summaryfunction\n",
        "sumstats = fb.groupby('xyz_campaign_id')['Clicks','Impressions'].sum().reset_index()\n",
        "sumstats.head()\n"
      ],
      "execution_count": 5,
      "outputs": [
        {
          "output_type": "stream",
          "name": "stderr",
          "text": [
            "/usr/local/lib/python3.7/dist-packages/ipykernel_launcher.py:4: FutureWarning: Indexing with multiple keys (implicitly converted to a tuple of keys) will be deprecated, use a list instead.\n",
            "  after removing the cwd from sys.path.\n"
          ]
        },
        {
          "output_type": "execute_result",
          "data": {
            "text/html": [
              "<div>\n",
              "<style scoped>\n",
              "    .dataframe tbody tr th:only-of-type {\n",
              "        vertical-align: middle;\n",
              "    }\n",
              "\n",
              "    .dataframe tbody tr th {\n",
              "        vertical-align: top;\n",
              "    }\n",
              "\n",
              "    .dataframe thead th {\n",
              "        text-align: right;\n",
              "    }\n",
              "</style>\n",
              "<table border=\"1\" class=\"dataframe\">\n",
              "  <thead>\n",
              "    <tr style=\"text-align: right;\">\n",
              "      <th></th>\n",
              "      <th>xyz_campaign_id</th>\n",
              "      <th>Clicks</th>\n",
              "      <th>Impressions</th>\n",
              "    </tr>\n",
              "  </thead>\n",
              "  <tbody>\n",
              "    <tr>\n",
              "      <th>0</th>\n",
              "      <td>916</td>\n",
              "      <td>113</td>\n",
              "      <td>482925</td>\n",
              "    </tr>\n",
              "    <tr>\n",
              "      <th>1</th>\n",
              "      <td>936</td>\n",
              "      <td>1984</td>\n",
              "      <td>8128187</td>\n",
              "    </tr>\n",
              "    <tr>\n",
              "      <th>2</th>\n",
              "      <td>1178</td>\n",
              "      <td>36068</td>\n",
              "      <td>204823716</td>\n",
              "    </tr>\n",
              "  </tbody>\n",
              "</table>\n",
              "</div>"
            ],
            "text/plain": [
              "   xyz_campaign_id  Clicks  Impressions\n",
              "0              916     113       482925\n",
              "1              936    1984      8128187\n",
              "2             1178   36068    204823716"
            ]
          },
          "metadata": {},
          "execution_count": 5
        }
      ]
    },
    {
      "cell_type": "code",
      "metadata": {
        "id": "-fRgZWiJwO_E",
        "colab": {
          "base_uri": "https://localhost:8080/",
          "height": 144
        },
        "outputId": "bc2e4e45-14f5-4a34-90a1-9b8e65e3435b"
      },
      "source": [
        "# create a new column in sumstats called 'ctr' (short for click through rate)\n",
        "# recall that ctr = clicks / impressions\n",
        "sumstats['ctr'] = (sumstats['Clicks']/sumstats['Impressions'])\n",
        "sumstats.head()\n",
        "\n"
      ],
      "execution_count": 6,
      "outputs": [
        {
          "output_type": "execute_result",
          "data": {
            "text/html": [
              "<div>\n",
              "<style scoped>\n",
              "    .dataframe tbody tr th:only-of-type {\n",
              "        vertical-align: middle;\n",
              "    }\n",
              "\n",
              "    .dataframe tbody tr th {\n",
              "        vertical-align: top;\n",
              "    }\n",
              "\n",
              "    .dataframe thead th {\n",
              "        text-align: right;\n",
              "    }\n",
              "</style>\n",
              "<table border=\"1\" class=\"dataframe\">\n",
              "  <thead>\n",
              "    <tr style=\"text-align: right;\">\n",
              "      <th></th>\n",
              "      <th>xyz_campaign_id</th>\n",
              "      <th>Clicks</th>\n",
              "      <th>Impressions</th>\n",
              "      <th>ctr</th>\n",
              "    </tr>\n",
              "  </thead>\n",
              "  <tbody>\n",
              "    <tr>\n",
              "      <th>0</th>\n",
              "      <td>916</td>\n",
              "      <td>113</td>\n",
              "      <td>482925</td>\n",
              "      <td>0.000234</td>\n",
              "    </tr>\n",
              "    <tr>\n",
              "      <th>1</th>\n",
              "      <td>936</td>\n",
              "      <td>1984</td>\n",
              "      <td>8128187</td>\n",
              "      <td>0.000244</td>\n",
              "    </tr>\n",
              "    <tr>\n",
              "      <th>2</th>\n",
              "      <td>1178</td>\n",
              "      <td>36068</td>\n",
              "      <td>204823716</td>\n",
              "      <td>0.000176</td>\n",
              "    </tr>\n",
              "  </tbody>\n",
              "</table>\n",
              "</div>"
            ],
            "text/plain": [
              "   xyz_campaign_id  Clicks  Impressions       ctr\n",
              "0              916     113       482925  0.000234\n",
              "1              936    1984      8128187  0.000244\n",
              "2             1178   36068    204823716  0.000176"
            ]
          },
          "metadata": {},
          "execution_count": 6
        }
      ]
    },
    {
      "cell_type": "code",
      "metadata": {
        "id": "whB7lmTmwPBy",
        "colab": {
          "base_uri": "https://localhost:8080/",
          "height": 144
        },
        "outputId": "f5f835fb-f72d-49a2-86ce-03f0daba6e72"
      },
      "source": [
        "# take a look at the whole sumstats dataframe\n",
        "sumstats\n"
      ],
      "execution_count": 7,
      "outputs": [
        {
          "output_type": "execute_result",
          "data": {
            "text/html": [
              "<div>\n",
              "<style scoped>\n",
              "    .dataframe tbody tr th:only-of-type {\n",
              "        vertical-align: middle;\n",
              "    }\n",
              "\n",
              "    .dataframe tbody tr th {\n",
              "        vertical-align: top;\n",
              "    }\n",
              "\n",
              "    .dataframe thead th {\n",
              "        text-align: right;\n",
              "    }\n",
              "</style>\n",
              "<table border=\"1\" class=\"dataframe\">\n",
              "  <thead>\n",
              "    <tr style=\"text-align: right;\">\n",
              "      <th></th>\n",
              "      <th>xyz_campaign_id</th>\n",
              "      <th>Clicks</th>\n",
              "      <th>Impressions</th>\n",
              "      <th>ctr</th>\n",
              "    </tr>\n",
              "  </thead>\n",
              "  <tbody>\n",
              "    <tr>\n",
              "      <th>0</th>\n",
              "      <td>916</td>\n",
              "      <td>113</td>\n",
              "      <td>482925</td>\n",
              "      <td>0.000234</td>\n",
              "    </tr>\n",
              "    <tr>\n",
              "      <th>1</th>\n",
              "      <td>936</td>\n",
              "      <td>1984</td>\n",
              "      <td>8128187</td>\n",
              "      <td>0.000244</td>\n",
              "    </tr>\n",
              "    <tr>\n",
              "      <th>2</th>\n",
              "      <td>1178</td>\n",
              "      <td>36068</td>\n",
              "      <td>204823716</td>\n",
              "      <td>0.000176</td>\n",
              "    </tr>\n",
              "  </tbody>\n",
              "</table>\n",
              "</div>"
            ],
            "text/plain": [
              "   xyz_campaign_id  Clicks  Impressions       ctr\n",
              "0              916     113       482925  0.000234\n",
              "1              936    1984      8128187  0.000244\n",
              "2             1178   36068    204823716  0.000176"
            ]
          },
          "metadata": {},
          "execution_count": 7
        }
      ]
    },
    {
      "cell_type": "code",
      "metadata": {
        "id": "MJquIHeo7oLg",
        "colab": {
          "base_uri": "https://localhost:8080/",
          "height": 144
        },
        "outputId": "4fea6fb1-5a81-4d9d-cd59-e9a577aab5c3"
      },
      "source": [
        "# create a new column ctr_sd for the std. dev of the ctr (See hint above)\n",
        "# pay attention to PEMDAS, esp. that you want to take the sqrt after computing p*(1-p)\n",
        "# np.sqrt(x) returns the sqrt of some number x\n",
        "# alternatively, x**.5 also returns the sqrt of x\n",
        "sumstats['ctr_sd'] = np.sqrt(sumstats.ctr * (1-sumstats.ctr))\n",
        "sumstats.head()\n"
      ],
      "execution_count": 8,
      "outputs": [
        {
          "output_type": "execute_result",
          "data": {
            "text/html": [
              "<div>\n",
              "<style scoped>\n",
              "    .dataframe tbody tr th:only-of-type {\n",
              "        vertical-align: middle;\n",
              "    }\n",
              "\n",
              "    .dataframe tbody tr th {\n",
              "        vertical-align: top;\n",
              "    }\n",
              "\n",
              "    .dataframe thead th {\n",
              "        text-align: right;\n",
              "    }\n",
              "</style>\n",
              "<table border=\"1\" class=\"dataframe\">\n",
              "  <thead>\n",
              "    <tr style=\"text-align: right;\">\n",
              "      <th></th>\n",
              "      <th>xyz_campaign_id</th>\n",
              "      <th>Clicks</th>\n",
              "      <th>Impressions</th>\n",
              "      <th>ctr</th>\n",
              "      <th>ctr_sd</th>\n",
              "    </tr>\n",
              "  </thead>\n",
              "  <tbody>\n",
              "    <tr>\n",
              "      <th>0</th>\n",
              "      <td>916</td>\n",
              "      <td>113</td>\n",
              "      <td>482925</td>\n",
              "      <td>0.000234</td>\n",
              "      <td>0.015295</td>\n",
              "    </tr>\n",
              "    <tr>\n",
              "      <th>1</th>\n",
              "      <td>936</td>\n",
              "      <td>1984</td>\n",
              "      <td>8128187</td>\n",
              "      <td>0.000244</td>\n",
              "      <td>0.015621</td>\n",
              "    </tr>\n",
              "    <tr>\n",
              "      <th>2</th>\n",
              "      <td>1178</td>\n",
              "      <td>36068</td>\n",
              "      <td>204823716</td>\n",
              "      <td>0.000176</td>\n",
              "      <td>0.013269</td>\n",
              "    </tr>\n",
              "  </tbody>\n",
              "</table>\n",
              "</div>"
            ],
            "text/plain": [
              "   xyz_campaign_id  Clicks  Impressions       ctr    ctr_sd\n",
              "0              916     113       482925  0.000234  0.015295\n",
              "1              936    1984      8128187  0.000244  0.015621\n",
              "2             1178   36068    204823716  0.000176  0.013269"
            ]
          },
          "metadata": {},
          "execution_count": 8
        }
      ]
    },
    {
      "cell_type": "code",
      "metadata": {
        "id": "F1-_ImT28dJe"
      },
      "source": [
        "# take another look at the whole sumstats dataframe\n",
        "# compare the ctr_std to calculating it by hand, make sure you did this correctly.\n",
        "\n"
      ],
      "execution_count": null,
      "outputs": []
    },
    {
      "cell_type": "code",
      "metadata": {
        "colab": {
          "base_uri": "https://localhost:8080/",
          "height": 81
        },
        "id": "8yusc_gyPQL9",
        "outputId": "59eacbf8-582f-4801-a27c-925212fb3084"
      },
      "source": [
        "sumstats[sumstats['ctr']==sumstats['ctr'].max()]"
      ],
      "execution_count": 9,
      "outputs": [
        {
          "output_type": "execute_result",
          "data": {
            "text/html": [
              "<div>\n",
              "<style scoped>\n",
              "    .dataframe tbody tr th:only-of-type {\n",
              "        vertical-align: middle;\n",
              "    }\n",
              "\n",
              "    .dataframe tbody tr th {\n",
              "        vertical-align: top;\n",
              "    }\n",
              "\n",
              "    .dataframe thead th {\n",
              "        text-align: right;\n",
              "    }\n",
              "</style>\n",
              "<table border=\"1\" class=\"dataframe\">\n",
              "  <thead>\n",
              "    <tr style=\"text-align: right;\">\n",
              "      <th></th>\n",
              "      <th>xyz_campaign_id</th>\n",
              "      <th>Clicks</th>\n",
              "      <th>Impressions</th>\n",
              "      <th>ctr</th>\n",
              "      <th>ctr_sd</th>\n",
              "    </tr>\n",
              "  </thead>\n",
              "  <tbody>\n",
              "    <tr>\n",
              "      <th>1</th>\n",
              "      <td>936</td>\n",
              "      <td>1984</td>\n",
              "      <td>8128187</td>\n",
              "      <td>0.000244</td>\n",
              "      <td>0.015621</td>\n",
              "    </tr>\n",
              "  </tbody>\n",
              "</table>\n",
              "</div>"
            ],
            "text/plain": [
              "   xyz_campaign_id  Clicks  Impressions       ctr    ctr_sd\n",
              "1              936    1984      8128187  0.000244  0.015621"
            ]
          },
          "metadata": {},
          "execution_count": 9
        }
      ]
    },
    {
      "cell_type": "markdown",
      "metadata": {
        "id": "8HRyqz1Exl4Y"
      },
      "source": [
        "## Answer (edit this cell)\n",
        "The campaign with the highest CTR is: **936**\n"
      ]
    },
    {
      "cell_type": "markdown",
      "metadata": {
        "id": "cEYwuOWowQaF"
      },
      "source": [
        "# 2. (4 points) Hypothesis testing and confidence intervals\n",
        "\n",
        "1. Compute the 95% confidence interval for the CTR for each campaign. Compare the confidence intervals of campaign 916 and 936. What can you conclude about the relative perfrmance of the 2 ads in the population (e.g. are they very different, similar, etc.)? How about 916 vs. 1178?\n",
        "1. Was campaign 936 statistically different compared to campaign 916? How about 936 vs. 1178? Use the `ttest_2sample` function from the notes. Remember, you must define it in your Colab session in order to use it (execute the cell w/ the function).\n",
        "\n",
        "Given these statistical tests what would you recommend in terms of allocation of the ad budget? "
      ]
    },
    {
      "cell_type": "code",
      "metadata": {
        "id": "DJdbML1BCQ7X",
        "colab": {
          "base_uri": "https://localhost:8080/"
        },
        "outputId": "6e9728eb-0254-4924-e305-9307b96a1022"
      },
      "source": [
        "# use stats.norm.ppf([.025, .975], mean, std error)\n",
        "# where mean is sample mean and std error is std dev / sqrt(obs) (from Central Limit Theorem)\n",
        "fb['ctr'] = (fb['Clicks']/fb['Impressions'])\n",
        "\n",
        "obs_916 = len(fb[fb.xyz_campaign_id == 916].ctr)\n",
        "mean_916 = fb[fb.xyz_campaign_id == 916].ctr.mean()\n",
        "stderror_916 = (fb[fb.xyz_campaign_id == 916].ctr.std())/(np.sqrt(obs_916))\n",
        "stddev_916 = fb[fb.xyz_campaign_id == 916].ctr.std()\n",
        "\n",
        "# confidence interval for ad 916\n",
        "CI_916 = stats.norm.ppf([.025, .975], mean_916, stderror_916).round(6)\n",
        "\n",
        "print([CI_916[0],CI_916[1]])\n"
      ],
      "execution_count": 10,
      "outputs": [
        {
          "output_type": "stream",
          "name": "stdout",
          "text": [
            "[0.000138, 0.000222]\n"
          ]
        }
      ]
    },
    {
      "cell_type": "code",
      "metadata": {
        "id": "5iw0uMWEyzX1",
        "colab": {
          "base_uri": "https://localhost:8080/"
        },
        "outputId": "904f7c29-2cde-4463-b2c7-4402b3d18e68"
      },
      "source": [
        "# confidence interval for ad 936\n",
        "obs_936 = len(fb[fb.xyz_campaign_id == 936].ctr)\n",
        "mean_936 = fb[fb.xyz_campaign_id == 936].ctr.mean()\n",
        "stderror_936 = (fb[fb.xyz_campaign_id == 936].ctr.std())/(np.sqrt(obs_936))\n",
        "stddev_936 = fb[fb.xyz_campaign_id == 936].ctr.std()\n",
        "CI_936 = stats.norm.ppf([.025, .975], mean_936, stderror_936).round(6)\n",
        "\n",
        "print([CI_936[0],CI_936[1]])"
      ],
      "execution_count": 11,
      "outputs": [
        {
          "output_type": "stream",
          "name": "stdout",
          "text": [
            "[0.000151, 0.000179]\n"
          ]
        }
      ]
    },
    {
      "cell_type": "code",
      "metadata": {
        "id": "z2rG1Vd2y3GH",
        "colab": {
          "base_uri": "https://localhost:8080/"
        },
        "outputId": "129cc9c1-7c35-4cc3-a147-caae118d8718"
      },
      "source": [
        "# confidence interval for ad 1178\n",
        "obs_1178 = len(fb[fb.xyz_campaign_id == 1178].ctr)\n",
        "mean_1178 = fb[fb.xyz_campaign_id == 1178].ctr.mean()\n",
        "stderror_1178 = (fb[fb.xyz_campaign_id == 1178].ctr.std())/(np.sqrt(obs_1178))\n",
        "stddev_1178 = fb[fb.xyz_campaign_id == 1178].ctr.std()\n",
        "CI_1178 = stats.norm.ppf([.025, .975], mean_1178, stderror_1178).round(6)\n",
        "\n",
        "print([CI_1178[0],CI_1178[1]])"
      ],
      "execution_count": 12,
      "outputs": [
        {
          "output_type": "stream",
          "name": "stdout",
          "text": [
            "[0.000157, 0.000167]\n"
          ]
        }
      ]
    },
    {
      "cell_type": "markdown",
      "metadata": {
        "id": "a3WMsEHX9VOa"
      },
      "source": [
        "**Edit this cell**\n",
        "\n",
        "1. **(write 1-2 sentences to compare the confidence interval of 916 vs 936's CTR)**The confidence intervals for 916 and 936 overlap, hence; there is no significant difference between them.\n",
        "1. **(write 1-2 sentences to compare the confidence interval of 916 vs 1178's CTR)**The confidence intervals for 916 and 1178 overlap, hence; there is no significant difference between them"
      ]
    },
    {
      "cell_type": "code",
      "metadata": {
        "id": "u_jk2UHrAGoX"
      },
      "source": [
        "# Use this custom funciton\n",
        "\n",
        "def ttest_2sample(m1,sd1,N1,m2,sd2,N2, twotail = True, equalvar = False):\n",
        "    \"\"\"\n",
        "    This function requires you tu supply:\n",
        "    m1: mean of sample 1\n",
        "    sd1: std. dev of sample 1\n",
        "    N1: number of obs of sample 1\n",
        "    m2: mean of sample 2\n",
        "    sd2: std dev of sample 2\n",
        "    N2: number of obs of sample 2\n",
        "\n",
        "    Optional inputs:\n",
        "    twotail = True (default) / False. If False, then 1 tail\n",
        "    equalvar = True / False (default). If True, assumes equal population variance.\n",
        "    \"\"\"\n",
        "\n",
        "    # The difference between equal and unequal variance is only in how to compute\n",
        "    # the test statistic and degree of freedom.\n",
        "    if equalvar:\n",
        "        spsquare = ((N1-1)*sd1**2+(N2-1)*sd2**2)/(N1+N2-2) \n",
        "        T = (m1-m2)/np.sqrt(spsquare*(1/N1+1/N2))\n",
        "        nu = N1+N2-2\n",
        "    else:\n",
        "        nu = (sd1**2/N1+sd2**2/N2)**2/((sd1**2/N1)**2/(N1-1)+(sd2**2/N2)**2/(N2-1)) # new degree of freedom\n",
        "        T = (m1-m2)/(np.sqrt(sd1**2/N1+sd2**2/N2))\n",
        "    \n",
        "    # If the first mean is bigger, we need to do 1- cdf\n",
        "    # Otherwise just compute cdf\n",
        "    if m1>m2:\n",
        "        pval = 1-stats.t.cdf(T, df = nu)\n",
        "    else:\n",
        "        pval = stats.t.cdf(T, df = nu)\n",
        "\n",
        "    # return p values\n",
        "    # If 2 tail, we must multiply by 2\n",
        "    # otherwise we just return the computed pval\n",
        "    if twotail == True:\n",
        "        return pval*2\n",
        "    else:\n",
        "        return pval"
      ],
      "execution_count": 13,
      "outputs": []
    },
    {
      "cell_type": "code",
      "metadata": {
        "id": "IInYMY2dBHLv",
        "colab": {
          "base_uri": "https://localhost:8080/"
        },
        "outputId": "496adadd-88ec-4213-9af7-b7910682c5f9"
      },
      "source": [
        "# run a 2 tail 2 sample t-test to compare the population CTRs for 936 and 916\n",
        "ttest_2sample(mean_936,stddev_936,obs_936,mean_916,stddev_916,obs_916, twotail = True, equalvar = False)"
      ],
      "execution_count": 14,
      "outputs": [
        {
          "output_type": "execute_result",
          "data": {
            "text/plain": [
              "0.5080964498604692"
            ]
          },
          "metadata": {},
          "execution_count": 14
        }
      ]
    },
    {
      "cell_type": "code",
      "metadata": {
        "id": "qvEZoE2iIagx",
        "colab": {
          "base_uri": "https://localhost:8080/"
        },
        "outputId": "a8945d43-1a95-48c5-a224-9293ec3a4cdd"
      },
      "source": [
        "# run a 2 tail 2 sample t-test to compare the population CTRs for 936 and 1178\n",
        "ttest_2sample(mean_936,stddev_936,obs_936,mean_1178,stddev_1178,obs_1178, twotail = True, equalvar = False)"
      ],
      "execution_count": 16,
      "outputs": [
        {
          "output_type": "execute_result",
          "data": {
            "text/plain": [
              "0.7156337701785429"
            ]
          },
          "metadata": {},
          "execution_count": 16
        }
      ]
    },
    {
      "cell_type": "markdown",
      "metadata": {
        "id": "4_YVpVfB08wW"
      },
      "source": [
        "**Edit this cell to answer**\n",
        "\n",
        "**(Write a few sentences to describe how to proceed with the allocation of the ad budget going forward. Be sure to use the 2 tail t-tests above to support your strategy)**\n",
        "\n",
        "From the t-test performed, the p-values are greater than the significance level of 0.05. This would imply that there is no significant differences between the different campaigns."
      ]
    },
    {
      "cell_type": "markdown",
      "metadata": {
        "id": "ypanZDwVAOu2"
      },
      "source": [
        "# 3. (4 points)\n",
        "\n",
        "Using the Starbucks dataset, conduct an appropriate statistical test to determine:\n",
        "1. Is there any statistically appreciable difference in the redemption rates of BOGO vs. Discount promotions?\n",
        "1. Among those who redeemed an offer and reported their income, is there any statistical difference in the average income associated with BOGO vs. discount redemptions? Note that not every observation reports income (select only the observations that do)."
      ]
    },
    {
      "cell_type": "code",
      "metadata": {
        "id": "2hSML7pKQafY"
      },
      "source": [
        "# read in the starbucks_promos.csv file as the dataframe variable named sb, use index_col = 0 option\n",
        "sb = pd.read_csv('drive/MyDrive/MKTG3509/Data Sets/starbucks_promos.csv')"
      ],
      "execution_count": 17,
      "outputs": []
    },
    {
      "cell_type": "code",
      "metadata": {
        "id": "K3ZbG5blJPSz",
        "colab": {
          "base_uri": "https://localhost:8080/",
          "height": 434
        },
        "outputId": "c8cc7e5e-c516-4567-926b-a3c65c17464e"
      },
      "source": [
        "# preview first 5 rows to get a sense of the contents of the dataframe\n",
        "# note that each observation represents an offer received by a customer\n",
        "sb.head()"
      ],
      "execution_count": 18,
      "outputs": [
        {
          "output_type": "execute_result",
          "data": {
            "text/html": [
              "<div>\n",
              "<style scoped>\n",
              "    .dataframe tbody tr th:only-of-type {\n",
              "        vertical-align: middle;\n",
              "    }\n",
              "\n",
              "    .dataframe tbody tr th {\n",
              "        vertical-align: top;\n",
              "    }\n",
              "\n",
              "    .dataframe thead th {\n",
              "        text-align: right;\n",
              "    }\n",
              "</style>\n",
              "<table border=\"1\" class=\"dataframe\">\n",
              "  <thead>\n",
              "    <tr style=\"text-align: right;\">\n",
              "      <th></th>\n",
              "      <th>Unnamed: 0</th>\n",
              "      <th>uid</th>\n",
              "      <th>event</th>\n",
              "      <th>time</th>\n",
              "      <th>gender</th>\n",
              "      <th>age</th>\n",
              "      <th>register_date</th>\n",
              "      <th>income</th>\n",
              "      <th>offer_id</th>\n",
              "      <th>offer_reward</th>\n",
              "      <th>channels</th>\n",
              "      <th>difficulty</th>\n",
              "      <th>duration</th>\n",
              "      <th>offer_type</th>\n",
              "      <th>offer_time</th>\n",
              "      <th>transaction_amount</th>\n",
              "      <th>redeem_time</th>\n",
              "      <th>redeemed</th>\n",
              "    </tr>\n",
              "  </thead>\n",
              "  <tbody>\n",
              "    <tr>\n",
              "      <th>0</th>\n",
              "      <td>1</td>\n",
              "      <td>0020c2b971eb4e9188eac86d93036a77</td>\n",
              "      <td>offer received</td>\n",
              "      <td>0</td>\n",
              "      <td>F</td>\n",
              "      <td>59</td>\n",
              "      <td>20160304</td>\n",
              "      <td>90000.0</td>\n",
              "      <td>fafdcd668e3743c1bb461111dcafc2a4</td>\n",
              "      <td>2.0</td>\n",
              "      <td>['web', 'email', 'mobile', 'social']</td>\n",
              "      <td>10.0</td>\n",
              "      <td>240.0</td>\n",
              "      <td>discount</td>\n",
              "      <td>0.0</td>\n",
              "      <td>17.63</td>\n",
              "      <td>54.0</td>\n",
              "      <td>1</td>\n",
              "    </tr>\n",
              "    <tr>\n",
              "      <th>1</th>\n",
              "      <td>4</td>\n",
              "      <td>005500a7188546ff8a767329a2f7c76a</td>\n",
              "      <td>offer received</td>\n",
              "      <td>0</td>\n",
              "      <td>M</td>\n",
              "      <td>56</td>\n",
              "      <td>20171209</td>\n",
              "      <td>47000.0</td>\n",
              "      <td>ae264e3637204a6fb9bb56bc8210ddfd</td>\n",
              "      <td>10.0</td>\n",
              "      <td>['email', 'mobile', 'social']</td>\n",
              "      <td>10.0</td>\n",
              "      <td>168.0</td>\n",
              "      <td>bogo</td>\n",
              "      <td>0.0</td>\n",
              "      <td>NaN</td>\n",
              "      <td>NaN</td>\n",
              "      <td>0</td>\n",
              "    </tr>\n",
              "    <tr>\n",
              "      <th>2</th>\n",
              "      <td>5</td>\n",
              "      <td>0056df74b63b4298809f0b375a304cf4</td>\n",
              "      <td>offer received</td>\n",
              "      <td>0</td>\n",
              "      <td>M</td>\n",
              "      <td>54</td>\n",
              "      <td>20160821</td>\n",
              "      <td>91000.0</td>\n",
              "      <td>9b98b8c7a33c4b65b9aebfe6a799e6d9</td>\n",
              "      <td>5.0</td>\n",
              "      <td>['web', 'email', 'mobile']</td>\n",
              "      <td>5.0</td>\n",
              "      <td>168.0</td>\n",
              "      <td>bogo</td>\n",
              "      <td>0.0</td>\n",
              "      <td>27.86</td>\n",
              "      <td>132.0</td>\n",
              "      <td>1</td>\n",
              "    </tr>\n",
              "    <tr>\n",
              "      <th>3</th>\n",
              "      <td>6</td>\n",
              "      <td>00715b6e55c3431cb56ff7307eb19675</td>\n",
              "      <td>offer received</td>\n",
              "      <td>0</td>\n",
              "      <td>F</td>\n",
              "      <td>58</td>\n",
              "      <td>20171207</td>\n",
              "      <td>119000.0</td>\n",
              "      <td>ae264e3637204a6fb9bb56bc8210ddfd</td>\n",
              "      <td>10.0</td>\n",
              "      <td>['email', 'mobile', 'social']</td>\n",
              "      <td>10.0</td>\n",
              "      <td>168.0</td>\n",
              "      <td>bogo</td>\n",
              "      <td>0.0</td>\n",
              "      <td>27.26</td>\n",
              "      <td>12.0</td>\n",
              "      <td>1</td>\n",
              "    </tr>\n",
              "    <tr>\n",
              "      <th>4</th>\n",
              "      <td>8</td>\n",
              "      <td>00840a2ca5d2408e982d56544dc14ffd</td>\n",
              "      <td>offer received</td>\n",
              "      <td>0</td>\n",
              "      <td>M</td>\n",
              "      <td>26</td>\n",
              "      <td>20141221</td>\n",
              "      <td>61000.0</td>\n",
              "      <td>2906b810c7d4411798c6938adc9daaa5</td>\n",
              "      <td>2.0</td>\n",
              "      <td>['web', 'email', 'mobile']</td>\n",
              "      <td>10.0</td>\n",
              "      <td>168.0</td>\n",
              "      <td>discount</td>\n",
              "      <td>0.0</td>\n",
              "      <td>6.05</td>\n",
              "      <td>540.0</td>\n",
              "      <td>1</td>\n",
              "    </tr>\n",
              "  </tbody>\n",
              "</table>\n",
              "</div>"
            ],
            "text/plain": [
              "   Unnamed: 0                               uid  ... redeem_time  redeemed\n",
              "0           1  0020c2b971eb4e9188eac86d93036a77  ...        54.0         1\n",
              "1           4  005500a7188546ff8a767329a2f7c76a  ...         NaN         0\n",
              "2           5  0056df74b63b4298809f0b375a304cf4  ...       132.0         1\n",
              "3           6  00715b6e55c3431cb56ff7307eb19675  ...        12.0         1\n",
              "4           8  00840a2ca5d2408e982d56544dc14ffd  ...       540.0         1\n",
              "\n",
              "[5 rows x 18 columns]"
            ]
          },
          "metadata": {},
          "execution_count": 18
        }
      ]
    },
    {
      "cell_type": "code",
      "metadata": {
        "id": "iC8EEC4kJS6L",
        "colab": {
          "base_uri": "https://localhost:8080/"
        },
        "outputId": "0f7ca061-cd69-41af-f8f8-6e0d4237d35f"
      },
      "source": [
        "# select the redemed column for discount offers, name this data the variable disc\n",
        "disc = sb[sb.offer_type == \"discount\"].redeemed\n",
        "\n",
        "#Redemption rate for discount offers\n",
        "len(disc[disc == 1])/len(disc)"
      ],
      "execution_count": 19,
      "outputs": [
        {
          "output_type": "execute_result",
          "data": {
            "text/plain": [
              "0.6066856562878564"
            ]
          },
          "metadata": {},
          "execution_count": 19
        }
      ]
    },
    {
      "cell_type": "code",
      "metadata": {
        "id": "pGo0BwRTKYRb",
        "colab": {
          "base_uri": "https://localhost:8080/"
        },
        "outputId": "7a0da11a-8341-40f7-8776-58c835c96dec"
      },
      "source": [
        "# select the redemed column for buy one get one (bogo) offers, name this data the variable bogo\n",
        "bogo = sb[sb.offer_type == \"bogo\"].redeemed\n",
        "\n",
        "#Redemption rate for bogo offers\n",
        "len(bogo[bogo == 1])/len(bogo)\n"
      ],
      "execution_count": 20,
      "outputs": [
        {
          "output_type": "execute_result",
          "data": {
            "text/plain": [
              "0.5375586084789665"
            ]
          },
          "metadata": {},
          "execution_count": 20
        }
      ]
    },
    {
      "cell_type": "code",
      "metadata": {
        "id": "WpAY07u7Kbez",
        "colab": {
          "base_uri": "https://localhost:8080/"
        },
        "outputId": "0ebb7e96-8e7c-4e1a-f151-eeb682f4b1cc"
      },
      "source": [
        "# use stats.ttest_ind to test whether the 2 types of offers yield different redemption rates\n",
        "t,p =stats.ttest_ind(disc,bogo)\n",
        "print(\"Test Statistic :\", t.round(4))\n",
        "print(\"P-Value :\", p.round(4))\n"
      ],
      "execution_count": 21,
      "outputs": [
        {
          "output_type": "stream",
          "name": "stdout",
          "text": [
            "Test Statistic : 17.3016\n",
            "P-Value : 0.0\n"
          ]
        }
      ]
    },
    {
      "cell_type": "code",
      "metadata": {
        "id": "vdcPjmahLwPn",
        "colab": {
          "base_uri": "https://localhost:8080/"
        },
        "outputId": "b66944a6-4857-4201-f194-5e3c56ccdfa0"
      },
      "source": [
        "# Select the income column for those who redeemed the BOGO offer, call this the variable bogo_income\n",
        "# note you need to use 3 condtitions for the row selection: one for redeemed, one for bogo offer, and one for income is not missing\n",
        "# FYI: dataframe.somecolumn.notnull() is the Boolean evaluation for whether the somecolumn is not missing data\n",
        "bogo_income = sb[sb.offer_type == \"bogo\" ][sb.redeemed == 1][sb.income.notnull() == True].income\n"
      ],
      "execution_count": 22,
      "outputs": [
        {
          "output_type": "stream",
          "name": "stderr",
          "text": [
            "/usr/local/lib/python3.7/dist-packages/ipykernel_launcher.py:4: UserWarning: Boolean Series key will be reindexed to match DataFrame index.\n",
            "  after removing the cwd from sys.path.\n",
            "/usr/local/lib/python3.7/dist-packages/ipykernel_launcher.py:4: UserWarning: Boolean Series key will be reindexed to match DataFrame index.\n",
            "  after removing the cwd from sys.path.\n"
          ]
        }
      ]
    },
    {
      "cell_type": "code",
      "metadata": {
        "id": "9giiAZ1P6El-",
        "colab": {
          "base_uri": "https://localhost:8080/"
        },
        "outputId": "8712421e-988c-499b-d848-e92fe4de059b"
      },
      "source": [
        "# Select the income column for those who redeemed the discount offer, call this the variable disc_income\n",
        "# note you need to use 3 condtitions for the row selection: one for redeemed, one for discount offer,  and one for income is not missing\n",
        "# FYI: dataframe.somecolumn.notnull() is the Boolean evaluation for whether the somecolumn is not missing data\n",
        "disc_income = sb[sb.offer_type == \"discount\" ][sb.redeemed == 1][sb.income.notnull() == True].income\n"
      ],
      "execution_count": 23,
      "outputs": [
        {
          "output_type": "stream",
          "name": "stderr",
          "text": [
            "/usr/local/lib/python3.7/dist-packages/ipykernel_launcher.py:4: UserWarning: Boolean Series key will be reindexed to match DataFrame index.\n",
            "  after removing the cwd from sys.path.\n",
            "/usr/local/lib/python3.7/dist-packages/ipykernel_launcher.py:4: UserWarning: Boolean Series key will be reindexed to match DataFrame index.\n",
            "  after removing the cwd from sys.path.\n"
          ]
        }
      ]
    },
    {
      "cell_type": "code",
      "metadata": {
        "id": "vt9kRYVh7J2N",
        "colab": {
          "base_uri": "https://localhost:8080/"
        },
        "outputId": "998b8f28-093d-4e09-9d0e-2e28f33a10ea"
      },
      "source": [
        "# What is the average income for bogo redeemers (bogo_income.mean())?\n",
        "bogo_income.mean()\n"
      ],
      "execution_count": 24,
      "outputs": [
        {
          "output_type": "execute_result",
          "data": {
            "text/plain": [
              "70114.8559593297"
            ]
          },
          "metadata": {},
          "execution_count": 24
        }
      ]
    },
    {
      "cell_type": "code",
      "metadata": {
        "id": "GvoIFMFr7Ow1",
        "colab": {
          "base_uri": "https://localhost:8080/"
        },
        "outputId": "065782b7-f75d-4552-eb7f-dc61252a22be"
      },
      "source": [
        "# What is the average income for discount redeemers?\n",
        "disc_income.mean()\n"
      ],
      "execution_count": 25,
      "outputs": [
        {
          "output_type": "execute_result",
          "data": {
            "text/plain": [
              "68617.39130434782"
            ]
          },
          "metadata": {},
          "execution_count": 25
        }
      ]
    },
    {
      "cell_type": "code",
      "metadata": {
        "id": "zV-OOhTT6RY8",
        "colab": {
          "base_uri": "https://localhost:8080/"
        },
        "outputId": "81099498-39e8-427e-9a61-e12927c344d9"
      },
      "source": [
        "# use stats.ttest_ind to test whether the average income of the redeemers of the 2 offer types are different\n",
        "t,p =stats.ttest_ind(disc_income,bogo_income)\n",
        "print(\"Test Statistic :\", t.round(4))\n",
        "print(\"P-Value :\", p.round(4))\n"
      ],
      "execution_count": 26,
      "outputs": [
        {
          "output_type": "stream",
          "name": "stdout",
          "text": [
            "Test Statistic : -6.3434\n",
            "P-Value : 0.0\n"
          ]
        }
      ]
    },
    {
      "cell_type": "markdown",
      "metadata": {
        "id": "bhAXZ0kO6a5B"
      },
      "source": [
        "**Edit this cell**\n",
        "1. **(Write a sentence to describe the relative redemption rates of the 2 offer types based on the result of the t-test).**\n",
        "\n",
        "From the t-test performed, the p-value is very less than the significant level; therefore, the null hypothesis that there is no difference is rejected. The redemtion rates of the two offers differs.\n",
        "\n",
        "The redemption rate for discount offers is relatively higher than those of bogo offers\n",
        "1. **(Write a sentence to describe the relative incomes of the redeemers of the 2 offer types based on the result of the t-test).**\n",
        "\n",
        "From the t-test performed, the p-value is very less than the significant level; therefore, the null hypothesis that there is no difference is rejected. The income of the two offer types are different. The income of bogo redeemers is relatively higher than the discount offer type redeemers.\n",
        "\n"
      ]
    },
    {
      "cell_type": "markdown",
      "metadata": {
        "id": "j6olmZCgRvYs"
      },
      "source": [
        "**Citations:**\n",
        "Received help from stackoverflow.com , realpython.com , geeksforgeeks.org , and pandas.pydata.org looking for similar examples of lines of code that related to concepts used for HW problems\n"
      ]
    }
  ]
}